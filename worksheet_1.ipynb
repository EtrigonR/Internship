{
 "cells": [
  {
   "cell_type": "markdown",
   "id": "3a345a08",
   "metadata": {},
   "source": [
    "# Python Worsheet 1"
   ]
  },
  {
   "cell_type": "markdown",
   "id": "58165ad7",
   "metadata": {},
   "source": [
    "### 1. Write a python program to find the factorial of a number "
   ]
  },
  {
   "cell_type": "code",
   "execution_count": null,
   "id": "62bd937f",
   "metadata": {},
   "outputs": [],
   "source": [
    "# Factorial of a number \n",
    "\n",
    "# Extracting input from user to which number factorial is to be found\n",
    "number = 7\n",
    "\n",
    "# To take input from the user \n",
    "#num = int(input(\"Enter a number:\"))\n",
    "\n",
    "factorial = 1\n",
    "\n",
    "# check if the number is negative, positive or zero\n",
    "if num <0:\n",
    "    print(\"factorial number does not exist for negative number\")\n",
    "elif num == 0:\n",
    "    print(\"The factorial of 0 is 1\")\n",
    "else\n",
    "    for i in range (1,num = 1):\n",
    "        factorial = factorial* i\n",
    "    print(\"The factorial of \",num,\"is\", factorial)    "
   ]
  },
  {
   "cell_type": "raw",
   "id": "f93acc96",
   "metadata": {},
   "source": [
    "The factorial of 7 is 5040"
   ]
  },
  {
   "cell_type": "markdown",
   "id": "f5ba6160",
   "metadata": {},
   "source": [
    "### 2.Write a program to find weather a number is prime or composite."
   ]
  },
  {
   "cell_type": "code",
   "execution_count": null,
   "id": "5b41f084",
   "metadata": {},
   "outputs": [],
   "source": [
    "#Program:\n",
    "\n",
    "number = int(input(\"Enter a Number to check a prime number:\"))   \n",
    "\n",
    "\n",
    "if number >1 :\n",
    "    for i in range(2,number): \n",
    "        if (number % i) ==0:\n",
    "        print(number, \"is not a prime number\")\n",
    "    elif number == 0 or 1:\n",
    "        print (number\"is neither prime nor composite number\")\n",
    "    else:\n",
    "        print(number, \"is not a prime number it is a composite number\")"
   ]
  },
  {
   "cell_type": "raw",
   "id": "c8292454",
   "metadata": {},
   "source": [
    "Enter a number to check for Prime Number: 13\n",
    "13 is a PRIME number "
   ]
  },
  {
   "cell_type": "markdown",
   "id": "00bf639b",
   "metadata": {},
   "source": [
    "### 3.Write a python program to check whether a given string is palindrome or not."
   ]
  },
  {
   "cell_type": "code",
   "execution_count": null,
   "id": "509c6c81",
   "metadata": {},
   "outputs": [],
   "source": [
    "# Program:\n",
    "my_str=str(input(\"Enter The String\"))\n",
    "my_str=str.casefold()    \n",
    "rev_str=reversed(my_str)\n",
    "if list(my_str)==list(rev_str):\n",
    "    print('The String i Palindrome')\n",
    "else:\n",
    "    print('The String Is Not Palindrome')\n",
    "    "
   ]
  },
  {
   "cell_type": "raw",
   "id": "042d5f6d",
   "metadata": {},
   "source": [
    "Enter the String: -HAH\n",
    "The String Is Palindrome    "
   ]
  },
  {
   "cell_type": "markdown",
   "id": "a07ad5ac",
   "metadata": {},
   "source": [
    "### 4. Write a PYthon program to get the third side of right-angled triangle from two given sides."
   ]
  },
  {
   "cell_type": "code",
   "execution_count": null,
   "id": "e2b4a08b",
   "metadata": {},
   "outputs": [],
   "source": [
    "from math import sqrt\n",
    "a=int(input('Enter The Value of one side right-angle:-'))\n",
    "b=int(input('Enter The Value of second side right angle:-'))\n",
    "c=sqrt(a**2+b**2)\n",
    "\n",
    "print('Value of Third side of right-angle triangle =',c)\n"
   ]
  },
  {
   "cell_type": "raw",
   "id": "83683795",
   "metadata": {},
   "source": [
    "Enter The Value of one side right-angle:-3\n",
    "Enter The Value of second side right angle:-4\n",
    "Value of Third side of right-angle triangle =5"
   ]
  },
  {
   "cell_type": "markdown",
   "id": "fb69a634",
   "metadata": {},
   "source": [
    "### 5.Write a python program to print the frequency of each of the characters present in a given string."
   ]
  },
  {
   "cell_type": "code",
   "execution_count": null,
   "id": "aaa68f38",
   "metadata": {},
   "outputs": [],
   "source": [
    "from collections import Counter\n",
    "\n",
    "str= input(\"Enter a string\")\n",
    "count={}\n",
    "\n",
    "for i in str:\n",
    "    if i in count.keys():\n",
    "        count[i]+=1\n",
    "    else:\n",
    "        count[i]=1\n",
    "print(count)        "
   ]
  },
  {
   "cell_type": "raw",
   "id": "555f3d62",
   "metadata": {},
   "source": [
    "Enter a stringrohit \n",
    "{'r':1,'o':1,'h':1,'i':1,'t':1}\n"
   ]
  },
  {
   "cell_type": "code",
   "execution_count": null,
   "id": "2e0bafe0",
   "metadata": {},
   "outputs": [],
   "source": []
  }
 ],
 "metadata": {
  "kernelspec": {
   "display_name": "Python 3",
   "language": "python",
   "name": "python3"
  },
  "language_info": {
   "codemirror_mode": {
    "name": "ipython",
    "version": 3
   },
   "file_extension": ".py",
   "mimetype": "text/x-python",
   "name": "python",
   "nbconvert_exporter": "python",
   "pygments_lexer": "ipython3",
   "version": "3.8.8"
  }
 },
 "nbformat": 4,
 "nbformat_minor": 5
}
