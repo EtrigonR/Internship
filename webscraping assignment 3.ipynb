{
 "cells": [
  {
   "cell_type": "code",
   "execution_count": 6,
   "id": "1d07dcbb",
   "metadata": {},
   "outputs": [],
   "source": [
    "#importing necessary libraries\n",
    "\n",
    "import pandas as pd  #pandas are for making dataframes\n",
    "import selenium      #for automating\n",
    "from selenium import webdriver\n",
    "import time\n",
    "from selenium.common.exceptions import NoSuchElementException #for exception handling\n",
    "import warnings\n",
    "warnings.filterwarnings(\"ignore\")"
   ]
  },
  {
   "cell_type": "code",
   "execution_count": 7,
   "id": "f941d29f",
   "metadata": {},
   "outputs": [],
   "source": [
    " # lets first connect to web driver \n",
    "driver = webdriver.Chrome(r'C:\\Users\\ROHIT RAJAN\\Downloads\\chromedriver_win32\\chromedriver.exe')\n"
   ]
  },
  {
   "cell_type": "code",
   "execution_count": 8,
   "id": "3990a8e4",
   "metadata": {},
   "outputs": [],
   "source": [
    "url = 'https://www.amazon.in/' \n",
    "driver.get(url)"
   ]
  },
  {
   "cell_type": "code",
   "execution_count": 9,
   "id": "d4575297",
   "metadata": {},
   "outputs": [],
   "source": [
    "#searching for guitars on search page by using selenium\n",
    "\n",
    "search = driver.find_element_by_id(\"twotabsearchtextbox\")\n",
    "search.send_keys(\"Guitar\")\n",
    "\n",
    "search_btn = driver.find_element_by_id(\"nav-search-submit-button\")\n",
    "search_btn.click()"
   ]
  },
  {
   "cell_type": "markdown",
   "id": "40aab417",
   "metadata": {},
   "source": [
    "### 2) In the above question, now scrape the following details of each product listed in first 3 pages of your search results\n",
    "### and save it in a data frame and csv. In case if any product vertical has less than 3 pages in search results then scrape\n",
    "### all the products available under that product vertical. Details to be scraped are: \"Brand Name\", \"Name of the Product\",\n",
    "### \"Rating\", \"No. of Ratings\", \"Price\", \"Return/Exchange\", \"Expected Delivery\", \"Availability\", \"Other Details\" and “Product\n",
    "### URL”. In case, if any of the details are missing for any of the product then replace it by “-“"
   ]
  },
  {
   "cell_type": "code",
   "execution_count": 10,
   "id": "faef55b6",
   "metadata": {},
   "outputs": [
    {
     "data": {
      "text/plain": [
       "1"
      ]
     },
     "execution_count": 10,
     "metadata": {},
     "output_type": "execute_result"
    }
   ],
   "source": [
    "# Let's check each page to extract the above information...\n",
    "\n",
    "urls = []\n",
    "for i in driver.find_elements_by_xpath(\"//a[@class='a-link-normal a-text-normal']\"):\n",
    "    urls.append(i.get_attribute(\"href\"))\n",
    "\n",
    "len(urls)"
   ]
  },
  {
   "cell_type": "code",
   "execution_count": 12,
   "id": "70ada4b6",
   "metadata": {},
   "outputs": [
    {
     "data": {
      "text/plain": [
       "1"
      ]
     },
     "execution_count": 12,
     "metadata": {},
     "output_type": "execute_result"
    }
   ],
   "source": [
    "#applying loops\n",
    "brand_name = [] \n",
    "product_name = [] \n",
    "rating_total = [] \n",
    "price = []\n",
    "for i in urls:\n",
    "    driver.get(i) \n",
    "    try:\n",
    "        brand = driver.find_element_by_xpath(\"//td[@class='a-span9']/span\")\n",
    "        brand_name.append(brand.text)\n",
    "    except:\n",
    "        brand_name.append('-')         \n",
    "    try:\n",
    "        product =  driver.find_element_by_id(\"productTitle\")\n",
    "        product_name.append(product.text)\n",
    "    except:\n",
    "        product_name.append('-')   \n",
    "    try:\n",
    "        rate = driver.find_element_by_id(\"acrCustomerReviewText\")\n",
    "        rating_total.append(rate.text)\n",
    "    except:\n",
    "        rating_total.append('-')\n",
    "    try:\n",
    "        total_price = driver.find_element_by_id(\"priceblock_dealprice\")\n",
    "        price.append(total_price.text)\n",
    "    except:\n",
    "        price.append('-')       \n",
    "        \n",
    "len(brand_name)\n",
    "len(product_name)\n",
    "len(rating_total)\n",
    "len(price)"
   ]
  },
  {
   "cell_type": "code",
   "execution_count": 13,
   "id": "54830bd8",
   "metadata": {},
   "outputs": [],
   "source": [
    "# making a dataframe\n",
    "\n",
    "product_page = pd.DataFrame({})\n",
    "\n",
    "product_page['Brand']= brand_name\n",
    "product_page['Name of the product']= product_name\n",
    "product_page['number of ratings']= rating_total\n",
    "product_page['price of the item']= price\n",
    "product_page['url of the page']= urls\n"
   ]
  },
  {
   "cell_type": "code",
   "execution_count": 14,
   "id": "6652b66c",
   "metadata": {},
   "outputs": [
    {
     "data": {
      "text/html": [
       "<div>\n",
       "<style scoped>\n",
       "    .dataframe tbody tr th:only-of-type {\n",
       "        vertical-align: middle;\n",
       "    }\n",
       "\n",
       "    .dataframe tbody tr th {\n",
       "        vertical-align: top;\n",
       "    }\n",
       "\n",
       "    .dataframe thead th {\n",
       "        text-align: right;\n",
       "    }\n",
       "</style>\n",
       "<table border=\"1\" class=\"dataframe\">\n",
       "  <thead>\n",
       "    <tr style=\"text-align: right;\">\n",
       "      <th></th>\n",
       "      <th>Brand</th>\n",
       "      <th>Name of the product</th>\n",
       "      <th>number of ratings</th>\n",
       "      <th>price of the item</th>\n",
       "      <th>url of the page</th>\n",
       "    </tr>\n",
       "  </thead>\n",
       "  <tbody>\n",
       "    <tr>\n",
       "      <th>0</th>\n",
       "      <td>Kadence</td>\n",
       "      <td>Kadence Guitar Acoustica Series, Electric Acou...</td>\n",
       "      <td>901 ratings</td>\n",
       "      <td>-</td>\n",
       "      <td>https://aax-eu.amazon.in/x/c/Qj0HSd7pceGWpv2qd...</td>\n",
       "    </tr>\n",
       "  </tbody>\n",
       "</table>\n",
       "</div>"
      ],
      "text/plain": [
       "     Brand                                Name of the product  \\\n",
       "0  Kadence  Kadence Guitar Acoustica Series, Electric Acou...   \n",
       "\n",
       "  number of ratings price of the item  \\\n",
       "0       901 ratings                 -   \n",
       "\n",
       "                                     url of the page  \n",
       "0  https://aax-eu.amazon.in/x/c/Qj0HSd7pceGWpv2qd...  "
      ]
     },
     "execution_count": 14,
     "metadata": {},
     "output_type": "execute_result"
    }
   ],
   "source": [
    "product_page  #displaying the dataset"
   ]
  },
  {
   "cell_type": "markdown",
   "id": "5ec208e5",
   "metadata": {},
   "source": [
    "### 3)Write a python program to access the search bar and search button on images.google.com and scrape 10 ### images each for keywords ‘fruits’, ‘cars’ and ‘Machine Learning’, ‘Guitar’, ‘Cakes’."
   ]
  },
  {
   "cell_type": "code",
   "execution_count": 100,
   "id": "2f3fce82",
   "metadata": {},
   "outputs": [],
   "source": [
    "import selenium\n",
    "import pandas as pd\n",
    "import time\n",
    "from selenium import webdriver\n"
   ]
  },
  {
   "cell_type": "code",
   "execution_count": 101,
   "id": "29a69aa6",
   "metadata": {},
   "outputs": [],
   "source": [
    "# lets first connect to web driver \n",
    "driver = webdriver.Chrome(r'C:\\Users\\ROHIT RAJAN\\Downloads\\chromedriver_win32\\chromedriver.exe')\n"
   ]
  },
  {
   "cell_type": "code",
   "execution_count": 102,
   "id": "6bc38e4e",
   "metadata": {},
   "outputs": [],
   "source": [
    "search_url=\"https://www.google.com/search?q={q}&tbm=isch&tbs=sur%3Afc&hl=en&ved=0CAIQpwVqFwoTCKCa1c6s4-oCFQAAAAAdAAAAABAC&biw=1251&bih=568\"\n",
    "driver.get(search_url.format(q='fruits'))\n"
   ]
  },
  {
   "cell_type": "code",
   "execution_count": 106,
   "id": "c5392939",
   "metadata": {},
   "outputs": [],
   "source": [
    "imgResults = driver.find_elements_by_xpath(\"//img[contains(@class,'Q4LuWd')]\")\n",
    "totalResults=len(imgResults)"
   ]
  },
  {
   "cell_type": "code",
   "execution_count": null,
   "id": "53a7a113",
   "metadata": {},
   "outputs": [],
   "source": [
    "img_urls"
   ]
  },
  {
   "cell_type": "markdown",
   "id": "678f6ffe",
   "metadata": {},
   "source": [
    "### Cars"
   ]
  },
  {
   "cell_type": "code",
   "execution_count": 108,
   "id": "5891aa68",
   "metadata": {},
   "outputs": [],
   "source": [
    "import selenium\n",
    "import pandas as pd\n",
    "import time\n",
    "from selenium import webdriver"
   ]
  },
  {
   "cell_type": "code",
   "execution_count": 109,
   "id": "da061a68",
   "metadata": {},
   "outputs": [],
   "source": [
    "# lets first connect to web driver \n",
    "driver = webdriver.Chrome(r'C:\\Users\\ROHIT RAJAN\\Downloads\\chromedriver_win32\\chromedriver.exe')\n"
   ]
  },
  {
   "cell_type": "code",
   "execution_count": 110,
   "id": "0948dbcf",
   "metadata": {},
   "outputs": [],
   "source": [
    "search_url=\"https://www.google.com/search?q={q}&tbm=isch&tbs=sur%3Afc&hl=en&ved=0CAIQpwVqFwoTCKCa1c6s4-oCFQAAAAAdAAAAABAC&biw=1251&bih=568\"\n",
    "driver.get(search_url.format(q='cars'))"
   ]
  },
  {
   "cell_type": "code",
   "execution_count": null,
   "id": "a938e1e3",
   "metadata": {},
   "outputs": [],
   "source": []
  },
  {
   "cell_type": "markdown",
   "id": "2d472a57",
   "metadata": {},
   "source": [
    "### 4.Write a python program to search for a smartphone(e.g.: Oneplus Nord, pixel 4A, etc.) on www.flipkart.com and scrape following details for all the search results displayed on 1st page. Details to be scraped: “Brand Name”, “Smartphone name”, “Colour”, “RAM”, “Storage(ROM)”, “Primary Camera”, “Secondary Camera”, “Display Size”, “Display Resolution”, “Processor”, “Processor Cores”, “Battery Capacity”, “Price”, “Product URL”. In case if any of the details is missing then replace it by “- “. Save your results in a dataframe and CSV"
   ]
  },
  {
   "cell_type": "code",
   "execution_count": 24,
   "id": "4a942418",
   "metadata": {},
   "outputs": [],
   "source": [
    "# lets first connect to web driver \n",
    "driver = webdriver.Chrome(r'C:\\Users\\ROHIT RAJAN\\Downloads\\chromedriver_win32\\chromedriver.exe')\n"
   ]
  },
  {
   "cell_type": "code",
   "execution_count": 25,
   "id": "a8531d4b",
   "metadata": {},
   "outputs": [],
   "source": [
    "url = \"https://www.flipkart.com/\"\n",
    "driver.get(url)"
   ]
  },
  {
   "cell_type": "code",
   "execution_count": 26,
   "id": "3021bf89",
   "metadata": {},
   "outputs": [],
   "source": [
    "time.sleep(2)"
   ]
  },
  {
   "cell_type": "code",
   "execution_count": 28,
   "id": "7e4c5dc4",
   "metadata": {},
   "outputs": [],
   "source": [
    "search_bar=driver.find_element_by_class_name(\"_3704LK\")\n",
    "search_bar.clear()\n",
    "search_bar.send_keys('smartphones')\n"
   ]
  },
  {
   "cell_type": "code",
   "execution_count": 29,
   "id": "188d09f6",
   "metadata": {},
   "outputs": [],
   "source": [
    "time.sleep(2)"
   ]
  },
  {
   "cell_type": "code",
   "execution_count": 31,
   "id": "6f141d4b",
   "metadata": {},
   "outputs": [],
   "source": [
    "button=driver.find_element_by_class_name('L0Z3Pu')\n",
    "button.click()"
   ]
  },
  {
   "cell_type": "code",
   "execution_count": 32,
   "id": "288d2df1",
   "metadata": {},
   "outputs": [],
   "source": [
    "brand=[]\n",
    "price=[]\n",
    "RamRom=[]\n",
    "PrimaryCamera=[]"
   ]
  },
  {
   "cell_type": "code",
   "execution_count": 33,
   "id": "4f1922f0",
   "metadata": {},
   "outputs": [],
   "source": [
    "time.sleep(3)\n"
   ]
  },
  {
   "cell_type": "code",
   "execution_count": 42,
   "id": "c8522c10",
   "metadata": {},
   "outputs": [
    {
     "ename": "IndentationError",
     "evalue": "unexpected indent (Temp/ipykernel_26300/412148150.py, line 2)",
     "output_type": "error",
     "traceback": [
      "\u001b[1;36m  File \u001b[1;32m\"C:\\Users\\ROHITR~1\\AppData\\Local\\Temp/ipykernel_26300/412148150.py\"\u001b[1;36m, line \u001b[1;32m2\u001b[0m\n\u001b[1;33m    for i in brands:\u001b[0m\n\u001b[1;37m    ^\u001b[0m\n\u001b[1;31mIndentationError\u001b[0m\u001b[1;31m:\u001b[0m unexpected indent\n"
     ]
    }
   ],
   "source": [
    "\n",
    "   brands=driver.find_elements_by_class_name('_4rR01T')\n",
    "    for i in brands:\n",
    "        brand.append(i.text)\n",
    "        \n",
    "    prices=driver.find_elements_by_xpath(\"//div[@class='_30jeq3 _1_WHN1']\")\n",
    "    for i in prices:\n",
    "        price.append(i.text)\n",
    "\n",
    "    ramrom=driver.find_elements_by_xpath(\"//div[@class='rgWa7D']\")\n",
    "    for i in ramrom:\n",
    "        RamRom.append(i.text)   \n",
    "        \n",
    "    Pcamera=driver.find_elements_by_xpath(\"//div[@class='rgWa7D']\")\n",
    "    for i in ramrom:\n",
    "        PrimaryCamera.append(i.text) "
   ]
  },
  {
   "cell_type": "markdown",
   "id": "cb46011a",
   "metadata": {},
   "source": [
    "### 5.Write a program to scrap geospatial coordinates (latitude, longitude) of a city searched on google maps."
   ]
  },
  {
   "cell_type": "code",
   "execution_count": null,
   "id": "23a58dee",
   "metadata": {},
   "outputs": [],
   "source": [
    "#importing all the required libraries\n",
    "import pandas as pd\n",
    "import selenium\n",
    "from selenium import webdriver\n",
    "import re\n",
    "import requests\n",
    "from selenium.common.exceptions import StaleElementReferenceException, NoSuchElementException"
   ]
  },
  {
   "cell_type": "code",
   "execution_count": 43,
   "id": "cbc8d72b",
   "metadata": {},
   "outputs": [],
   "source": [
    "# lets first connect to web driver \n",
    "driver = webdriver.Chrome(r'C:\\Users\\ROHIT RAJAN\\Downloads\\chromedriver_win32\\chromedriver.exe')\n"
   ]
  },
  {
   "cell_type": "code",
   "execution_count": 44,
   "id": "df92964e",
   "metadata": {},
   "outputs": [],
   "source": [
    "# opening google maps\n",
    "driver.get(\"https://www.google.co.in/maps\")\n",
    "time.sleep(3)"
   ]
  },
  {
   "cell_type": "code",
   "execution_count": 50,
   "id": "c1dceea4",
   "metadata": {},
   "outputs": [
    {
     "name": "stdout",
     "output_type": "stream",
     "text": [
      "Enter City Name : New Delhi\n"
     ]
    }
   ],
   "source": [
    "city = input('Enter City Name : ')                                       \n",
    "search = driver.find_element_by_id(\"searchboxinput\")                    \n",
    "search.clear() "
   ]
  },
  {
   "cell_type": "code",
   "execution_count": 52,
   "id": "cfb442b2",
   "metadata": {},
   "outputs": [],
   "source": [
    "time.sleep(2)\n",
    "search.send_keys(city)                                                    \n",
    "button = driver.find_element_by_id(\"searchbox-searchbutton\")\n",
    "button.click()                                                          \n",
    "time.sleep(3)\n"
   ]
  },
  {
   "cell_type": "code",
   "execution_count": 55,
   "id": "28f082e7",
   "metadata": {},
   "outputs": [
    {
     "name": "stdout",
     "output_type": "stream",
     "text": [
      "URL Extracted:  https://www.google.co.in/maps/place/New+Delhi,+Delhi/@28.5272803,77.0688947,11z/data=!3m1!4b1!4m5!3m4!1s0x390cfd5b347eb62d:0x52c2b7494e204dce!8m2!3d28.6139391!4d77.2090212\n",
      "Error:  name 're' is not defined\n"
     ]
    }
   ],
   "source": [
    "\n",
    "try:\n",
    "    url_string = driver.current_url\n",
    "    print(\"URL Extracted: \", url_string)\n",
    "    lat_lng = re.findall(r'@(.*)data',url_string)\n",
    "    if len(lat_lng):\n",
    "        lat_lng_list = lat_lng[0].split(\",\")\n",
    "        if len(lat_lng_list)>=2:\n",
    "            lat = lat_lng_list[0]\n",
    "            lng = lat_lng_list[1]\n",
    "        print(\"Latitude = {}, Longitude = {}\".format(lat, lng))\n",
    "        \n",
    "except Exception as e:\n",
    "        print(\"Error: \", str(e))        "
   ]
  },
  {
   "cell_type": "markdown",
   "id": "8dc97a22",
   "metadata": {},
   "source": [
    "### Q6.Write a program to scrap details of all the funding deals for second quarter (i.e. July 20 – September 20) from trak.in."
   ]
  },
  {
   "cell_type": "code",
   "execution_count": 83,
   "id": "f2805ce0",
   "metadata": {},
   "outputs": [],
   "source": [
    "#importing all the required libraries\n",
    "import pandas as pd\n",
    "import selenium\n",
    "from selenium import webdriver\n",
    "import re\n",
    "import requests\n",
    "from selenium.common.exceptions import StaleElementReferenceException, NoSuchElementException"
   ]
  },
  {
   "cell_type": "code",
   "execution_count": 84,
   "id": "119afec5",
   "metadata": {},
   "outputs": [],
   "source": [
    "# lets first connect to web driver \n",
    "driver = webdriver.Chrome(r'C:\\Users\\ROHIT RAJAN\\Downloads\\chromedriver_win32\\chromedriver.exe')"
   ]
  },
  {
   "cell_type": "code",
   "execution_count": 85,
   "id": "3839e336",
   "metadata": {},
   "outputs": [],
   "source": [
    "driver.get('https://trak.in/india-startup-funding-investment-2015/')\n",
    "time.sleep(3)"
   ]
  },
  {
   "cell_type": "markdown",
   "id": "54926a58",
   "metadata": {},
   "source": [
    "#### JULY 2020"
   ]
  },
  {
   "cell_type": "code",
   "execution_count": 86,
   "id": "e0474319",
   "metadata": {},
   "outputs": [
    {
     "data": {
      "text/plain": [
       "[   Sr. No. Date (dd/mm/yyyy)               Startup Name  \\\n",
       " 0        1        15/07/2020                   Flipkart   \n",
       " 1        2        16/07/2020                    Vedantu   \n",
       " 2        3        16/07/2020                       Crio   \n",
       " 3        4        14/07/2020                    goDutch   \n",
       " 4        5        13/07/2020                   Mystifly   \n",
       " 5        6        09/07/2020               JetSynthesys   \n",
       " 6        7        10/07/2020                   gigIndia   \n",
       " 7        8        15/07/2020                  PumPumPum   \n",
       " 8        9        14/07/2020                       FLYX   \n",
       " 9       10        13/07/2020  Open Appliances Pvt. Ltd.   \n",
       " \n",
       "         Industry / Vertical  \\\n",
       " 0                E-commerce   \n",
       " 1                   EduTech   \n",
       " 2                   EduTech   \n",
       " 3                   FinTech   \n",
       " 4       Airfare Marketplace   \n",
       " 5  Gaming and Entertainment   \n",
       " 6               Marketplace   \n",
       " 7         Automotive Rental   \n",
       " 8                OTT Player   \n",
       " 9    Information Technology   \n",
       " \n",
       "                                         Sub-Vertical          City / Location  \\\n",
       " 0                                         E-commerce                Bangalore   \n",
       " 1                                    Online Tutoring                Bangalore   \n",
       " 2                   Learning Platform for Developers                Bangalore   \n",
       " 3                                     Group Payments                   Mumbai   \n",
       " 4  Ticketing, Airline Retailing, and Post-Ticketi...  Singapore and Bangalore   \n",
       " 5                           Gaming and Entertainment                     Pune   \n",
       " 6                          Crowd Sourcing, Freelance                     Pune   \n",
       " 7                          Used Car-leasing platform                  Gurgaon   \n",
       " 8                           Streaming Social Network       New York and Delhi   \n",
       " 9              Internet-of-Things Security Solutions                Bangalore   \n",
       " \n",
       "                                      Investors' Name         Investment Type  \\\n",
       " 0                                        Walmart Inc                     M&A   \n",
       " 1                                  Coatue Management                Series D   \n",
       " 2                                        021 Capital            pre-Series A   \n",
       " 3  Matrix India,Y Combinator, Global Founders Cap...                    Seed   \n",
       " 4                                   Recruit Co. Ltd.            pre-Series B   \n",
       " 5           Adar Poonawalla and Kris Gopalakrishnan.  Venture-Series Unknown   \n",
       " 6       Incubate Fund India and Beyond Next Ventures            pre-Series A   \n",
       " 7                           Early Adapters Syndicate                    Seed   \n",
       " 8              Raj Mishra, founder of AIT Global Inc                pre-Seed   \n",
       " 9                             Unicorn India Ventures  Venture-Series Unknown   \n",
       " \n",
       "    Amount (In USD)  \n",
       " 0       1200000000  \n",
       " 1        100000000  \n",
       " 2           934160  \n",
       " 3          1700000  \n",
       " 4          3300000  \n",
       " 5           400000  \n",
       " 6           974200  \n",
       " 7           292800  \n",
       " 8           200000  \n",
       " 9           500000  ]"
      ]
     },
     "execution_count": 86,
     "metadata": {},
     "output_type": "execute_result"
    }
   ],
   "source": [
    "tbl1 = driver.find_element_by_xpath(\"/html/body/div[1]/main/div/div/div/div[2]/div[1]/div/div/div/div[1]/div/div[11]/div[3]/div[2]/table\").get_attribute('outerHTML')\n",
    "df1  = pd.read_html(tbl1)\n",
    "df1"
   ]
  },
  {
   "cell_type": "markdown",
   "id": "1cf31c39",
   "metadata": {},
   "source": [
    "#### AUGUST 2020"
   ]
  },
  {
   "cell_type": "code",
   "execution_count": 88,
   "id": "ad9cd456",
   "metadata": {},
   "outputs": [
    {
     "data": {
      "text/plain": [
       "[   Sr. No. Date (dd/mm/yyyy) Startup Name    Industry / Vertical  \\\n",
       " 0        1        15/08/2020       Practo             HealthTech   \n",
       " 1        2        13/08/2020      Medlife             E-commerce   \n",
       " 2        3        13/08/2020    HungerBox               FoodTech   \n",
       " 3        4        04/08/2020        Dunzo  Hyper-local Logistics   \n",
       " 4        5        11/08/2020     Terra.do                EduTech   \n",
       " 5        6        12/08/2020    Classplus                EduTech   \n",
       " 6        7        14/08/2020         Niyo                FinTech   \n",
       " 7        8        10/08/2020    ZestMoney                FinTech   \n",
       " 8        9        07/08/2020  FreshToHome             E-commerce   \n",
       " 9       10        13/08/2020      Eduvanz                FinTech   \n",
       " \n",
       "                         Sub-Vertical        City / Location  \\\n",
       " 0           Health care and Wellness              Bangalore   \n",
       " 1                    Online Pharmacy              Bangalore   \n",
       " 2       Online Food Delivery Service              Bangalore   \n",
       " 3           Online Delivery Services              Bangalore   \n",
       " 4  Online Climate School, E-learning  Stanford, California,   \n",
       " 5        E-learning, Online Tutoring                  Noida   \n",
       " 6                 Financial Services              Bangalore   \n",
       " 7                 Financial Services              Bangalore   \n",
       " 8                      Food Delivery              Bangalore   \n",
       " 9                 Financial Services                 Mumbai   \n",
       " \n",
       "                                      Investors' Name Investment Type  \\\n",
       " 0                                        A1A Company        Series F   \n",
       " 1         Prasid Uno Family Trust and SC Credit Fund             NaN   \n",
       " 2  One97, Sabre Partners Trust, Pratithi Investme...       Series D1   \n",
       " 3                                   Existing Backers     In Progress   \n",
       " 4  Stanford Angels and Entrepreneurs (India), BEE...            Seed   \n",
       " 5                                        Falcon Edge     In Progress   \n",
       " 6                                Niyo Solutions Inc.             NaN   \n",
       " 7                            Primrose Hills Ventures             NaN   \n",
       " 8                                     Ascent Capital         Venture   \n",
       " 9                              Sequoia India, Unitus        Series A   \n",
       " \n",
       "    Amount (In USD)  \n",
       " 0         32000000  \n",
       " 1         23000000  \n",
       " 2          1560000  \n",
       " 3         30000000  \n",
       " 4          1400000  \n",
       " 5  upto 15,000,000  \n",
       " 6          6000000  \n",
       " 7         10670000  \n",
       " 8         16200000  \n",
       " 9          5000000  ]"
      ]
     },
     "execution_count": 88,
     "metadata": {},
     "output_type": "execute_result"
    }
   ],
   "source": [
    "tbl2 = driver.find_element_by_xpath(\"/html/body/div[1]/main/div/div/div/div[2]/div[1]/div/div/div/div[1]/div/div[10]/div[3]/div[2]/table\").get_attribute('outerHTML')\n",
    "df2  = pd.read_html(tbl2)\n",
    "df2"
   ]
  },
  {
   "cell_type": "markdown",
   "id": "1282172f",
   "metadata": {},
   "source": [
    "#### SEPTEMBER 2020"
   ]
  },
  {
   "cell_type": "code",
   "execution_count": 89,
   "id": "67a0d078",
   "metadata": {},
   "outputs": [
    {
     "data": {
      "text/plain": [
       "[   Sr. No. Date (dd/mm/yyyy) Startup Name  \\\n",
       " 0        1        08/09/2020       Byju’s   \n",
       " 1        2        12/09/2020    mCaffeine   \n",
       " 2        3        09/09/2020       Qshala   \n",
       " 3        4        02/09/2020        Winzo   \n",
       " 4        5        09/09/2020  Hippo Video   \n",
       " 5        6        07/09/2020      Melorra   \n",
       " 6        7        07/09/2020          1mg   \n",
       " 7        8        31/08/2020        mfine   \n",
       " 8        9        31/08/2020         Apna   \n",
       " 9       10        03/09/2020      Railofy   \n",
       " \n",
       "                       Industry / Vertical  \\\n",
       " 0                                 EduTech   \n",
       " 1                           Personal Care   \n",
       " 2                                 EduTech   \n",
       " 3                           Online Gaming   \n",
       " 4  Video Customer Experience(CX) Platform   \n",
       " 5                              E-commerce   \n",
       " 6                              E-commerce   \n",
       " 7                              HealthTech   \n",
       " 8                         Human Resources   \n",
       " 9                          Transportation   \n",
       " \n",
       "                              Sub-Vertical  \\\n",
       " 0                         Online Tutoring   \n",
       " 1                     Skincare & Haircare   \n",
       " 2      Online Curiosity Platform for Kids   \n",
       " 3                           Online Gaming   \n",
       " 4  Video Customer Experience(CX) Platform   \n",
       " 5                    Online Jewelry Store   \n",
       " 6                         Online Pharmacy   \n",
       " 7           On-Demand Healthcare Services   \n",
       " 8                    Recruitment Platform   \n",
       " 9            WL & RAC protection platform   \n",
       " \n",
       "                               City / Location  \\\n",
       " 0                                   Bangalore   \n",
       " 1                                      Mumbai   \n",
       " 2                                   Bangalore   \n",
       " 3                                   New Delhi   \n",
       " 4  Newark, Delaware, United States of Amercia   \n",
       " 5                                   Bangalore   \n",
       " 6                                     Gurgaon   \n",
       " 7                                   Bangalore   \n",
       " 8                                   Bangalore   \n",
       " 9                                      Mumbai   \n",
       " \n",
       "                                      Investors' Name Investment Type  \\\n",
       " 0  Silver Lake, Tiger Global, General Atlantic an...  Private Equity   \n",
       " 1  Amicus Capital Private Equity I LLP, Amicus Ca...        Series B   \n",
       " 2                                 Rainmatter Capital           Angel   \n",
       " 3  Kalaari Capital Partners, IndigoEdge Managemen...        Series B   \n",
       " 4  Alpha Wave Incubation, Exfinity Venture Partne...        Series A   \n",
       " 5                         Shadow Holdings, Lightbox.  Debt Financing   \n",
       " 6         Gaja Capital, Tata Capital, Partners Group     In Progress   \n",
       " 7                                   Caretech Pte Inc        Series B   \n",
       " 8         Lightspeed India and Sequoia Capital India        Series A   \n",
       " 9                                  Chiratae Ventures            Seed   \n",
       " \n",
       "   Amount (In USD)  \n",
       " 0       500000000  \n",
       " 1         3000000  \n",
       " 2          370000  \n",
       " 3        15500000  \n",
       " 4         4500000  \n",
       " 5  upto 8,900,000  \n",
       " 6       100000000  \n",
       " 7         5400000  \n",
       " 8         8000000  \n",
       " 9          950000  ]"
      ]
     },
     "execution_count": 89,
     "metadata": {},
     "output_type": "execute_result"
    }
   ],
   "source": [
    "tbl3 = driver.find_element_by_xpath(\"/html/body/div[1]/main/div/div/div/div[2]/div[1]/div/div/div/div[1]/div/div[9]/div[3]/div[2]/table\").get_attribute('outerHTML')\n",
    "df3  = pd.read_html(tbl3)\n",
    "df3"
   ]
  },
  {
   "cell_type": "markdown",
   "id": "631ecb67",
   "metadata": {},
   "source": [
    "### 6) Write a program to scrap details of all the funding deals for second quarter (i.e Jan 21 – March 21) from trak.in"
   ]
  },
  {
   "cell_type": "markdown",
   "id": "877cca24",
   "metadata": {},
   "source": [
    "### 7) Write a program to scrap all the available details of best gaming laptops from digit.in."
   ]
  },
  {
   "cell_type": "code",
   "execution_count": 129,
   "id": "d8328caa",
   "metadata": {},
   "outputs": [],
   "source": [
    "# lets first connect to web driver \n",
    "driver = webdriver.Chrome(r'C:\\Users\\ROHIT RAJAN\\Downloads\\chromedriver_win32\\chromedriver.exe')\n"
   ]
  },
  {
   "cell_type": "code",
   "execution_count": 130,
   "id": "0b6d9748",
   "metadata": {},
   "outputs": [],
   "source": [
    "url =  'https://www.digit.in/'\n",
    "driver.get(url)"
   ]
  },
  {
   "cell_type": "code",
   "execution_count": 131,
   "id": "290ca583",
   "metadata": {},
   "outputs": [],
   "source": [
    "top10btn = driver.find_element_by_xpath('/html/body/div[1]/div/div[4]/ul/li[4]/a')\n",
    "top10btn.click() #clicking on top 10 button"
   ]
  },
  {
   "cell_type": "code",
   "execution_count": 132,
   "id": "f42e5a9b",
   "metadata": {},
   "outputs": [],
   "source": [
    "gaminglaptopbtn = driver.find_element_by_xpath('/html/body/div[3]/div/div/div[3]/div[2]/ul/li[26]/a')\n",
    "gaminglaptopbtn.click() #clicking on Gaminglaptop Article"
   ]
  },
  {
   "cell_type": "code",
   "execution_count": 133,
   "id": "d3319ec5",
   "metadata": {},
   "outputs": [],
   "source": [
    "name = []\n",
    "os = []\n",
    "disp = []\n",
    "mem = []\n",
    "price = []\n",
    "Processor = []\n",
    "GraphProc= []\n",
    "dim = []\n",
    "wt = []\n",
    "desc = []"
   ]
  },
  {
   "cell_type": "code",
   "execution_count": 134,
   "id": "5ee6f7f3",
   "metadata": {},
   "outputs": [],
   "source": [
    "name_tag  = driver.find_elements_by_xpath(\"//*[@id='summtable']/tbody/tr/td[1]\")\n",
    "for n in name_tag:\n",
    "    name.append(n.text)\n",
    "price_tag  = driver.find_elements_by_xpath(\"//*[@id='summtable']/tbody/tr/td[3]\")\n",
    "for p in price_tag:\n",
    "    price.append(p.text)\n",
    "os_tag = driver.find_elements_by_xpath(\"//div[@class='Spcs-details']/table/tbody/tr[3]/td[3]\")\n",
    "for o in os_tag:\n",
    "    os.append(o.text)\n",
    "disp_tag = driver.find_elements_by_xpath(\"//div[@class='Spcs-details']/table/tbody/tr[4]/td[3]\")\n",
    "for d in disp_tag:\n",
    "    disp.append(d.text)\n",
    "Processor_tag = driver.find_elements_by_xpath(\"//div[@class='Spcs-details']/table/tbody/tr[5]/td[3]\")\n",
    "for k in Processor_tag:\n",
    "    Processor.append(k.text)\n",
    "GraphProc_tag = driver.find_elements_by_xpath(\"//div[@class='Spcs-details']/table/tbody/tr[8]/td[3]\")\n",
    "for g in GraphProc_tag:\n",
    "    GraphProc.append(g.text)\n",
    "mem_tag = driver.find_elements_by_xpath(\"//div[@class='Spcs-details']/table/tbody/tr[6]/td[3]\")\n",
    "for m in mem_tag:\n",
    "    mem.append(g.text)\n",
    "dim_tag = driver.find_elements_by_xpath(\"//div[@class='Spcs-details']/table/tbody/tr[9]/td[3]\")\n",
    "for di in dim_tag:\n",
    "    dim.append(di.text)\n",
    "wt_tag = driver.find_elements_by_xpath(\"//div[@class='Spcs-details']/table/tbody/tr[7]/td[3]\")\n",
    "for w in wt_tag:\n",
    "    wt.append(w.text)\n",
    "desc_tag = driver.find_elements_by_xpath(\"//div[@class='Section-center']//p\")\n",
    "for des in desc_tag:\n",
    "    desc.append(des.text)"
   ]
  },
  {
   "cell_type": "code",
   "execution_count": 135,
   "id": "7a51277e",
   "metadata": {},
   "outputs": [],
   "source": [
    "while('AVAILABLE' in desc):\n",
    "    desc.remove(\"AVAILABLE\")"
   ]
  },
  {
   "cell_type": "code",
   "execution_count": 136,
   "id": "f9204882",
   "metadata": {},
   "outputs": [
    {
     "ename": "ValueError",
     "evalue": "All arrays must be of the same length",
     "output_type": "error",
     "traceback": [
      "\u001b[1;31m---------------------------------------------------------------------------\u001b[0m",
      "\u001b[1;31mValueError\u001b[0m                                Traceback (most recent call last)",
      "\u001b[1;32mC:\\Users\\ROHITR~1\\AppData\\Local\\Temp/ipykernel_26300/1772674284.py\u001b[0m in \u001b[0;36m<module>\u001b[1;34m\u001b[0m\n\u001b[0;32m      1\u001b[0m \u001b[0mLaptops\u001b[0m \u001b[1;33m=\u001b[0m \u001b[1;33m{\u001b[0m\u001b[1;34m'Laptop Name'\u001b[0m\u001b[1;33m:\u001b[0m\u001b[0mname\u001b[0m\u001b[1;33m,\u001b[0m\u001b[1;34m'Operating System'\u001b[0m\u001b[1;33m:\u001b[0m\u001b[0mos\u001b[0m\u001b[1;33m,\u001b[0m\u001b[1;34m'Display'\u001b[0m\u001b[1;33m:\u001b[0m \u001b[0mdisp\u001b[0m\u001b[1;33m,\u001b[0m\u001b[1;34m'Processor'\u001b[0m\u001b[1;33m:\u001b[0m\u001b[0mProcessor\u001b[0m\u001b[1;33m,\u001b[0m\u001b[1;34m'Graphics Processor'\u001b[0m\u001b[1;33m:\u001b[0m\u001b[0mGraphProc\u001b[0m \u001b[1;33m,\u001b[0m\u001b[1;34m'Memory'\u001b[0m\u001b[1;33m:\u001b[0m\u001b[0mmem\u001b[0m\u001b[1;33m,\u001b[0m\u001b[1;34m'Dimensions'\u001b[0m\u001b[1;33m:\u001b[0m\u001b[0mdim\u001b[0m\u001b[1;33m,\u001b[0m\u001b[1;34m'Weight(kg)'\u001b[0m\u001b[1;33m:\u001b[0m\u001b[0mwt\u001b[0m\u001b[1;33m,\u001b[0m\u001b[1;34m'Price(₹)'\u001b[0m\u001b[1;33m:\u001b[0m\u001b[0mprice\u001b[0m\u001b[1;33m,\u001b[0m\u001b[1;34m'Details'\u001b[0m\u001b[1;33m:\u001b[0m\u001b[0mdesc\u001b[0m\u001b[1;33m}\u001b[0m\u001b[1;33m\u001b[0m\u001b[1;33m\u001b[0m\u001b[0m\n\u001b[0;32m      2\u001b[0m \u001b[1;33m\u001b[0m\u001b[0m\n\u001b[1;32m----> 3\u001b[1;33m \u001b[0mLaptops\u001b[0m  \u001b[1;33m=\u001b[0m \u001b[0mpd\u001b[0m\u001b[1;33m.\u001b[0m\u001b[0mDataFrame\u001b[0m\u001b[1;33m(\u001b[0m\u001b[0mLaptops\u001b[0m\u001b[1;33m)\u001b[0m\u001b[1;33m\u001b[0m\u001b[1;33m\u001b[0m\u001b[0m\n\u001b[0m\u001b[0;32m      4\u001b[0m \u001b[0mLaptops\u001b[0m\u001b[1;33m\u001b[0m\u001b[1;33m\u001b[0m\u001b[0m\n",
      "\u001b[1;32mC:\\ProgramData\\Anaconda3\\lib\\site-packages\\pandas\\core\\frame.py\u001b[0m in \u001b[0;36m__init__\u001b[1;34m(self, data, index, columns, dtype, copy)\u001b[0m\n\u001b[0;32m    612\u001b[0m         \u001b[1;32melif\u001b[0m \u001b[0misinstance\u001b[0m\u001b[1;33m(\u001b[0m\u001b[0mdata\u001b[0m\u001b[1;33m,\u001b[0m \u001b[0mdict\u001b[0m\u001b[1;33m)\u001b[0m\u001b[1;33m:\u001b[0m\u001b[1;33m\u001b[0m\u001b[1;33m\u001b[0m\u001b[0m\n\u001b[0;32m    613\u001b[0m             \u001b[1;31m# GH#38939 de facto copy defaults to False only in non-dict cases\u001b[0m\u001b[1;33m\u001b[0m\u001b[1;33m\u001b[0m\u001b[0m\n\u001b[1;32m--> 614\u001b[1;33m             \u001b[0mmgr\u001b[0m \u001b[1;33m=\u001b[0m \u001b[0mdict_to_mgr\u001b[0m\u001b[1;33m(\u001b[0m\u001b[0mdata\u001b[0m\u001b[1;33m,\u001b[0m \u001b[0mindex\u001b[0m\u001b[1;33m,\u001b[0m \u001b[0mcolumns\u001b[0m\u001b[1;33m,\u001b[0m \u001b[0mdtype\u001b[0m\u001b[1;33m=\u001b[0m\u001b[0mdtype\u001b[0m\u001b[1;33m,\u001b[0m \u001b[0mcopy\u001b[0m\u001b[1;33m=\u001b[0m\u001b[0mcopy\u001b[0m\u001b[1;33m,\u001b[0m \u001b[0mtyp\u001b[0m\u001b[1;33m=\u001b[0m\u001b[0mmanager\u001b[0m\u001b[1;33m)\u001b[0m\u001b[1;33m\u001b[0m\u001b[1;33m\u001b[0m\u001b[0m\n\u001b[0m\u001b[0;32m    615\u001b[0m         \u001b[1;32melif\u001b[0m \u001b[0misinstance\u001b[0m\u001b[1;33m(\u001b[0m\u001b[0mdata\u001b[0m\u001b[1;33m,\u001b[0m \u001b[0mma\u001b[0m\u001b[1;33m.\u001b[0m\u001b[0mMaskedArray\u001b[0m\u001b[1;33m)\u001b[0m\u001b[1;33m:\u001b[0m\u001b[1;33m\u001b[0m\u001b[1;33m\u001b[0m\u001b[0m\n\u001b[0;32m    616\u001b[0m             \u001b[1;32mimport\u001b[0m \u001b[0mnumpy\u001b[0m\u001b[1;33m.\u001b[0m\u001b[0mma\u001b[0m\u001b[1;33m.\u001b[0m\u001b[0mmrecords\u001b[0m \u001b[1;32mas\u001b[0m \u001b[0mmrecords\u001b[0m\u001b[1;33m\u001b[0m\u001b[1;33m\u001b[0m\u001b[0m\n",
      "\u001b[1;32mC:\\ProgramData\\Anaconda3\\lib\\site-packages\\pandas\\core\\internals\\construction.py\u001b[0m in \u001b[0;36mdict_to_mgr\u001b[1;34m(data, index, columns, dtype, typ, copy)\u001b[0m\n\u001b[0;32m    462\u001b[0m         \u001b[1;31m# TODO: can we get rid of the dt64tz special case above?\u001b[0m\u001b[1;33m\u001b[0m\u001b[1;33m\u001b[0m\u001b[0m\n\u001b[0;32m    463\u001b[0m \u001b[1;33m\u001b[0m\u001b[0m\n\u001b[1;32m--> 464\u001b[1;33m     return arrays_to_mgr(\n\u001b[0m\u001b[0;32m    465\u001b[0m         \u001b[0marrays\u001b[0m\u001b[1;33m,\u001b[0m \u001b[0mdata_names\u001b[0m\u001b[1;33m,\u001b[0m \u001b[0mindex\u001b[0m\u001b[1;33m,\u001b[0m \u001b[0mcolumns\u001b[0m\u001b[1;33m,\u001b[0m \u001b[0mdtype\u001b[0m\u001b[1;33m=\u001b[0m\u001b[0mdtype\u001b[0m\u001b[1;33m,\u001b[0m \u001b[0mtyp\u001b[0m\u001b[1;33m=\u001b[0m\u001b[0mtyp\u001b[0m\u001b[1;33m,\u001b[0m \u001b[0mconsolidate\u001b[0m\u001b[1;33m=\u001b[0m\u001b[0mcopy\u001b[0m\u001b[1;33m\u001b[0m\u001b[1;33m\u001b[0m\u001b[0m\n\u001b[0;32m    466\u001b[0m     )\n",
      "\u001b[1;32mC:\\ProgramData\\Anaconda3\\lib\\site-packages\\pandas\\core\\internals\\construction.py\u001b[0m in \u001b[0;36marrays_to_mgr\u001b[1;34m(arrays, arr_names, index, columns, dtype, verify_integrity, typ, consolidate)\u001b[0m\n\u001b[0;32m    117\u001b[0m         \u001b[1;31m# figure out the index, if necessary\u001b[0m\u001b[1;33m\u001b[0m\u001b[1;33m\u001b[0m\u001b[0m\n\u001b[0;32m    118\u001b[0m         \u001b[1;32mif\u001b[0m \u001b[0mindex\u001b[0m \u001b[1;32mis\u001b[0m \u001b[1;32mNone\u001b[0m\u001b[1;33m:\u001b[0m\u001b[1;33m\u001b[0m\u001b[1;33m\u001b[0m\u001b[0m\n\u001b[1;32m--> 119\u001b[1;33m             \u001b[0mindex\u001b[0m \u001b[1;33m=\u001b[0m \u001b[0m_extract_index\u001b[0m\u001b[1;33m(\u001b[0m\u001b[0marrays\u001b[0m\u001b[1;33m)\u001b[0m\u001b[1;33m\u001b[0m\u001b[1;33m\u001b[0m\u001b[0m\n\u001b[0m\u001b[0;32m    120\u001b[0m         \u001b[1;32melse\u001b[0m\u001b[1;33m:\u001b[0m\u001b[1;33m\u001b[0m\u001b[1;33m\u001b[0m\u001b[0m\n\u001b[0;32m    121\u001b[0m             \u001b[0mindex\u001b[0m \u001b[1;33m=\u001b[0m \u001b[0mensure_index\u001b[0m\u001b[1;33m(\u001b[0m\u001b[0mindex\u001b[0m\u001b[1;33m)\u001b[0m\u001b[1;33m\u001b[0m\u001b[1;33m\u001b[0m\u001b[0m\n",
      "\u001b[1;32mC:\\ProgramData\\Anaconda3\\lib\\site-packages\\pandas\\core\\internals\\construction.py\u001b[0m in \u001b[0;36m_extract_index\u001b[1;34m(data)\u001b[0m\n\u001b[0;32m    633\u001b[0m             \u001b[0mlengths\u001b[0m \u001b[1;33m=\u001b[0m \u001b[0mlist\u001b[0m\u001b[1;33m(\u001b[0m\u001b[0mset\u001b[0m\u001b[1;33m(\u001b[0m\u001b[0mraw_lengths\u001b[0m\u001b[1;33m)\u001b[0m\u001b[1;33m)\u001b[0m\u001b[1;33m\u001b[0m\u001b[1;33m\u001b[0m\u001b[0m\n\u001b[0;32m    634\u001b[0m             \u001b[1;32mif\u001b[0m \u001b[0mlen\u001b[0m\u001b[1;33m(\u001b[0m\u001b[0mlengths\u001b[0m\u001b[1;33m)\u001b[0m \u001b[1;33m>\u001b[0m \u001b[1;36m1\u001b[0m\u001b[1;33m:\u001b[0m\u001b[1;33m\u001b[0m\u001b[1;33m\u001b[0m\u001b[0m\n\u001b[1;32m--> 635\u001b[1;33m                 \u001b[1;32mraise\u001b[0m \u001b[0mValueError\u001b[0m\u001b[1;33m(\u001b[0m\u001b[1;34m\"All arrays must be of the same length\"\u001b[0m\u001b[1;33m)\u001b[0m\u001b[1;33m\u001b[0m\u001b[1;33m\u001b[0m\u001b[0m\n\u001b[0m\u001b[0;32m    636\u001b[0m \u001b[1;33m\u001b[0m\u001b[0m\n\u001b[0;32m    637\u001b[0m             \u001b[1;32mif\u001b[0m \u001b[0mhave_dicts\u001b[0m\u001b[1;33m:\u001b[0m\u001b[1;33m\u001b[0m\u001b[1;33m\u001b[0m\u001b[0m\n",
      "\u001b[1;31mValueError\u001b[0m: All arrays must be of the same length"
     ]
    }
   ],
   "source": [
    "Laptops = {'Laptop Name':name,'Operating System':os,'Display': disp,'Processor':Processor,'Graphics Processor':GraphProc ,'Memory':mem,'Dimensions':dim,'Weight(kg)':wt,'Price(₹)':price,'Details':desc}\n",
    "\n",
    "Laptops  = pd.DataFrame(Laptops)\n",
    "Laptops"
   ]
  },
  {
   "cell_type": "code",
   "execution_count": null,
   "id": "56f7de89",
   "metadata": {},
   "outputs": [],
   "source": []
  },
  {
   "cell_type": "code",
   "execution_count": null,
   "id": "9cea3775",
   "metadata": {},
   "outputs": [],
   "source": []
  }
 ],
 "metadata": {
  "kernelspec": {
   "display_name": "Python 3 (ipykernel)",
   "language": "python",
   "name": "python3"
  },
  "language_info": {
   "codemirror_mode": {
    "name": "ipython",
    "version": 3
   },
   "file_extension": ".py",
   "mimetype": "text/x-python",
   "name": "python",
   "nbconvert_exporter": "python",
   "pygments_lexer": "ipython3",
   "version": "3.9.7"
  }
 },
 "nbformat": 4,
 "nbformat_minor": 5
}
