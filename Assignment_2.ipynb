{
 "cells": [
  {
   "cell_type": "markdown",
   "id": "4d75551b",
   "metadata": {},
   "source": [
    "### Q1: Write a python program to scrape data for “Data Analyst” Job position in “Bangalore” location. You have to scrape the job-title, job-location, company_name, experience_required. You have to scrape first 10 jobs data.\n",
    "### This task will be done in following steps:\n",
    "### 1. First get the webpage https://www.naukri.com/\n",
    "### 2. Enter “Data Analyst” in “Skill, Designations, Companies” field and enter “Bangalore” in “enter the location” field.\n",
    "### 3. Then click the search button.\n",
    "### 4. Then scrape the data for the first 10 jobs results you get.\n",
    "### 5. Finally create a dataframe of the scraped data."
   ]
  },
  {
   "cell_type": "code",
   "execution_count": 1,
   "id": "c6ef6dae",
   "metadata": {},
   "outputs": [],
   "source": [
    "# Let's import the required libraries \n",
    "import selenium\n",
    "from selenium import webdriver \n",
    "import pandas as pd\n",
    "import warnings\n",
    "warnings.filterwarnings(\"ignore\")"
   ]
  },
  {
   "cell_type": "code",
   "execution_count": 2,
   "id": "acaa77d8",
   "metadata": {},
   "outputs": [],
   "source": [
    "# lets first connect to web driver \n",
    "driver = webdriver.Chrome(r'C:\\Users\\ROHIT RAJAN\\Downloads\\chromedriver_win32\\chromedriver.exe')\n"
   ]
  },
  {
   "cell_type": "code",
   "execution_count": 44,
   "id": "1ae8b677",
   "metadata": {},
   "outputs": [],
   "source": [
    "url = 'http://www.naukri.com/'\n",
    "driver.get(url)"
   ]
  },
  {
   "cell_type": "code",
   "execution_count": 4,
   "id": "853c5948",
   "metadata": {
    "scrolled": true
   },
   "outputs": [
    {
     "data": {
      "text/plain": [
       "<selenium.webdriver.remote.webelement.WebElement (session=\"87bc86dfcbc69eaa3e13f01c307f076e\", element=\"fd3f05bf-93ef-45eb-894c-deedea4a6a92\")>"
      ]
     },
     "execution_count": 4,
     "metadata": {},
     "output_type": "execute_result"
    }
   ],
   "source": [
    "# finding web elelment for search job bar using class name\n",
    "search_job = driver.find_element_by_class_name(\"suggestor-input\" )\n",
    "search_job"
   ]
  },
  {
   "cell_type": "code",
   "execution_count": 5,
   "id": "8aab0681",
   "metadata": {},
   "outputs": [],
   "source": [
    "# write on a search bar\n",
    "search_job.send_keys(\"Data Scientist\") "
   ]
  },
  {
   "cell_type": "code",
   "execution_count": 6,
   "id": "5675cde5",
   "metadata": {},
   "outputs": [
    {
     "data": {
      "text/plain": [
       "<selenium.webdriver.remote.webelement.WebElement (session=\"87bc86dfcbc69eaa3e13f01c307f076e\", element=\"eb26d37f-2c7c-4017-92cc-a1a95a9d8099\")>"
      ]
     },
     "execution_count": 6,
     "metadata": {},
     "output_type": "execute_result"
    }
   ],
   "source": [
    "# finding web element for search location bar using asolute xpath\n",
    "search_locn = driver.find_element_by_xpath('/html/body/div/div[2]/div[3]/div/div/div[3]/div/div/div/input')\n",
    "search_locn"
   ]
  },
  {
   "cell_type": "code",
   "execution_count": 7,
   "id": "f984810b",
   "metadata": {},
   "outputs": [],
   "source": [
    "search_locn.send_keys(\"Banglore\")  "
   ]
  },
  {
   "cell_type": "code",
   "execution_count": 8,
   "id": "2d6ae1ea",
   "metadata": {},
   "outputs": [
    {
     "data": {
      "text/plain": [
       "<selenium.webdriver.remote.webelement.WebElement (session=\"87bc86dfcbc69eaa3e13f01c307f076e\", element=\"da604c92-9f01-4b0f-a59e-b21e34ff74ee\")>"
      ]
     },
     "execution_count": 8,
     "metadata": {},
     "output_type": "execute_result"
    }
   ],
   "source": [
    "search_btn = driver.find_element_by_xpath('/html/body/div/div[2]/div[3]/div/div/div[6]')\n",
    "search_btn"
   ]
  },
  {
   "cell_type": "code",
   "execution_count": 9,
   "id": "d4995cb2",
   "metadata": {},
   "outputs": [],
   "source": [
    "search_btn.click()"
   ]
  },
  {
   "cell_type": "markdown",
   "id": "195f0fd2",
   "metadata": {},
   "source": [
    "## Extracting job titles"
   ]
  },
  {
   "cell_type": "code",
   "execution_count": 10,
   "id": "c5389831",
   "metadata": {},
   "outputs": [
    {
     "data": {
      "text/plain": [
       "20"
      ]
     },
     "execution_count": 10,
     "metadata": {},
     "output_type": "execute_result"
    }
   ],
   "source": [
    "# lets extract all web elements having job titles\n",
    "title_tags = driver.find_elements_by_xpath('//a[@class=\"title fw500 ellipsis\"]')\n",
    "len(title_tags)"
   ]
  },
  {
   "cell_type": "code",
   "execution_count": 11,
   "id": "6525586b",
   "metadata": {},
   "outputs": [
    {
     "data": {
      "text/plain": [
       "[<selenium.webdriver.remote.webelement.WebElement (session=\"87bc86dfcbc69eaa3e13f01c307f076e\", element=\"c3f8689c-5935-4960-bbb5-2da1fb0f68ea\")>,\n",
       " <selenium.webdriver.remote.webelement.WebElement (session=\"87bc86dfcbc69eaa3e13f01c307f076e\", element=\"becaf45f-0037-4406-9250-4a3b9d6b6fb8\")>,\n",
       " <selenium.webdriver.remote.webelement.WebElement (session=\"87bc86dfcbc69eaa3e13f01c307f076e\", element=\"2101cbaa-735b-40f6-b94d-378b51dbd4bb\")>,\n",
       " <selenium.webdriver.remote.webelement.WebElement (session=\"87bc86dfcbc69eaa3e13f01c307f076e\", element=\"6865ec67-dd37-4831-9840-5bd9162f5396\")>,\n",
       " <selenium.webdriver.remote.webelement.WebElement (session=\"87bc86dfcbc69eaa3e13f01c307f076e\", element=\"f3c89914-b200-4c60-8863-b2245f5a6876\")>,\n",
       " <selenium.webdriver.remote.webelement.WebElement (session=\"87bc86dfcbc69eaa3e13f01c307f076e\", element=\"251e310c-2f6e-4151-8a2b-26e58fdb0ef4\")>,\n",
       " <selenium.webdriver.remote.webelement.WebElement (session=\"87bc86dfcbc69eaa3e13f01c307f076e\", element=\"300a29bb-eb19-4867-9928-b59d3ce82846\")>,\n",
       " <selenium.webdriver.remote.webelement.WebElement (session=\"87bc86dfcbc69eaa3e13f01c307f076e\", element=\"665d2249-0323-4082-a004-cb307e5c40e5\")>,\n",
       " <selenium.webdriver.remote.webelement.WebElement (session=\"87bc86dfcbc69eaa3e13f01c307f076e\", element=\"183fbb33-d7c9-44bf-9256-52d8206b89f1\")>,\n",
       " <selenium.webdriver.remote.webelement.WebElement (session=\"87bc86dfcbc69eaa3e13f01c307f076e\", element=\"d19222df-0bed-4e6a-8ef6-32e0c64e2c02\")>,\n",
       " <selenium.webdriver.remote.webelement.WebElement (session=\"87bc86dfcbc69eaa3e13f01c307f076e\", element=\"f5748c2a-0a50-4b6c-bf04-a438b2f01747\")>,\n",
       " <selenium.webdriver.remote.webelement.WebElement (session=\"87bc86dfcbc69eaa3e13f01c307f076e\", element=\"27873f78-1944-48d9-bd14-94cdcf7a0365\")>,\n",
       " <selenium.webdriver.remote.webelement.WebElement (session=\"87bc86dfcbc69eaa3e13f01c307f076e\", element=\"77fbd43e-a3b7-4d08-b251-b9f0b734e6d1\")>,\n",
       " <selenium.webdriver.remote.webelement.WebElement (session=\"87bc86dfcbc69eaa3e13f01c307f076e\", element=\"82d77fea-0d71-486e-b29a-8b08338e89f0\")>,\n",
       " <selenium.webdriver.remote.webelement.WebElement (session=\"87bc86dfcbc69eaa3e13f01c307f076e\", element=\"54e459de-7d19-4cf0-8d3c-1530173c9022\")>,\n",
       " <selenium.webdriver.remote.webelement.WebElement (session=\"87bc86dfcbc69eaa3e13f01c307f076e\", element=\"fd3b230a-62de-4dd4-b676-9b403823eeb0\")>,\n",
       " <selenium.webdriver.remote.webelement.WebElement (session=\"87bc86dfcbc69eaa3e13f01c307f076e\", element=\"94099e5d-80e9-4dc4-a97f-4b9c78f0c900\")>,\n",
       " <selenium.webdriver.remote.webelement.WebElement (session=\"87bc86dfcbc69eaa3e13f01c307f076e\", element=\"d8726e5e-8da4-448c-9eb0-daa53785364a\")>,\n",
       " <selenium.webdriver.remote.webelement.WebElement (session=\"87bc86dfcbc69eaa3e13f01c307f076e\", element=\"fc850844-dc61-48e4-b0e8-715f7aa0130d\")>,\n",
       " <selenium.webdriver.remote.webelement.WebElement (session=\"87bc86dfcbc69eaa3e13f01c307f076e\", element=\"323824ff-db4a-4170-aedb-55b23401b06d\")>]"
      ]
     },
     "execution_count": 11,
     "metadata": {},
     "output_type": "execute_result"
    }
   ],
   "source": [
    "title_tags"
   ]
  },
  {
   "cell_type": "code",
   "execution_count": 12,
   "id": "caef0a34",
   "metadata": {},
   "outputs": [
    {
     "data": {
      "text/plain": [
       "20"
      ]
     },
     "execution_count": 12,
     "metadata": {},
     "output_type": "execute_result"
    }
   ],
   "source": [
    "# Now the text of job title is inside the web elements extracted above\n",
    "# so we will run a for loop to iterate over th tags \n",
    "job_titles =[]\n",
    "\n",
    "for i in title_tags:\n",
    "    job_titles.append(i.text)\n",
    "len(job_titles)    "
   ]
  },
  {
   "cell_type": "code",
   "execution_count": 13,
   "id": "b4f747f7",
   "metadata": {},
   "outputs": [
    {
     "data": {
      "text/plain": [
       "['Global Tax Automation & Operations - Data Scientist Senior Analyst',\n",
       " 'Analyst / Data Scientist',\n",
       " 'Data Scientist: Advanced Analytics',\n",
       " 'Data Scientist: Advanced Analytics',\n",
       " 'Senior Data Scientist',\n",
       " 'Senior Data Scientist',\n",
       " 'Senior Data Scientist (Fintech)',\n",
       " 'Senior Data Scientist',\n",
       " 'Data Scientist - Lead / Architect - Looking For Early Joiners - Wipro',\n",
       " 'Data Scientist - Lead / Architect - Looking For Early Joiners - Wipro',\n",
       " 'Data Scientist - Lead / Architect - Looking For Early Joiners - Wipro',\n",
       " 'Data Scientist / Analyst',\n",
       " 'Lead Data Scientist - Machine Learning/ Data Mining',\n",
       " 'Data Scientist',\n",
       " 'Principal Data Scientist',\n",
       " 'Opportunity For Data Scientist Internship - Bengaluru',\n",
       " 'Louis Dreyfus Company Looking For Data Scientist',\n",
       " 'Wanted Data Scientists / Senior Data Scientists For our MNC client.',\n",
       " 'Data Scientist: Artificial Intelligence',\n",
       " 'Data Scientist: Artificial Intelligence']"
      ]
     },
     "execution_count": 13,
     "metadata": {},
     "output_type": "execute_result"
    }
   ],
   "source": [
    "job_titles"
   ]
  },
  {
   "cell_type": "markdown",
   "id": "eaa43a00",
   "metadata": {},
   "source": [
    "## Extracting company names"
   ]
  },
  {
   "cell_type": "code",
   "execution_count": 14,
   "id": "e553bd35",
   "metadata": {},
   "outputs": [
    {
     "data": {
      "text/plain": [
       "20"
      ]
     },
     "execution_count": 14,
     "metadata": {},
     "output_type": "execute_result"
    }
   ],
   "source": [
    "# lets extract all web elements having company names\n",
    "company_tags = driver.find_elements_by_xpath('//a[@class=\"subTitle ellipsis fleft\"]')\n",
    "len(company_tags)"
   ]
  },
  {
   "cell_type": "code",
   "execution_count": 15,
   "id": "0d5f8d51",
   "metadata": {},
   "outputs": [
    {
     "data": {
      "text/plain": [
       "20"
      ]
     },
     "execution_count": 15,
     "metadata": {},
     "output_type": "execute_result"
    }
   ],
   "source": [
    "# so we will run a for loop to iterate all web elements having company names\n",
    "company_names = []\n",
    "\n",
    "for i in company_tags:\n",
    "    company_names.append(i.text)\n",
    "len(company_names)\n",
    "    "
   ]
  },
  {
   "cell_type": "code",
   "execution_count": 16,
   "id": "0c6e387d",
   "metadata": {},
   "outputs": [
    {
     "data": {
      "text/plain": [
       "['Dell',\n",
       " 'MilliporeSigma',\n",
       " 'IBM',\n",
       " 'IBM',\n",
       " 'Siemens',\n",
       " 'Sabre',\n",
       " 'NIRA',\n",
       " 'Shell',\n",
       " 'Wipro',\n",
       " 'Wipro',\n",
       " 'Wipro',\n",
       " 'Talentify',\n",
       " 'Wrackle Technologies Pvt Ltd',\n",
       " 'NAVIKENZ INDIA PRIVATE LIMITED',\n",
       " 'Walmart',\n",
       " 'Corner Stone Solutions',\n",
       " 'Louis Dreyfus Commodities',\n",
       " 'Andre Consultancy Services Private Limited',\n",
       " 'IBM',\n",
       " 'IBM']"
      ]
     },
     "execution_count": 16,
     "metadata": {},
     "output_type": "execute_result"
    }
   ],
   "source": [
    "company_names"
   ]
  },
  {
   "cell_type": "markdown",
   "id": "b16714ba",
   "metadata": {},
   "source": [
    "## Extracting experience"
   ]
  },
  {
   "cell_type": "code",
   "execution_count": 17,
   "id": "09d452e5",
   "metadata": {},
   "outputs": [
    {
     "data": {
      "text/plain": [
       "20"
      ]
     },
     "execution_count": 17,
     "metadata": {},
     "output_type": "execute_result"
    }
   ],
   "source": [
    "# Let's extract all web elements having experience using contains\n",
    "exp_tags = driver.find_elements_by_xpath('//*[contains(@title, \"Yrs \")]')\n",
    "len(exp_tags)"
   ]
  },
  {
   "cell_type": "code",
   "execution_count": 18,
   "id": "1b376f40",
   "metadata": {},
   "outputs": [
    {
     "data": {
      "text/plain": [
       "20"
      ]
     },
     "execution_count": 18,
     "metadata": {},
     "output_type": "execute_result"
    }
   ],
   "source": [
    "# Let's extract all web elements having experiance using parent tag\n",
    "exp_tags = driver.find_elements_by_xpath('//li[@class=\"fleft grey-text br2 placeHolderLi experience\"]' )\n",
    "len(exp_tags)"
   ]
  },
  {
   "cell_type": "code",
   "execution_count": 19,
   "id": "392aab3b",
   "metadata": {},
   "outputs": [
    {
     "data": {
      "text/plain": [
       "20"
      ]
     },
     "execution_count": 19,
     "metadata": {},
     "output_type": "execute_result"
    }
   ],
   "source": [
    "experience = []\n",
    "\n",
    "for i in exp_tags:\n",
    "    experience.append(i.text)\n",
    "len(experience)    "
   ]
  },
  {
   "cell_type": "code",
   "execution_count": 20,
   "id": "21934cba",
   "metadata": {},
   "outputs": [
    {
     "data": {
      "text/plain": [
       "['3-5 Yrs',\n",
       " '2-5 Yrs',\n",
       " '5-10 Yrs',\n",
       " '2-5 Yrs',\n",
       " '3-8 Yrs',\n",
       " '3-5 Yrs',\n",
       " '4-6 Yrs',\n",
       " '6-11 Yrs',\n",
       " '5-10 Yrs',\n",
       " '5-10 Yrs',\n",
       " '5-10 Yrs',\n",
       " '0-1 Yrs',\n",
       " '6-11 Yrs',\n",
       " '2-5 Yrs',\n",
       " '7-12 Yrs',\n",
       " '0-1 Yrs',\n",
       " '0-2 Yrs',\n",
       " '2-6 Yrs',\n",
       " '4-8 Yrs',\n",
       " '3-7 Yrs']"
      ]
     },
     "execution_count": 20,
     "metadata": {},
     "output_type": "execute_result"
    }
   ],
   "source": [
    "experience"
   ]
  },
  {
   "cell_type": "markdown",
   "id": "3f6dc402",
   "metadata": {},
   "source": [
    "## Extracting location"
   ]
  },
  {
   "cell_type": "code",
   "execution_count": 25,
   "id": "31ff795f",
   "metadata": {},
   "outputs": [
    {
     "data": {
      "text/plain": [
       "20"
      ]
     },
     "execution_count": 25,
     "metadata": {},
     "output_type": "execute_result"
    }
   ],
   "source": [
    "locn_tags = driver.find_elements_by_xpath('//li[@class=\"fleft grey-text br2 placeHolderLi location\"]')\n",
    "len(locn_tags)"
   ]
  },
  {
   "cell_type": "code",
   "execution_count": 29,
   "id": "4cf89b86",
   "metadata": {},
   "outputs": [
    {
     "data": {
      "text/plain": [
       "20"
      ]
     },
     "execution_count": 29,
     "metadata": {},
     "output_type": "execute_result"
    }
   ],
   "source": [
    "location = []\n",
    "\n",
    "for i in locn_tags:\n",
    "    location.append(i.text)\n",
    "len(location)   "
   ]
  },
  {
   "cell_type": "markdown",
   "id": "68377c1f",
   "metadata": {},
   "source": [
    "## Extracting salary"
   ]
  },
  {
   "cell_type": "code",
   "execution_count": 30,
   "id": "b22b1dea",
   "metadata": {},
   "outputs": [
    {
     "data": {
      "text/plain": [
       "20"
      ]
     },
     "execution_count": 30,
     "metadata": {},
     "output_type": "execute_result"
    }
   ],
   "source": [
    "sal = driver.find_elements_by_xpath('//li[@class=\"fleft grey-text br2 placeHolderLi salary\"]')\n",
    "len(sal)"
   ]
  },
  {
   "cell_type": "code",
   "execution_count": 31,
   "id": "a3b40c9b",
   "metadata": {},
   "outputs": [
    {
     "data": {
      "text/plain": [
       "20"
      ]
     },
     "execution_count": 31,
     "metadata": {},
     "output_type": "execute_result"
    }
   ],
   "source": [
    "salary = []\n",
    "\n",
    "for i in sal:\n",
    "    salary.append(i.text)\n",
    "len(salary)    "
   ]
  },
  {
   "cell_type": "code",
   "execution_count": 32,
   "id": "42430ce7",
   "metadata": {},
   "outputs": [
    {
     "data": {
      "text/plain": [
       "['Not disclosed',\n",
       " 'Not disclosed',\n",
       " 'Not disclosed',\n",
       " 'Not disclosed',\n",
       " 'Not disclosed',\n",
       " 'Not disclosed',\n",
       " '25,00,000 - 35,00,000 PA.',\n",
       " 'Not disclosed',\n",
       " 'Not disclosed',\n",
       " 'Not disclosed',\n",
       " 'Not disclosed',\n",
       " '65,00,000 - 1 Cr and above PA.',\n",
       " 'Not disclosed',\n",
       " 'Not disclosed',\n",
       " 'Not disclosed',\n",
       " '1,00,000 - 2,00,000 PA.',\n",
       " 'Not disclosed',\n",
       " 'Not disclosed',\n",
       " 'Not disclosed',\n",
       " 'Not disclosed']"
      ]
     },
     "execution_count": 32,
     "metadata": {},
     "output_type": "execute_result"
    }
   ],
   "source": [
    "salary"
   ]
  },
  {
   "cell_type": "code",
   "execution_count": null,
   "id": "5e20da95",
   "metadata": {},
   "outputs": [],
   "source": []
  },
  {
   "cell_type": "code",
   "execution_count": 33,
   "id": "982823b6",
   "metadata": {},
   "outputs": [
    {
     "data": {
      "text/plain": [
       "(20, 20, 20, 20, 20)"
      ]
     },
     "execution_count": 33,
     "metadata": {},
     "output_type": "execute_result"
    }
   ],
   "source": [
    "len(job_titles), len(company_names), len(experience),len(location), len(salary)"
   ]
  },
  {
   "cell_type": "code",
   "execution_count": 34,
   "id": "c9bcfa1c",
   "metadata": {},
   "outputs": [
    {
     "data": {
      "text/html": [
       "<div>\n",
       "<style scoped>\n",
       "    .dataframe tbody tr th:only-of-type {\n",
       "        vertical-align: middle;\n",
       "    }\n",
       "\n",
       "    .dataframe tbody tr th {\n",
       "        vertical-align: top;\n",
       "    }\n",
       "\n",
       "    .dataframe thead th {\n",
       "        text-align: right;\n",
       "    }\n",
       "</style>\n",
       "<table border=\"1\" class=\"dataframe\">\n",
       "  <thead>\n",
       "    <tr style=\"text-align: right;\">\n",
       "      <th></th>\n",
       "      <th>Job Title</th>\n",
       "      <th>Company</th>\n",
       "      <th>Experience</th>\n",
       "      <th>Location</th>\n",
       "      <th>Salary</th>\n",
       "    </tr>\n",
       "  </thead>\n",
       "  <tbody>\n",
       "    <tr>\n",
       "      <th>0</th>\n",
       "      <td>Global Tax Automation &amp; Operations - Data Scie...</td>\n",
       "      <td>Dell</td>\n",
       "      <td>3-5 Yrs</td>\n",
       "      <td>Bangalore/Bengaluru</td>\n",
       "      <td>Not disclosed</td>\n",
       "    </tr>\n",
       "    <tr>\n",
       "      <th>1</th>\n",
       "      <td>Analyst / Data Scientist</td>\n",
       "      <td>MilliporeSigma</td>\n",
       "      <td>2-5 Yrs</td>\n",
       "      <td>Bangalore/Bengaluru</td>\n",
       "      <td>Not disclosed</td>\n",
       "    </tr>\n",
       "    <tr>\n",
       "      <th>2</th>\n",
       "      <td>Data Scientist: Advanced Analytics</td>\n",
       "      <td>IBM</td>\n",
       "      <td>5-10 Yrs</td>\n",
       "      <td>Bangalore/Bengaluru</td>\n",
       "      <td>Not disclosed</td>\n",
       "    </tr>\n",
       "    <tr>\n",
       "      <th>3</th>\n",
       "      <td>Data Scientist: Advanced Analytics</td>\n",
       "      <td>IBM</td>\n",
       "      <td>2-5 Yrs</td>\n",
       "      <td>Bangalore/Bengaluru</td>\n",
       "      <td>Not disclosed</td>\n",
       "    </tr>\n",
       "    <tr>\n",
       "      <th>4</th>\n",
       "      <td>Senior Data Scientist</td>\n",
       "      <td>Siemens</td>\n",
       "      <td>3-8 Yrs</td>\n",
       "      <td>Bangalore/Bengaluru</td>\n",
       "      <td>Not disclosed</td>\n",
       "    </tr>\n",
       "    <tr>\n",
       "      <th>5</th>\n",
       "      <td>Senior Data Scientist</td>\n",
       "      <td>Sabre</td>\n",
       "      <td>3-5 Yrs</td>\n",
       "      <td>Bangalore/Bengaluru</td>\n",
       "      <td>Not disclosed</td>\n",
       "    </tr>\n",
       "    <tr>\n",
       "      <th>6</th>\n",
       "      <td>Senior Data Scientist (Fintech)</td>\n",
       "      <td>NIRA</td>\n",
       "      <td>4-6 Yrs</td>\n",
       "      <td>Bangalore/Bengaluru</td>\n",
       "      <td>25,00,000 - 35,00,000 PA.</td>\n",
       "    </tr>\n",
       "    <tr>\n",
       "      <th>7</th>\n",
       "      <td>Senior Data Scientist</td>\n",
       "      <td>Shell</td>\n",
       "      <td>6-11 Yrs</td>\n",
       "      <td>Chennai, Bangalore/Bengaluru</td>\n",
       "      <td>Not disclosed</td>\n",
       "    </tr>\n",
       "    <tr>\n",
       "      <th>8</th>\n",
       "      <td>Data Scientist - Lead / Architect - Looking Fo...</td>\n",
       "      <td>Wipro</td>\n",
       "      <td>5-10 Yrs</td>\n",
       "      <td>Kochi/Cochin, Kolkata, Pune, Gurgaon/Gurugram,...</td>\n",
       "      <td>Not disclosed</td>\n",
       "    </tr>\n",
       "    <tr>\n",
       "      <th>9</th>\n",
       "      <td>Data Scientist - Lead / Architect - Looking Fo...</td>\n",
       "      <td>Wipro</td>\n",
       "      <td>5-10 Yrs</td>\n",
       "      <td>Hyderabad/Secunderabad, Pune, Chennai, Bangalo...</td>\n",
       "      <td>Not disclosed</td>\n",
       "    </tr>\n",
       "    <tr>\n",
       "      <th>10</th>\n",
       "      <td>Data Scientist - Lead / Architect - Looking Fo...</td>\n",
       "      <td>Wipro</td>\n",
       "      <td>5-10 Yrs</td>\n",
       "      <td>Kochi/Cochin, Kolkata, Pune, Gurgaon/Gurugram,...</td>\n",
       "      <td>Not disclosed</td>\n",
       "    </tr>\n",
       "    <tr>\n",
       "      <th>11</th>\n",
       "      <td>Data Scientist / Analyst</td>\n",
       "      <td>Talentify</td>\n",
       "      <td>0-1 Yrs</td>\n",
       "      <td>Hyderabad/Secunderabad, Bangalore/Bengaluru, D...</td>\n",
       "      <td>65,00,000 - 1 Cr and above PA.</td>\n",
       "    </tr>\n",
       "    <tr>\n",
       "      <th>12</th>\n",
       "      <td>Lead Data Scientist - Machine Learning/ Data M...</td>\n",
       "      <td>Wrackle Technologies Pvt Ltd</td>\n",
       "      <td>6-11 Yrs</td>\n",
       "      <td>Bangalore/Bengaluru</td>\n",
       "      <td>Not disclosed</td>\n",
       "    </tr>\n",
       "    <tr>\n",
       "      <th>13</th>\n",
       "      <td>Data Scientist</td>\n",
       "      <td>NAVIKENZ INDIA PRIVATE LIMITED</td>\n",
       "      <td>2-5 Yrs</td>\n",
       "      <td>Hyderabad/Secunderabad, Bangalore/Bengaluru, D...</td>\n",
       "      <td>Not disclosed</td>\n",
       "    </tr>\n",
       "    <tr>\n",
       "      <th>14</th>\n",
       "      <td>Principal Data Scientist</td>\n",
       "      <td>Walmart</td>\n",
       "      <td>7-12 Yrs</td>\n",
       "      <td>Bangalore/Bengaluru</td>\n",
       "      <td>Not disclosed</td>\n",
       "    </tr>\n",
       "    <tr>\n",
       "      <th>15</th>\n",
       "      <td>Opportunity For Data Scientist Internship - Be...</td>\n",
       "      <td>Corner Stone Solutions</td>\n",
       "      <td>0-1 Yrs</td>\n",
       "      <td>Indore, Bangalore/Bengaluru\\n(WFH during Covid)</td>\n",
       "      <td>1,00,000 - 2,00,000 PA.</td>\n",
       "    </tr>\n",
       "    <tr>\n",
       "      <th>16</th>\n",
       "      <td>Louis Dreyfus Company Looking For Data Scientist</td>\n",
       "      <td>Louis Dreyfus Commodities</td>\n",
       "      <td>0-2 Yrs</td>\n",
       "      <td>Bangalore/Bengaluru</td>\n",
       "      <td>Not disclosed</td>\n",
       "    </tr>\n",
       "    <tr>\n",
       "      <th>17</th>\n",
       "      <td>Wanted Data Scientists / Senior Data Scientist...</td>\n",
       "      <td>Andre Consultancy Services Private Limited</td>\n",
       "      <td>2-6 Yrs</td>\n",
       "      <td>Noida, Chennai, Bangalore/Bengaluru</td>\n",
       "      <td>Not disclosed</td>\n",
       "    </tr>\n",
       "    <tr>\n",
       "      <th>18</th>\n",
       "      <td>Data Scientist: Artificial Intelligence</td>\n",
       "      <td>IBM</td>\n",
       "      <td>4-8 Yrs</td>\n",
       "      <td>Bangalore/Bengaluru</td>\n",
       "      <td>Not disclosed</td>\n",
       "    </tr>\n",
       "    <tr>\n",
       "      <th>19</th>\n",
       "      <td>Data Scientist: Artificial Intelligence</td>\n",
       "      <td>IBM</td>\n",
       "      <td>3-7 Yrs</td>\n",
       "      <td>Bangalore/Bengaluru</td>\n",
       "      <td>Not disclosed</td>\n",
       "    </tr>\n",
       "  </tbody>\n",
       "</table>\n",
       "</div>"
      ],
      "text/plain": [
       "                                            Job Title  \\\n",
       "0   Global Tax Automation & Operations - Data Scie...   \n",
       "1                            Analyst / Data Scientist   \n",
       "2                  Data Scientist: Advanced Analytics   \n",
       "3                  Data Scientist: Advanced Analytics   \n",
       "4                               Senior Data Scientist   \n",
       "5                               Senior Data Scientist   \n",
       "6                     Senior Data Scientist (Fintech)   \n",
       "7                               Senior Data Scientist   \n",
       "8   Data Scientist - Lead / Architect - Looking Fo...   \n",
       "9   Data Scientist - Lead / Architect - Looking Fo...   \n",
       "10  Data Scientist - Lead / Architect - Looking Fo...   \n",
       "11                           Data Scientist / Analyst   \n",
       "12  Lead Data Scientist - Machine Learning/ Data M...   \n",
       "13                                     Data Scientist   \n",
       "14                           Principal Data Scientist   \n",
       "15  Opportunity For Data Scientist Internship - Be...   \n",
       "16   Louis Dreyfus Company Looking For Data Scientist   \n",
       "17  Wanted Data Scientists / Senior Data Scientist...   \n",
       "18            Data Scientist: Artificial Intelligence   \n",
       "19            Data Scientist: Artificial Intelligence   \n",
       "\n",
       "                                       Company Experience  \\\n",
       "0                                         Dell    3-5 Yrs   \n",
       "1                               MilliporeSigma    2-5 Yrs   \n",
       "2                                          IBM   5-10 Yrs   \n",
       "3                                          IBM    2-5 Yrs   \n",
       "4                                      Siemens    3-8 Yrs   \n",
       "5                                        Sabre    3-5 Yrs   \n",
       "6                                         NIRA    4-6 Yrs   \n",
       "7                                        Shell   6-11 Yrs   \n",
       "8                                        Wipro   5-10 Yrs   \n",
       "9                                        Wipro   5-10 Yrs   \n",
       "10                                       Wipro   5-10 Yrs   \n",
       "11                                   Talentify    0-1 Yrs   \n",
       "12                Wrackle Technologies Pvt Ltd   6-11 Yrs   \n",
       "13              NAVIKENZ INDIA PRIVATE LIMITED    2-5 Yrs   \n",
       "14                                     Walmart   7-12 Yrs   \n",
       "15                      Corner Stone Solutions    0-1 Yrs   \n",
       "16                   Louis Dreyfus Commodities    0-2 Yrs   \n",
       "17  Andre Consultancy Services Private Limited    2-6 Yrs   \n",
       "18                                         IBM    4-8 Yrs   \n",
       "19                                         IBM    3-7 Yrs   \n",
       "\n",
       "                                             Location  \\\n",
       "0                                 Bangalore/Bengaluru   \n",
       "1                                 Bangalore/Bengaluru   \n",
       "2                                 Bangalore/Bengaluru   \n",
       "3                                 Bangalore/Bengaluru   \n",
       "4                                 Bangalore/Bengaluru   \n",
       "5                                 Bangalore/Bengaluru   \n",
       "6                                 Bangalore/Bengaluru   \n",
       "7                        Chennai, Bangalore/Bengaluru   \n",
       "8   Kochi/Cochin, Kolkata, Pune, Gurgaon/Gurugram,...   \n",
       "9   Hyderabad/Secunderabad, Pune, Chennai, Bangalo...   \n",
       "10  Kochi/Cochin, Kolkata, Pune, Gurgaon/Gurugram,...   \n",
       "11  Hyderabad/Secunderabad, Bangalore/Bengaluru, D...   \n",
       "12                                Bangalore/Bengaluru   \n",
       "13  Hyderabad/Secunderabad, Bangalore/Bengaluru, D...   \n",
       "14                                Bangalore/Bengaluru   \n",
       "15    Indore, Bangalore/Bengaluru\\n(WFH during Covid)   \n",
       "16                                Bangalore/Bengaluru   \n",
       "17                Noida, Chennai, Bangalore/Bengaluru   \n",
       "18                                Bangalore/Bengaluru   \n",
       "19                                Bangalore/Bengaluru   \n",
       "\n",
       "                            Salary  \n",
       "0                    Not disclosed  \n",
       "1                    Not disclosed  \n",
       "2                    Not disclosed  \n",
       "3                    Not disclosed  \n",
       "4                    Not disclosed  \n",
       "5                    Not disclosed  \n",
       "6        25,00,000 - 35,00,000 PA.  \n",
       "7                    Not disclosed  \n",
       "8                    Not disclosed  \n",
       "9                    Not disclosed  \n",
       "10                   Not disclosed  \n",
       "11  65,00,000 - 1 Cr and above PA.  \n",
       "12                   Not disclosed  \n",
       "13                   Not disclosed  \n",
       "14                   Not disclosed  \n",
       "15         1,00,000 - 2,00,000 PA.  \n",
       "16                   Not disclosed  \n",
       "17                   Not disclosed  \n",
       "18                   Not disclosed  \n",
       "19                   Not disclosed  "
      ]
     },
     "execution_count": 34,
     "metadata": {},
     "output_type": "execute_result"
    }
   ],
   "source": [
    "jobs = pd.DataFrame()\n",
    "jobs['Job Title'] = job_titles\n",
    "jobs['Company'] = company_names\n",
    "jobs['Experience'] = experience\n",
    "jobs['Location'] = location\n",
    "jobs['Salary'] = salary\n",
    "jobs"
   ]
  },
  {
   "cell_type": "markdown",
   "id": "15bcaacc",
   "metadata": {},
   "source": [
    "### Q2: Write a python program to scrape data for “Data Scientist” Job position in “Bangalore” location. You have to scrape the job-title, job-location, company_name. You have to scrape first 10 jobs data.\n",
    "### This task will be done in following steps:\n",
    "### 1. First get the webpage https://www.naukri.com/\n",
    "### 2. Enter “Data Scientist” in “Skill, Designations, Companies” field and enter “Bangalore” in “enter the location” field.\n",
    "### 3. Then click the search button.\n",
    "### 4. Then scrape the data for the first 10 jobs results you get.\n",
    "### 5. Finally create a dataframe of the scraped data."
   ]
  },
  {
   "cell_type": "code",
   "execution_count": 58,
   "id": "fed1b088",
   "metadata": {},
   "outputs": [],
   "source": [
    " # Let's import the required libraries \n",
    "import selenium\n",
    "from selenium import webdriver \n",
    "import pandas as pd\n",
    "import warnings\n",
    "warnings.filterwarnings(\"ignore\")"
   ]
  },
  {
   "cell_type": "code",
   "execution_count": 59,
   "id": "ab3b4fa4",
   "metadata": {},
   "outputs": [],
   "source": [
    "# lets first connect to web driver \n",
    "driver = webdriver.Chrome(r'C:\\Users\\ROHIT RAJAN\\Downloads\\chromedriver_win32\\chromedriver.exe')\n"
   ]
  },
  {
   "cell_type": "code",
   "execution_count": 60,
   "id": "f43e8a36",
   "metadata": {},
   "outputs": [],
   "source": [
    "url = 'http://www.naukri.com/'\n",
    "driver.get(url)"
   ]
  },
  {
   "cell_type": "code",
   "execution_count": 61,
   "id": "7edb3f02",
   "metadata": {},
   "outputs": [
    {
     "data": {
      "text/plain": [
       "<selenium.webdriver.remote.webelement.WebElement (session=\"22685250cfb0a276d4c8aeb1005db4f6\", element=\"ff7f6455-361f-410d-8a47-3f3fc8181f5f\")>"
      ]
     },
     "execution_count": 61,
     "metadata": {},
     "output_type": "execute_result"
    }
   ],
   "source": [
    "# finding web elelment for search job bar using class name\n",
    "search_job = driver.find_element_by_class_name(\"suggestor-input\" )\n",
    "search_job"
   ]
  },
  {
   "cell_type": "code",
   "execution_count": 62,
   "id": "d6416284",
   "metadata": {},
   "outputs": [],
   "source": [
    "# write on a search bar\n",
    "search_job.send_keys(\"Data Scientist\") "
   ]
  },
  {
   "cell_type": "code",
   "execution_count": 63,
   "id": "4799d48a",
   "metadata": {},
   "outputs": [
    {
     "data": {
      "text/plain": [
       "<selenium.webdriver.remote.webelement.WebElement (session=\"22685250cfb0a276d4c8aeb1005db4f6\", element=\"977734a6-ebde-484c-a694-8a443981ee0b\")>"
      ]
     },
     "execution_count": 63,
     "metadata": {},
     "output_type": "execute_result"
    }
   ],
   "source": [
    "# finding web element for search location bar using asolute xpath\n",
    "search_locn = driver.find_element_by_xpath('/html/body/div/div[2]/div[3]/div/div/div[3]/div/div/div/input')\n",
    "search_locn"
   ]
  },
  {
   "cell_type": "code",
   "execution_count": 64,
   "id": "4c9e8dbf",
   "metadata": {},
   "outputs": [],
   "source": [
    "search_locn.send_keys(\"Banglore\")  "
   ]
  },
  {
   "cell_type": "code",
   "execution_count": 65,
   "id": "9a0ebf01",
   "metadata": {},
   "outputs": [
    {
     "data": {
      "text/plain": [
       "<selenium.webdriver.remote.webelement.WebElement (session=\"22685250cfb0a276d4c8aeb1005db4f6\", element=\"8f61cee2-3b13-4820-8c64-894257ae8a43\")>"
      ]
     },
     "execution_count": 65,
     "metadata": {},
     "output_type": "execute_result"
    }
   ],
   "source": [
    "search_btn = driver.find_element_by_xpath('/html/body/div/div[2]/div[3]/div/div/div[6]')\n",
    "search_btn"
   ]
  },
  {
   "cell_type": "code",
   "execution_count": 66,
   "id": "f6b7610c",
   "metadata": {},
   "outputs": [],
   "source": [
    "search_btn.click()"
   ]
  },
  {
   "cell_type": "markdown",
   "id": "77520b28",
   "metadata": {},
   "source": [
    "### Extracting job titles"
   ]
  },
  {
   "cell_type": "code",
   "execution_count": 67,
   "id": "dcad0acc",
   "metadata": {},
   "outputs": [
    {
     "data": {
      "text/plain": [
       "20"
      ]
     },
     "execution_count": 67,
     "metadata": {},
     "output_type": "execute_result"
    }
   ],
   "source": [
    "# lets extract all web elements having job titles\n",
    "title_tags = driver.find_elements_by_xpath('//a[@class=\"title fw500 ellipsis\"]')\n",
    "len(title_tags)"
   ]
  },
  {
   "cell_type": "code",
   "execution_count": 68,
   "id": "d256c30c",
   "metadata": {},
   "outputs": [
    {
     "data": {
      "text/plain": [
       "20"
      ]
     },
     "execution_count": 68,
     "metadata": {},
     "output_type": "execute_result"
    }
   ],
   "source": [
    "# Now the text of job title is inside the web elements extracted above\n",
    "# so we will run a for loop to iterate over th tags \n",
    "job_titles =[]\n",
    "\n",
    "for i in title_tags:\n",
    "    job_titles.append(i.text)\n",
    "len(job_titles)    "
   ]
  },
  {
   "cell_type": "markdown",
   "id": "29455840",
   "metadata": {},
   "source": [
    "### Extracting company names"
   ]
  },
  {
   "cell_type": "code",
   "execution_count": 69,
   "id": "4ce805b0",
   "metadata": {},
   "outputs": [
    {
     "data": {
      "text/plain": [
       "20"
      ]
     },
     "execution_count": 69,
     "metadata": {},
     "output_type": "execute_result"
    }
   ],
   "source": [
    "# lets extract all web elements having company names\n",
    "company_tags = driver.find_elements_by_xpath('//a[@class=\"subTitle ellipsis fleft\"]')\n",
    "len(company_tags)"
   ]
  },
  {
   "cell_type": "code",
   "execution_count": 70,
   "id": "396be2e2",
   "metadata": {},
   "outputs": [
    {
     "data": {
      "text/plain": [
       "20"
      ]
     },
     "execution_count": 70,
     "metadata": {},
     "output_type": "execute_result"
    }
   ],
   "source": [
    "# so we will run a for loop to iterate all web elements having company names\n",
    "company_names = []\n",
    "\n",
    "for i in company_tags:\n",
    "    company_names.append(i.text)\n",
    "len(company_names)\n",
    "    "
   ]
  },
  {
   "cell_type": "markdown",
   "id": "296c7c17",
   "metadata": {},
   "source": [
    "### Extracting experience"
   ]
  },
  {
   "cell_type": "code",
   "execution_count": 71,
   "id": "5235edf7",
   "metadata": {},
   "outputs": [
    {
     "data": {
      "text/plain": [
       "20"
      ]
     },
     "execution_count": 71,
     "metadata": {},
     "output_type": "execute_result"
    }
   ],
   "source": [
    "# Let's extract all web elements having experience using contains\n",
    "exp_tags = driver.find_elements_by_xpath('//*[contains(@title, \"Yrs \")]')\n",
    "len(exp_tags)"
   ]
  },
  {
   "cell_type": "code",
   "execution_count": 72,
   "id": "02f1495a",
   "metadata": {},
   "outputs": [
    {
     "data": {
      "text/plain": [
       "20"
      ]
     },
     "execution_count": 72,
     "metadata": {},
     "output_type": "execute_result"
    }
   ],
   "source": [
    "# Let's extract all web elements having experiance using parent tag\n",
    "exp_tags = driver.find_elements_by_xpath('//li[@class=\"fleft grey-text br2 placeHolderLi experience\"]' )\n",
    "len(exp_tags)\n"
   ]
  },
  {
   "cell_type": "code",
   "execution_count": 73,
   "id": "b4883015",
   "metadata": {},
   "outputs": [
    {
     "data": {
      "text/plain": [
       "20"
      ]
     },
     "execution_count": 73,
     "metadata": {},
     "output_type": "execute_result"
    }
   ],
   "source": [
    "experience = []\n",
    "\n",
    "for i in exp_tags:\n",
    "    experience.append(i.text)\n",
    "len(experience)    "
   ]
  },
  {
   "cell_type": "code",
   "execution_count": 74,
   "id": "c742d3cf",
   "metadata": {},
   "outputs": [
    {
     "data": {
      "text/plain": [
       "['3-5 Yrs',\n",
       " '2-5 Yrs',\n",
       " '5-10 Yrs',\n",
       " '2-5 Yrs',\n",
       " '3-8 Yrs',\n",
       " '3-5 Yrs',\n",
       " '4-6 Yrs',\n",
       " '6-11 Yrs',\n",
       " '5-10 Yrs',\n",
       " '5-10 Yrs',\n",
       " '5-10 Yrs',\n",
       " '0-1 Yrs',\n",
       " '6-11 Yrs',\n",
       " '2-5 Yrs',\n",
       " '7-12 Yrs',\n",
       " '0-1 Yrs',\n",
       " '0-2 Yrs',\n",
       " '2-6 Yrs',\n",
       " '4-8 Yrs',\n",
       " '3-7 Yrs']"
      ]
     },
     "execution_count": 74,
     "metadata": {},
     "output_type": "execute_result"
    }
   ],
   "source": [
    "experience"
   ]
  },
  {
   "cell_type": "markdown",
   "id": "e41ea0df",
   "metadata": {},
   "source": [
    "### Extracting location"
   ]
  },
  {
   "cell_type": "code",
   "execution_count": 75,
   "id": "d097827b",
   "metadata": {},
   "outputs": [
    {
     "data": {
      "text/plain": [
       "20"
      ]
     },
     "execution_count": 75,
     "metadata": {},
     "output_type": "execute_result"
    }
   ],
   "source": [
    "locn_tags = driver.find_elements_by_xpath('//li[@class=\"fleft grey-text br2 placeHolderLi location\"]')\n",
    "len(locn_tags)"
   ]
  },
  {
   "cell_type": "code",
   "execution_count": 76,
   "id": "6a24ba56",
   "metadata": {},
   "outputs": [
    {
     "data": {
      "text/plain": [
       "20"
      ]
     },
     "execution_count": 76,
     "metadata": {},
     "output_type": "execute_result"
    }
   ],
   "source": [
    "location = []\n",
    "\n",
    "for i in locn_tags:\n",
    "    location.append(i.text)\n",
    "len(location)   "
   ]
  },
  {
   "cell_type": "markdown",
   "id": "e7912d15",
   "metadata": {},
   "source": [
    "### Extracting salary"
   ]
  },
  {
   "cell_type": "code",
   "execution_count": 77,
   "id": "2940d029",
   "metadata": {},
   "outputs": [
    {
     "data": {
      "text/plain": [
       "20"
      ]
     },
     "execution_count": 77,
     "metadata": {},
     "output_type": "execute_result"
    }
   ],
   "source": [
    "sal = driver.find_elements_by_xpath('//li[@class=\"fleft grey-text br2 placeHolderLi salary\"]')\n",
    "len(sal)"
   ]
  },
  {
   "cell_type": "code",
   "execution_count": 78,
   "id": "db089d32",
   "metadata": {},
   "outputs": [
    {
     "data": {
      "text/plain": [
       "20"
      ]
     },
     "execution_count": 78,
     "metadata": {},
     "output_type": "execute_result"
    }
   ],
   "source": [
    "salary = []\n",
    "\n",
    "for i in sal:\n",
    "    salary.append(i.text)\n",
    "len(salary)   "
   ]
  },
  {
   "cell_type": "code",
   "execution_count": 79,
   "id": "647c6d24",
   "metadata": {},
   "outputs": [
    {
     "data": {
      "text/plain": [
       "(20, 20, 20, 20, 20)"
      ]
     },
     "execution_count": 79,
     "metadata": {},
     "output_type": "execute_result"
    }
   ],
   "source": [
    "len(job_titles), len(company_names), len(experience),len(location), len(salary)"
   ]
  },
  {
   "cell_type": "code",
   "execution_count": 82,
   "id": "9972070a",
   "metadata": {},
   "outputs": [
    {
     "data": {
      "text/html": [
       "<div>\n",
       "<style scoped>\n",
       "    .dataframe tbody tr th:only-of-type {\n",
       "        vertical-align: middle;\n",
       "    }\n",
       "\n",
       "    .dataframe tbody tr th {\n",
       "        vertical-align: top;\n",
       "    }\n",
       "\n",
       "    .dataframe thead th {\n",
       "        text-align: right;\n",
       "    }\n",
       "</style>\n",
       "<table border=\"1\" class=\"dataframe\">\n",
       "  <thead>\n",
       "    <tr style=\"text-align: right;\">\n",
       "      <th></th>\n",
       "      <th>Job Title</th>\n",
       "      <th>Company</th>\n",
       "      <th>Experience</th>\n",
       "      <th>Location</th>\n",
       "      <th>Salary</th>\n",
       "    </tr>\n",
       "  </thead>\n",
       "  <tbody>\n",
       "    <tr>\n",
       "      <th>0</th>\n",
       "      <td>Global Tax Automation &amp; Operations - Data Scie...</td>\n",
       "      <td>Dell</td>\n",
       "      <td>3-5 Yrs</td>\n",
       "      <td>Bangalore/Bengaluru</td>\n",
       "      <td>Not disclosed</td>\n",
       "    </tr>\n",
       "    <tr>\n",
       "      <th>1</th>\n",
       "      <td>Analyst / Data Scientist</td>\n",
       "      <td>MilliporeSigma</td>\n",
       "      <td>2-5 Yrs</td>\n",
       "      <td>Bangalore/Bengaluru</td>\n",
       "      <td>Not disclosed</td>\n",
       "    </tr>\n",
       "    <tr>\n",
       "      <th>2</th>\n",
       "      <td>Data Scientist: Advanced Analytics</td>\n",
       "      <td>IBM</td>\n",
       "      <td>5-10 Yrs</td>\n",
       "      <td>Bangalore/Bengaluru</td>\n",
       "      <td>Not disclosed</td>\n",
       "    </tr>\n",
       "    <tr>\n",
       "      <th>3</th>\n",
       "      <td>Data Scientist: Advanced Analytics</td>\n",
       "      <td>IBM</td>\n",
       "      <td>2-5 Yrs</td>\n",
       "      <td>Bangalore/Bengaluru</td>\n",
       "      <td>Not disclosed</td>\n",
       "    </tr>\n",
       "    <tr>\n",
       "      <th>4</th>\n",
       "      <td>Senior Data Scientist</td>\n",
       "      <td>Siemens</td>\n",
       "      <td>3-8 Yrs</td>\n",
       "      <td>Bangalore/Bengaluru</td>\n",
       "      <td>Not disclosed</td>\n",
       "    </tr>\n",
       "    <tr>\n",
       "      <th>5</th>\n",
       "      <td>Senior Data Scientist</td>\n",
       "      <td>Sabre</td>\n",
       "      <td>3-5 Yrs</td>\n",
       "      <td>Bangalore/Bengaluru</td>\n",
       "      <td>Not disclosed</td>\n",
       "    </tr>\n",
       "    <tr>\n",
       "      <th>6</th>\n",
       "      <td>Senior Data Scientist (Fintech)</td>\n",
       "      <td>NIRA</td>\n",
       "      <td>4-6 Yrs</td>\n",
       "      <td>Bangalore/Bengaluru</td>\n",
       "      <td>25,00,000 - 35,00,000 PA.</td>\n",
       "    </tr>\n",
       "    <tr>\n",
       "      <th>7</th>\n",
       "      <td>Senior Data Scientist</td>\n",
       "      <td>Shell</td>\n",
       "      <td>6-11 Yrs</td>\n",
       "      <td>Chennai, Bangalore/Bengaluru</td>\n",
       "      <td>Not disclosed</td>\n",
       "    </tr>\n",
       "    <tr>\n",
       "      <th>8</th>\n",
       "      <td>Data Scientist - Lead / Architect - Looking Fo...</td>\n",
       "      <td>Wipro</td>\n",
       "      <td>5-10 Yrs</td>\n",
       "      <td>Kochi/Cochin, Kolkata, Pune, Gurgaon/Gurugram,...</td>\n",
       "      <td>Not disclosed</td>\n",
       "    </tr>\n",
       "    <tr>\n",
       "      <th>9</th>\n",
       "      <td>Data Scientist - Lead / Architect - Looking Fo...</td>\n",
       "      <td>Wipro</td>\n",
       "      <td>5-10 Yrs</td>\n",
       "      <td>Hyderabad/Secunderabad, Pune, Chennai, Bangalo...</td>\n",
       "      <td>Not disclosed</td>\n",
       "    </tr>\n",
       "    <tr>\n",
       "      <th>10</th>\n",
       "      <td>Data Scientist - Lead / Architect - Looking Fo...</td>\n",
       "      <td>Wipro</td>\n",
       "      <td>5-10 Yrs</td>\n",
       "      <td>Kochi/Cochin, Kolkata, Pune, Gurgaon/Gurugram,...</td>\n",
       "      <td>Not disclosed</td>\n",
       "    </tr>\n",
       "  </tbody>\n",
       "</table>\n",
       "</div>"
      ],
      "text/plain": [
       "                                            Job Title         Company  \\\n",
       "0   Global Tax Automation & Operations - Data Scie...            Dell   \n",
       "1                            Analyst / Data Scientist  MilliporeSigma   \n",
       "2                  Data Scientist: Advanced Analytics             IBM   \n",
       "3                  Data Scientist: Advanced Analytics             IBM   \n",
       "4                               Senior Data Scientist         Siemens   \n",
       "5                               Senior Data Scientist           Sabre   \n",
       "6                     Senior Data Scientist (Fintech)            NIRA   \n",
       "7                               Senior Data Scientist           Shell   \n",
       "8   Data Scientist - Lead / Architect - Looking Fo...           Wipro   \n",
       "9   Data Scientist - Lead / Architect - Looking Fo...           Wipro   \n",
       "10  Data Scientist - Lead / Architect - Looking Fo...           Wipro   \n",
       "\n",
       "   Experience                                           Location  \\\n",
       "0     3-5 Yrs                                Bangalore/Bengaluru   \n",
       "1     2-5 Yrs                                Bangalore/Bengaluru   \n",
       "2    5-10 Yrs                                Bangalore/Bengaluru   \n",
       "3     2-5 Yrs                                Bangalore/Bengaluru   \n",
       "4     3-8 Yrs                                Bangalore/Bengaluru   \n",
       "5     3-5 Yrs                                Bangalore/Bengaluru   \n",
       "6     4-6 Yrs                                Bangalore/Bengaluru   \n",
       "7    6-11 Yrs                       Chennai, Bangalore/Bengaluru   \n",
       "8    5-10 Yrs  Kochi/Cochin, Kolkata, Pune, Gurgaon/Gurugram,...   \n",
       "9    5-10 Yrs  Hyderabad/Secunderabad, Pune, Chennai, Bangalo...   \n",
       "10   5-10 Yrs  Kochi/Cochin, Kolkata, Pune, Gurgaon/Gurugram,...   \n",
       "\n",
       "                       Salary  \n",
       "0               Not disclosed  \n",
       "1               Not disclosed  \n",
       "2               Not disclosed  \n",
       "3               Not disclosed  \n",
       "4               Not disclosed  \n",
       "5               Not disclosed  \n",
       "6   25,00,000 - 35,00,000 PA.  \n",
       "7               Not disclosed  \n",
       "8               Not disclosed  \n",
       "9               Not disclosed  \n",
       "10              Not disclosed  "
      ]
     },
     "execution_count": 82,
     "metadata": {},
     "output_type": "execute_result"
    }
   ],
   "source": [
    "## Let's create a DataFrame for our data\n",
    "jobs = pd.DataFrame()\n",
    "jobs['Job Title'] = job_titles[0:11]\n",
    "jobs['Company'] = company_names[0:11]\n",
    "jobs['Experience'] = experience[0:11]\n",
    "jobs['Location'] = location[0:11]\n",
    "jobs['Salary'] = salary[0:11]\n",
    "jobs"
   ]
  },
  {
   "cell_type": "markdown",
   "id": "07c84c86",
   "metadata": {},
   "source": [
    "## Q3: In this question you have to scrape data using the filters available on the webpage as shown below:\n",
    "## You have to use the location and salary filter.\n",
    "## You have to scrape data for “Data Scientist” designation for first 10 job results.\n",
    "## You have to scrape the job-title, job-location, company name, experience required. The location filter to be used is “Delhi/NCR”. The salary filter to be used is “3-6” lakhs\n",
    "## The task will be done as shown in the below steps:\n",
    "## 1. first get the webpage https://www.naukri.com/\n",
    "## 2. Enter “Data Scientist” in “Skill, Designations, and Companies” field.\n",
    "## 3. Then click the search button.\n",
    "## 4. Then apply the location filter and salary filter by checking the respective boxes\n",
    "## 5. Then scrape the data for the first 10 jobs results you get.\n",
    "## 6. Finally create a dataframe of the scraped data."
   ]
  },
  {
   "cell_type": "code",
   "execution_count": 100,
   "id": "ce5c21dc",
   "metadata": {},
   "outputs": [],
   "source": [
    " # Let's import the required libraries \n",
    "import selenium\n",
    "from selenium import webdriver \n",
    "import pandas as pd\n",
    "import warnings\n",
    "import time\n",
    "warnings.filterwarnings(\"ignore\")"
   ]
  },
  {
   "cell_type": "code",
   "execution_count": 101,
   "id": "d84d2314",
   "metadata": {},
   "outputs": [],
   "source": [
    "# lets first connect to web driver \n",
    "driver = webdriver.Chrome(r'C:\\Users\\ROHIT RAJAN\\Downloads\\chromedriver_win32\\chromedriver.exe')\n",
    "time.sleep(5)"
   ]
  },
  {
   "cell_type": "code",
   "execution_count": 102,
   "id": "a68eed6b",
   "metadata": {},
   "outputs": [],
   "source": [
    "url = 'http://www.naukri.com/'\n",
    "driver.get(url)"
   ]
  },
  {
   "cell_type": "code",
   "execution_count": 103,
   "id": "d2c8c5c9",
   "metadata": {},
   "outputs": [
    {
     "data": {
      "text/plain": [
       "<selenium.webdriver.remote.webelement.WebElement (session=\"9f7f877e39c02c1e71a1825eccf60082\", element=\"0ff4a8af-9718-4076-846d-2413e1bc807d\")>"
      ]
     },
     "execution_count": 103,
     "metadata": {},
     "output_type": "execute_result"
    }
   ],
   "source": [
    "# finding web elelment for search job bar using class name\n",
    "search_job = driver.find_element_by_class_name(\"suggestor-input\" )\n",
    "search_job"
   ]
  },
  {
   "cell_type": "code",
   "execution_count": 104,
   "id": "61d18bb6",
   "metadata": {},
   "outputs": [],
   "source": [
    "# write on a search bar\n",
    "search_job.send_keys(\"Data Scientist\") "
   ]
  },
  {
   "cell_type": "code",
   "execution_count": 105,
   "id": "e2e22847",
   "metadata": {},
   "outputs": [
    {
     "data": {
      "text/plain": [
       "<selenium.webdriver.remote.webelement.WebElement (session=\"9f7f877e39c02c1e71a1825eccf60082\", element=\"8152e521-db91-483d-932b-a5fa286d4745\")>"
      ]
     },
     "execution_count": 105,
     "metadata": {},
     "output_type": "execute_result"
    }
   ],
   "source": [
    "search_btn = driver.find_element_by_xpath('/html/body/div/div[2]/div[3]/div/div/div[6]')\n",
    "search_btn"
   ]
  },
  {
   "cell_type": "code",
   "execution_count": 106,
   "id": "d36f759c",
   "metadata": {},
   "outputs": [],
   "source": [
    "search_btn.click()"
   ]
  },
  {
   "cell_type": "code",
   "execution_count": 107,
   "id": "8c7551d2",
   "metadata": {},
   "outputs": [],
   "source": [
    "time.sleep(5)\n",
    "search_filter_loc = driver.find_element_by_xpath('//span[@title=\"Delhi / NCR\"]')\n",
    "search_filter_loc.click()"
   ]
  },
  {
   "cell_type": "code",
   "execution_count": 108,
   "id": "b64b0a90",
   "metadata": {},
   "outputs": [],
   "source": [
    "search_filter_loc = driver.find_element_by_xpath('//span[@title=\"3-6 Lakhs\"]')\n",
    "search_filter_loc.click()"
   ]
  },
  {
   "cell_type": "markdown",
   "id": "cb565459",
   "metadata": {},
   "source": [
    "### Extracting title"
   ]
  },
  {
   "cell_type": "code",
   "execution_count": 109,
   "id": "be91b64c",
   "metadata": {},
   "outputs": [],
   "source": [
    "title = []\n",
    "title = driver.find_elements_by_xpath(\"//a[@class='title fw500 ellipsis']\")"
   ]
  },
  {
   "cell_type": "code",
   "execution_count": 110,
   "id": "cd25b702",
   "metadata": {},
   "outputs": [],
   "source": [
    "job_title = []\n",
    "for i in title:\n",
    "    job_title.append(i.text)"
   ]
  },
  {
   "cell_type": "code",
   "execution_count": 119,
   "id": "85d6ba16",
   "metadata": {},
   "outputs": [
    {
     "data": {
      "text/plain": [
       "['Data Scientist',\n",
       " 'Data Scientist | A Fintech Organisation',\n",
       " 'Data Scientist-Onsite and offshore',\n",
       " 'Data Scientist (freelance)',\n",
       " 'Data Scientist',\n",
       " 'Data Scientist',\n",
       " 'Data Scientist',\n",
       " 'Data & Applied Scientist',\n",
       " 'Data and applied Scientist',\n",
       " 'Urgent Requirement || Data Scientist || Noida']"
      ]
     },
     "execution_count": 119,
     "metadata": {},
     "output_type": "execute_result"
    }
   ],
   "source": [
    "jobs = job_title[0:10]\n",
    "jobs"
   ]
  },
  {
   "cell_type": "markdown",
   "id": "edaf8eae",
   "metadata": {},
   "source": [
    "### Extracting company name"
   ]
  },
  {
   "cell_type": "code",
   "execution_count": 112,
   "id": "b21a7390",
   "metadata": {},
   "outputs": [],
   "source": [
    "com_name = []\n",
    "com_name = driver.find_elements_by_xpath(\"//a[@class='subTitle ellipsis fleft']\")\n",
    "company_name = []\n",
    "for i in com_name:\n",
    "    company_name.append(i.text)"
   ]
  },
  {
   "cell_type": "code",
   "execution_count": 113,
   "id": "4794037c",
   "metadata": {},
   "outputs": [
    {
     "data": {
      "text/plain": [
       "['NAVIKENZ INDIA PRIVATE LIMITED',\n",
       " 'Vision Beyond Resources India Private Limited',\n",
       " 'PROKXIMITY',\n",
       " '2Coms',\n",
       " 'CHANGE LEADERS CONSULTING',\n",
       " 'DECISION POINT PRIVATE LIMITED',\n",
       " 'Alp Consulting Limited',\n",
       " 'Microsoft',\n",
       " 'Microsoft',\n",
       " 'HCL']"
      ]
     },
     "execution_count": 113,
     "metadata": {},
     "output_type": "execute_result"
    }
   ],
   "source": [
    "jobs_company_name = company_name[0:10]\n",
    "jobs_company_name"
   ]
  },
  {
   "cell_type": "markdown",
   "id": "f3ab199d",
   "metadata": {},
   "source": [
    "### Extracting experience"
   ]
  },
  {
   "cell_type": "code",
   "execution_count": 114,
   "id": "7f2f5c61",
   "metadata": {},
   "outputs": [],
   "source": [
    "exp = []\n",
    "exp = driver.find_elements_by_xpath(\"//li[@class='fleft grey-text br2 placeHolderLi experience']/span[1]\")\n",
    "exp_req = []\n",
    "for i in exp:\n",
    "    exp_req.append(i.text)"
   ]
  },
  {
   "cell_type": "code",
   "execution_count": 115,
   "id": "245f727b",
   "metadata": {},
   "outputs": [
    {
     "data": {
      "text/plain": [
       "['2-5 Yrs',\n",
       " '2-7 Yrs',\n",
       " '3-8 Yrs',\n",
       " '2-7 Yrs',\n",
       " '3-8 Yrs',\n",
       " '1-6 Yrs',\n",
       " '1-6 Yrs',\n",
       " '3-7 Yrs',\n",
       " '3-7 Yrs',\n",
       " '3-8 Yrs']"
      ]
     },
     "execution_count": 115,
     "metadata": {},
     "output_type": "execute_result"
    }
   ],
   "source": [
    "jobs_exp_req = exp_req[0:10]\n",
    "jobs_exp_req"
   ]
  },
  {
   "cell_type": "markdown",
   "id": "e10342f6",
   "metadata": {},
   "source": [
    "### Extracting Location"
   ]
  },
  {
   "cell_type": "code",
   "execution_count": 116,
   "id": "264e91b5",
   "metadata": {},
   "outputs": [],
   "source": [
    "loc = []\n",
    "loc = driver.find_elements_by_xpath(\"//li[@class = 'fleft grey-text br2 placeHolderLi location']/span[1]\")\n",
    "location = []\n",
    "for i in loc:\n",
    "    location.append(i.text)"
   ]
  },
  {
   "cell_type": "code",
   "execution_count": 117,
   "id": "e7309c02",
   "metadata": {},
   "outputs": [
    {
     "data": {
      "text/plain": [
       "['Hyderabad/Secunderabad, Bangalore/Bengaluru, Delhi / NCR',\n",
       " 'Gurgaon/Gurugram',\n",
       " 'Hyderabad/Secunderabad, Pune, Chennai, Bangalore/Bengaluru, Delhi / NCR, Mumbai (All Areas)',\n",
       " 'New Delhi, Delhi',\n",
       " 'New Delhi',\n",
       " 'Gurgaon/Gurugram, Chennai',\n",
       " 'Kolkata, Hyderabad/Secunderabad, Pune, Chennai, Bangalore/Bengaluru, Delhi / NCR',\n",
       " 'Noida, Hyderabad/Secunderabad, Bangalore/Bengaluru',\n",
       " 'Noida, Hyderabad/Secunderabad, Bangalore/Bengaluru',\n",
       " 'Noida, Delhi / NCR']"
      ]
     },
     "execution_count": 117,
     "metadata": {},
     "output_type": "execute_result"
    }
   ],
   "source": [
    "jobs_location = location[0:10]\n",
    "jobs_location"
   ]
  },
  {
   "cell_type": "code",
   "execution_count": 118,
   "id": "377f0fea",
   "metadata": {},
   "outputs": [
    {
     "data": {
      "text/html": [
       "<div>\n",
       "<style scoped>\n",
       "    .dataframe tbody tr th:only-of-type {\n",
       "        vertical-align: middle;\n",
       "    }\n",
       "\n",
       "    .dataframe tbody tr th {\n",
       "        vertical-align: top;\n",
       "    }\n",
       "\n",
       "    .dataframe thead th {\n",
       "        text-align: right;\n",
       "    }\n",
       "</style>\n",
       "<table border=\"1\" class=\"dataframe\">\n",
       "  <thead>\n",
       "    <tr style=\"text-align: right;\">\n",
       "      <th></th>\n",
       "      <th>JOB TITLE</th>\n",
       "      <th>JOB LOCATION</th>\n",
       "      <th>COMPANY NAME</th>\n",
       "      <th>EXPERIENCE REQUIRED</th>\n",
       "    </tr>\n",
       "  </thead>\n",
       "  <tbody>\n",
       "    <tr>\n",
       "      <th>0</th>\n",
       "      <td>Data Scientist</td>\n",
       "      <td>Hyderabad/Secunderabad, Bangalore/Bengaluru, D...</td>\n",
       "      <td>NAVIKENZ INDIA PRIVATE LIMITED</td>\n",
       "      <td>2-5 Yrs</td>\n",
       "    </tr>\n",
       "    <tr>\n",
       "      <th>1</th>\n",
       "      <td>Data Scientist | A Fintech Organisation</td>\n",
       "      <td>Gurgaon/Gurugram</td>\n",
       "      <td>Vision Beyond Resources India Private Limited</td>\n",
       "      <td>2-7 Yrs</td>\n",
       "    </tr>\n",
       "    <tr>\n",
       "      <th>2</th>\n",
       "      <td>Data Scientist-Onsite and offshore</td>\n",
       "      <td>Hyderabad/Secunderabad, Pune, Chennai, Bangalo...</td>\n",
       "      <td>PROKXIMITY</td>\n",
       "      <td>3-8 Yrs</td>\n",
       "    </tr>\n",
       "    <tr>\n",
       "      <th>3</th>\n",
       "      <td>Data Scientist (freelance)</td>\n",
       "      <td>New Delhi, Delhi</td>\n",
       "      <td>2Coms</td>\n",
       "      <td>2-7 Yrs</td>\n",
       "    </tr>\n",
       "    <tr>\n",
       "      <th>4</th>\n",
       "      <td>Data Scientist</td>\n",
       "      <td>New Delhi</td>\n",
       "      <td>CHANGE LEADERS CONSULTING</td>\n",
       "      <td>3-8 Yrs</td>\n",
       "    </tr>\n",
       "    <tr>\n",
       "      <th>5</th>\n",
       "      <td>Data Scientist</td>\n",
       "      <td>Gurgaon/Gurugram, Chennai</td>\n",
       "      <td>DECISION POINT PRIVATE LIMITED</td>\n",
       "      <td>1-6 Yrs</td>\n",
       "    </tr>\n",
       "    <tr>\n",
       "      <th>6</th>\n",
       "      <td>Data Scientist</td>\n",
       "      <td>Kolkata, Hyderabad/Secunderabad, Pune, Chennai...</td>\n",
       "      <td>Alp Consulting Limited</td>\n",
       "      <td>1-6 Yrs</td>\n",
       "    </tr>\n",
       "    <tr>\n",
       "      <th>7</th>\n",
       "      <td>Data &amp; Applied Scientist</td>\n",
       "      <td>Noida, Hyderabad/Secunderabad, Bangalore/Benga...</td>\n",
       "      <td>Microsoft</td>\n",
       "      <td>3-7 Yrs</td>\n",
       "    </tr>\n",
       "    <tr>\n",
       "      <th>8</th>\n",
       "      <td>Data and applied Scientist</td>\n",
       "      <td>Noida, Hyderabad/Secunderabad, Bangalore/Benga...</td>\n",
       "      <td>Microsoft</td>\n",
       "      <td>3-7 Yrs</td>\n",
       "    </tr>\n",
       "    <tr>\n",
       "      <th>9</th>\n",
       "      <td>Urgent Requirement || Data Scientist || Noida</td>\n",
       "      <td>Noida, Delhi / NCR</td>\n",
       "      <td>HCL</td>\n",
       "      <td>3-8 Yrs</td>\n",
       "    </tr>\n",
       "  </tbody>\n",
       "</table>\n",
       "</div>"
      ],
      "text/plain": [
       "                                       JOB TITLE  \\\n",
       "0                                 Data Scientist   \n",
       "1        Data Scientist | A Fintech Organisation   \n",
       "2             Data Scientist-Onsite and offshore   \n",
       "3                     Data Scientist (freelance)   \n",
       "4                                 Data Scientist   \n",
       "5                                 Data Scientist   \n",
       "6                                 Data Scientist   \n",
       "7                       Data & Applied Scientist   \n",
       "8                     Data and applied Scientist   \n",
       "9  Urgent Requirement || Data Scientist || Noida   \n",
       "\n",
       "                                        JOB LOCATION  \\\n",
       "0  Hyderabad/Secunderabad, Bangalore/Bengaluru, D...   \n",
       "1                                   Gurgaon/Gurugram   \n",
       "2  Hyderabad/Secunderabad, Pune, Chennai, Bangalo...   \n",
       "3                                   New Delhi, Delhi   \n",
       "4                                          New Delhi   \n",
       "5                          Gurgaon/Gurugram, Chennai   \n",
       "6  Kolkata, Hyderabad/Secunderabad, Pune, Chennai...   \n",
       "7  Noida, Hyderabad/Secunderabad, Bangalore/Benga...   \n",
       "8  Noida, Hyderabad/Secunderabad, Bangalore/Benga...   \n",
       "9                                 Noida, Delhi / NCR   \n",
       "\n",
       "                                    COMPANY NAME EXPERIENCE REQUIRED  \n",
       "0                 NAVIKENZ INDIA PRIVATE LIMITED             2-5 Yrs  \n",
       "1  Vision Beyond Resources India Private Limited             2-7 Yrs  \n",
       "2                                     PROKXIMITY             3-8 Yrs  \n",
       "3                                          2Coms             2-7 Yrs  \n",
       "4                      CHANGE LEADERS CONSULTING             3-8 Yrs  \n",
       "5                 DECISION POINT PRIVATE LIMITED             1-6 Yrs  \n",
       "6                         Alp Consulting Limited             1-6 Yrs  \n",
       "7                                      Microsoft             3-7 Yrs  \n",
       "8                                      Microsoft             3-7 Yrs  \n",
       "9                                            HCL             3-8 Yrs  "
      ]
     },
     "execution_count": 118,
     "metadata": {},
     "output_type": "execute_result"
    }
   ],
   "source": [
    "job_details = pd.DataFrame({})\n",
    "\n",
    "job_details[\"JOB TITLE\"] = jobs\n",
    "job_details[\"JOB LOCATION\"] = jobs_location\n",
    "job_details[\"COMPANY NAME\"] = jobs_company_name\n",
    "job_details[\"EXPERIENCE REQUIRED\"] = jobs_exp_req\n",
    "\n",
    "job_details"
   ]
  },
  {
   "cell_type": "markdown",
   "id": "9600f1ce",
   "metadata": {},
   "source": [
    "## Q4: Scrape data of first 100 sunglasses listings on flipkart.com. You have to scrape four attributes:\n",
    "## 1. Brand\n",
    "## 2. Product Description\n",
    "## 3. Price\n",
    "## The attributes which you have to scrape is ticked marked in the below image.\n",
    "## To scrape the data you have to go through following steps:\n",
    "## 1. Go to Flipkart webpage by url : https://www.flipkart.com/\n",
    "## 2. Enter “sunglasses” in the search field where “search for products, brands andmore” is written and click the search icon\n",
    "## 3. After that you will reach to the page having a lot of sunglasses. From this pageyou can scrap the required data as usual."
   ]
  },
  {
   "cell_type": "code",
   "execution_count": 125,
   "id": "41cd485d",
   "metadata": {},
   "outputs": [],
   "source": [
    " # Let's import the required libraries \n",
    "import selenium\n",
    "from selenium import webdriver \n",
    "import pandas as pd\n",
    "import warnings\n",
    "import time\n",
    "warnings.filterwarnings(\"ignore\")"
   ]
  },
  {
   "cell_type": "code",
   "execution_count": 126,
   "id": "2111331a",
   "metadata": {},
   "outputs": [],
   "source": [
    "# lets first connect to web driver \n",
    "driver = webdriver.Chrome(r'C:\\Users\\ROHIT RAJAN\\Downloads\\chromedriver_win32\\chromedriver.exe')\n",
    "time.sleep(5)"
   ]
  },
  {
   "cell_type": "code",
   "execution_count": 127,
   "id": "a82fb265",
   "metadata": {},
   "outputs": [],
   "source": [
    "url = 'https://www.flipkart.com/'\n",
    "driver.get(url)"
   ]
  },
  {
   "cell_type": "code",
   "execution_count": 128,
   "id": "9e9ec8b2",
   "metadata": {},
   "outputs": [],
   "source": [
    "time.sleep(5)\n",
    "close = driver.find_element_by_xpath(\"//button[@class='_2KpZ6l _2doB4z']\")\n",
    "close.click()"
   ]
  },
  {
   "cell_type": "code",
   "execution_count": 129,
   "id": "ecb23164",
   "metadata": {},
   "outputs": [],
   "source": [
    "search_prod = driver.find_element_by_name('q')\n",
    "search_prod.send_keys(\"sunglasses\")"
   ]
  },
  {
   "cell_type": "code",
   "execution_count": 130,
   "id": "5893386d",
   "metadata": {},
   "outputs": [],
   "source": [
    "search_button = driver.find_element_by_xpath(\"//button[@class='L0Z3Pu']\")\n",
    "search_button.click()"
   ]
  },
  {
   "cell_type": "markdown",
   "id": "f306b5e9",
   "metadata": {},
   "source": [
    "### 1.Brand\n",
    "### 2.Product\n",
    "### 3.Price\n",
    "### 4.Discount"
   ]
  },
  {
   "cell_type": "code",
   "execution_count": 133,
   "id": "5fdd43b8",
   "metadata": {},
   "outputs": [],
   "source": [
    "brand = []\n",
    "brand = driver.find_elements_by_xpath(\"//div[@class='_2WkVRV']\")\n"
   ]
  },
  {
   "cell_type": "code",
   "execution_count": 136,
   "id": "2176d23b",
   "metadata": {},
   "outputs": [
    {
     "data": {
      "text/plain": [
       "[<selenium.webdriver.remote.webelement.WebElement (session=\"b24f473d7e39f067a5080e81ca822e0c\", element=\"9610f282-3959-4861-a873-6d820229f420\")>,\n",
       " <selenium.webdriver.remote.webelement.WebElement (session=\"b24f473d7e39f067a5080e81ca822e0c\", element=\"6febd1f7-bc9d-4044-bdbc-bf7c5b60a86b\")>,\n",
       " <selenium.webdriver.remote.webelement.WebElement (session=\"b24f473d7e39f067a5080e81ca822e0c\", element=\"d108541b-b3bd-42c1-8b00-3dd24e414680\")>,\n",
       " <selenium.webdriver.remote.webelement.WebElement (session=\"b24f473d7e39f067a5080e81ca822e0c\", element=\"6e7ece76-fcdb-4b01-9828-96acabf41bdc\")>,\n",
       " <selenium.webdriver.remote.webelement.WebElement (session=\"b24f473d7e39f067a5080e81ca822e0c\", element=\"e790b6a7-3b0d-454d-8c5c-61925f7dd297\")>,\n",
       " <selenium.webdriver.remote.webelement.WebElement (session=\"b24f473d7e39f067a5080e81ca822e0c\", element=\"974849d2-7098-4fd1-9ca2-fac17b3467eb\")>,\n",
       " <selenium.webdriver.remote.webelement.WebElement (session=\"b24f473d7e39f067a5080e81ca822e0c\", element=\"391378c1-5641-448e-83fb-3760d3418c32\")>,\n",
       " <selenium.webdriver.remote.webelement.WebElement (session=\"b24f473d7e39f067a5080e81ca822e0c\", element=\"7bb3eb63-049e-4b08-88ab-738475c5df55\")>,\n",
       " <selenium.webdriver.remote.webelement.WebElement (session=\"b24f473d7e39f067a5080e81ca822e0c\", element=\"ff4772b4-2846-4c88-aefc-ef62e9c59317\")>,\n",
       " <selenium.webdriver.remote.webelement.WebElement (session=\"b24f473d7e39f067a5080e81ca822e0c\", element=\"e23f0a1e-5a4b-44db-860f-d94ca4d61844\")>,\n",
       " <selenium.webdriver.remote.webelement.WebElement (session=\"b24f473d7e39f067a5080e81ca822e0c\", element=\"dfdc69c5-d35c-4acc-bf71-4f5851bb9567\")>,\n",
       " <selenium.webdriver.remote.webelement.WebElement (session=\"b24f473d7e39f067a5080e81ca822e0c\", element=\"997ed1dd-2171-44c3-8b3e-2594d9a05a5f\")>,\n",
       " <selenium.webdriver.remote.webelement.WebElement (session=\"b24f473d7e39f067a5080e81ca822e0c\", element=\"3a551ed6-32e9-4233-a264-1fac6211692a\")>,\n",
       " <selenium.webdriver.remote.webelement.WebElement (session=\"b24f473d7e39f067a5080e81ca822e0c\", element=\"b8a35de2-ac20-4ed1-aa09-193897838633\")>,\n",
       " <selenium.webdriver.remote.webelement.WebElement (session=\"b24f473d7e39f067a5080e81ca822e0c\", element=\"3c4aa7d2-9b09-4241-94e7-28e6b2d1c08c\")>,\n",
       " <selenium.webdriver.remote.webelement.WebElement (session=\"b24f473d7e39f067a5080e81ca822e0c\", element=\"79e1090a-1278-482d-946f-9627a522a132\")>,\n",
       " <selenium.webdriver.remote.webelement.WebElement (session=\"b24f473d7e39f067a5080e81ca822e0c\", element=\"b74bb26b-5843-47db-ace7-ed135c73a818\")>,\n",
       " <selenium.webdriver.remote.webelement.WebElement (session=\"b24f473d7e39f067a5080e81ca822e0c\", element=\"f43bab86-9ed2-48ec-b31a-729df1645afe\")>,\n",
       " <selenium.webdriver.remote.webelement.WebElement (session=\"b24f473d7e39f067a5080e81ca822e0c\", element=\"711d3671-2dcc-42d0-a381-af3c8c523d12\")>,\n",
       " <selenium.webdriver.remote.webelement.WebElement (session=\"b24f473d7e39f067a5080e81ca822e0c\", element=\"ef698c66-0c1e-465c-8693-d7a0690f51c8\")>,\n",
       " <selenium.webdriver.remote.webelement.WebElement (session=\"b24f473d7e39f067a5080e81ca822e0c\", element=\"f674004e-77da-4989-9724-cac3b0c4485f\")>,\n",
       " <selenium.webdriver.remote.webelement.WebElement (session=\"b24f473d7e39f067a5080e81ca822e0c\", element=\"57891e78-8b57-40ed-b3f9-35656f522d5d\")>,\n",
       " <selenium.webdriver.remote.webelement.WebElement (session=\"b24f473d7e39f067a5080e81ca822e0c\", element=\"eed63914-95e0-4ffe-99e9-bb20faed1a8f\")>,\n",
       " <selenium.webdriver.remote.webelement.WebElement (session=\"b24f473d7e39f067a5080e81ca822e0c\", element=\"ffef352a-e15b-4ccb-bf9f-5e329a78bf06\")>,\n",
       " <selenium.webdriver.remote.webelement.WebElement (session=\"b24f473d7e39f067a5080e81ca822e0c\", element=\"c24ff3b3-d1ad-4007-8b12-3cf831a8548f\")>,\n",
       " <selenium.webdriver.remote.webelement.WebElement (session=\"b24f473d7e39f067a5080e81ca822e0c\", element=\"a8266dda-54de-409d-bdf8-6867152b20e2\")>,\n",
       " <selenium.webdriver.remote.webelement.WebElement (session=\"b24f473d7e39f067a5080e81ca822e0c\", element=\"ae87691f-284e-48e6-8cda-e0c7d5f5dfa3\")>,\n",
       " <selenium.webdriver.remote.webelement.WebElement (session=\"b24f473d7e39f067a5080e81ca822e0c\", element=\"bd8dd83e-4941-4c29-9888-99eee1a38e64\")>,\n",
       " <selenium.webdriver.remote.webelement.WebElement (session=\"b24f473d7e39f067a5080e81ca822e0c\", element=\"594e7552-95f0-496a-89e7-ab4c4cfacbc5\")>,\n",
       " <selenium.webdriver.remote.webelement.WebElement (session=\"b24f473d7e39f067a5080e81ca822e0c\", element=\"cadff925-a686-46ac-8cb0-ae4ac8684052\")>,\n",
       " <selenium.webdriver.remote.webelement.WebElement (session=\"b24f473d7e39f067a5080e81ca822e0c\", element=\"b588b44f-b14a-4763-926f-78fd1f5d54d2\")>,\n",
       " <selenium.webdriver.remote.webelement.WebElement (session=\"b24f473d7e39f067a5080e81ca822e0c\", element=\"d0f29d73-29c1-475f-a153-7798c4e2ccae\")>,\n",
       " <selenium.webdriver.remote.webelement.WebElement (session=\"b24f473d7e39f067a5080e81ca822e0c\", element=\"07c300fa-b136-41f1-aa50-53f918e9c05e\")>,\n",
       " <selenium.webdriver.remote.webelement.WebElement (session=\"b24f473d7e39f067a5080e81ca822e0c\", element=\"2c08674c-ad28-4fed-b3b6-42b464cd9e5f\")>,\n",
       " <selenium.webdriver.remote.webelement.WebElement (session=\"b24f473d7e39f067a5080e81ca822e0c\", element=\"7dfb0990-fbfb-4f69-b7d2-0df87fc51413\")>,\n",
       " <selenium.webdriver.remote.webelement.WebElement (session=\"b24f473d7e39f067a5080e81ca822e0c\", element=\"8df1343c-1643-40fd-99e1-1d95eda26065\")>,\n",
       " <selenium.webdriver.remote.webelement.WebElement (session=\"b24f473d7e39f067a5080e81ca822e0c\", element=\"a92eb5f1-578d-46f4-83d9-e4df891b803a\")>,\n",
       " <selenium.webdriver.remote.webelement.WebElement (session=\"b24f473d7e39f067a5080e81ca822e0c\", element=\"46ceb3d0-23c3-49ca-8d2c-c1e9fd03fe1d\")>,\n",
       " <selenium.webdriver.remote.webelement.WebElement (session=\"b24f473d7e39f067a5080e81ca822e0c\", element=\"07371251-47e1-4db1-a7d2-480baf1793a4\")>,\n",
       " <selenium.webdriver.remote.webelement.WebElement (session=\"b24f473d7e39f067a5080e81ca822e0c\", element=\"58ac0e69-38cf-4fc0-bb1c-4aa59f8988dc\")>]"
      ]
     },
     "execution_count": 136,
     "metadata": {},
     "output_type": "execute_result"
    }
   ],
   "source": [
    "brand"
   ]
  },
  {
   "cell_type": "markdown",
   "id": "a7268baa",
   "metadata": {},
   "source": [
    "## Extracting brand name"
   ]
  },
  {
   "cell_type": "code",
   "execution_count": 135,
   "id": "0458de9f",
   "metadata": {},
   "outputs": [
    {
     "data": {
      "text/plain": [
       "40"
      ]
     },
     "execution_count": 135,
     "metadata": {},
     "output_type": "execute_result"
    }
   ],
   "source": [
    "time.sleep(3)\n",
    "brand_name = []\n",
    "for i in brand:\n",
    "    brand_name.append(i.text)\n",
    "len(brand_name)    "
   ]
  },
  {
   "cell_type": "code",
   "execution_count": 172,
   "id": "3fd588e4",
   "metadata": {},
   "outputs": [
    {
     "data": {
      "text/plain": [
       "['Singco India',\n",
       " 'VINCENT CHASE',\n",
       " 'GANSTA',\n",
       " 'Elligator',\n",
       " 'GANSTA',\n",
       " 'Fastrack',\n",
       " 'SRPM',\n",
       " 'ROYAL SON',\n",
       " 'SUNBEE',\n",
       " 'SHAAH COLLECTIONS',\n",
       " 'New Specs',\n",
       " 'VINCENT CHASE',\n",
       " 'SHAAH COLLECTIONS',\n",
       " 'PIRASO',\n",
       " 'kingsunglasses',\n",
       " 'VINCENT CHASE',\n",
       " 'SUNBEE',\n",
       " 'agera',\n",
       " 'Fastrack',\n",
       " 'FARENHEIT',\n",
       " 'PHENOMENAL',\n",
       " 'PIRASO',\n",
       " 'PIRASO',\n",
       " 'ROYAL SON',\n",
       " 'ROZZETTA CRAFT',\n",
       " 'Johaena',\n",
       " 'PHENOMENAL',\n",
       " 'ROYAL SON',\n",
       " 'Elligator',\n",
       " 'Elligator',\n",
       " 'PHENOMENAL',\n",
       " 'ROZZETTA CRAFT',\n",
       " 'New Specs',\n",
       " 'GANSTA',\n",
       " 'Lee Topper',\n",
       " 'VINCENT CHASE',\n",
       " 'Elligator',\n",
       " 'kingsunglasses',\n",
       " 'PHENOMENAL',\n",
       " 'VINCENT CHASE',\n",
       " 'New Specs',\n",
       " 'Elligator',\n",
       " 'ROYAL SON',\n",
       " 'ROZZETTA CRAFT',\n",
       " 'SRPM',\n",
       " 'PIRASO',\n",
       " 'Rich Club',\n",
       " 'VINCENT CHASE',\n",
       " 'New Specs',\n",
       " 'SUNBEE',\n",
       " 'Rich Club',\n",
       " 'ROYAL SON',\n",
       " 'Lee Topper',\n",
       " 'kingsunglasses',\n",
       " 'DEIXELS',\n",
       " 'VINCENT CHASE',\n",
       " 'Fastrack',\n",
       " 'kingsunglasses',\n",
       " 'hipe',\n",
       " 'VINCENT CHASE',\n",
       " 'PIRASO',\n",
       " 'GANSTA',\n",
       " 'kingsunglasses',\n",
       " 'FARENHEIT',\n",
       " 'Lee Topper',\n",
       " 'Rich Club',\n",
       " 'kingsunglasses',\n",
       " 'ROYAL SON',\n",
       " 'Johaena',\n",
       " 'Silver Kartz',\n",
       " 'PIRASO',\n",
       " 'ROYAL SON',\n",
       " 'Fastrack',\n",
       " 'Singco India',\n",
       " 'ROYAL SON',\n",
       " 'ROZZETTA CRAFT',\n",
       " 'VILLAIN',\n",
       " 'Elligator',\n",
       " 'ROZZETTA CRAFT',\n",
       " 'VINCENT CHASE',\n",
       " 'PHENOMENAL',\n",
       " 'WROGN',\n",
       " 'SHAAH COLLECTIONS',\n",
       " 'Singco India',\n",
       " 'Silver Kartz',\n",
       " 'PIRASO',\n",
       " 'Elligator',\n",
       " 'ROZZETTA CRAFT',\n",
       " 'GANSTA',\n",
       " 'PHENOMENAL',\n",
       " 'ROYAL SON',\n",
       " 'VINCENT CHASE',\n",
       " 'kingsunglasses',\n",
       " 'New Specs',\n",
       " 'Lee Topper',\n",
       " 'GANSTA',\n",
       " 'kingsunglasses',\n",
       " 'Lee Topper',\n",
       " 'GANSTA',\n",
       " 'ROYAL SON']"
      ]
     },
     "execution_count": 172,
     "metadata": {},
     "output_type": "execute_result"
    }
   ],
   "source": [
    "brand_name"
   ]
  },
  {
   "cell_type": "markdown",
   "id": "5c4aaaa0",
   "metadata": {},
   "source": [
    "## Extracting Product discription"
   ]
  },
  {
   "cell_type": "code",
   "execution_count": 137,
   "id": "b629db07",
   "metadata": {},
   "outputs": [],
   "source": [
    "time.sleep(3)\n",
    "desc = []\n",
    "desc = driver.find_elements_by_xpath(\"//a[@class='IRpwTa']\")"
   ]
  },
  {
   "cell_type": "code",
   "execution_count": 139,
   "id": "f7a44fdd",
   "metadata": {},
   "outputs": [
    {
     "data": {
      "text/plain": [
       "40"
      ]
     },
     "execution_count": 139,
     "metadata": {},
     "output_type": "execute_result"
    }
   ],
   "source": [
    "des = []\n",
    "for i in desc:\n",
    "    des.append(i.text)\n",
    "len(des)    "
   ]
  },
  {
   "cell_type": "code",
   "execution_count": 173,
   "id": "15b4bf4b",
   "metadata": {},
   "outputs": [
    {
     "data": {
      "text/plain": [
       "['Gradient, Toughened Glass Lens, UV Protection Retro Squ...',\n",
       " 'by Lenskart Polarized, UV Protection Wayfarer Sunglasse...',\n",
       " 'UV Protection, Riding Glasses Wayfarer Sunglasses (53)',\n",
       " 'UV Protection Round Sunglasses (54)',\n",
       " 'UV Protection Aviator Sunglasses (57)',\n",
       " 'UV Protection Wayfarer Sunglasses (Free Size)',\n",
       " 'UV Protection Wayfarer Sunglasses (50)',\n",
       " 'UV Protection, Gradient Butterfly Sunglasses (60)',\n",
       " 'UV Protection, Polarized Wayfarer Sunglasses (Free Size...',\n",
       " 'UV Protection, Polarized, Mirrored Rectangular Sunglass...',\n",
       " 'UV Protection Rectangular Sunglasses (Free Size)',\n",
       " 'by Lenskart Polarized, UV Protection Wayfarer Sunglasse...',\n",
       " 'UV Protection, Polarized, Mirrored Rectangular Sunglass...',\n",
       " 'UV Protection Aviator Sunglasses (54)',\n",
       " 'UV Protection Round Sunglasses (54)',\n",
       " 'by Lenskart Polarized, UV Protection Wayfarer Sunglasse...',\n",
       " 'UV Protection, Polarized, Mirrored Round Sunglasses (Fr...',\n",
       " 'Gradient Aviator Sunglasses (55)',\n",
       " 'UV Protection Rectangular Sunglasses (Free Size)',\n",
       " 'Polarized Wayfarer Sunglasses (55)',\n",
       " 'UV Protection Retro Square Sunglasses (53)',\n",
       " 'UV Protection Aviator Sunglasses (54)',\n",
       " 'UV Protection Aviator Sunglasses (54)',\n",
       " 'UV Protection Rectangular Sunglasses (64)',\n",
       " 'UV Protection, Gradient Rectangular Sunglasses (Free Si...',\n",
       " 'Riding Glasses, UV Protection Oval Sunglasses (48)',\n",
       " 'UV Protection Retro Square Sunglasses (Free Size)',\n",
       " 'Mirrored Rectangular Sunglasses (64)',\n",
       " 'UV Protection Round Sunglasses (54)',\n",
       " 'UV Protection Round Sunglasses (53)',\n",
       " 'UV Protection, Mirrored Retro Square Sunglasses (53)',\n",
       " 'UV Protection, Gradient Retro Square Sunglasses (Free S...',\n",
       " 'Mirrored, UV Protection, Riding Glasses, Others Round S...',\n",
       " 'UV Protection Aviator Sunglasses (57)',\n",
       " 'Riding Glasses, Night Vision Wrap-around Sunglasses (Fr...',\n",
       " 'by Lenskart Polarized, UV Protection Wayfarer Sunglasse...',\n",
       " 'UV Protection Round Sunglasses (50)',\n",
       " 'UV Protection Round Sunglasses (Free Size)',\n",
       " 'UV Protection Clubmaster Sunglasses (Free Size)',\n",
       " 'by Lenskart Polarized, UV Protection Wayfarer Sunglasse...',\n",
       " 'UV Protection Aviator Sunglasses (Free Size)',\n",
       " 'UV Protection Wayfarer Sunglasses (53)',\n",
       " 'UV Protection Rectangular Sunglasses (58)',\n",
       " 'UV Protection, Gradient Rectangular Sunglasses (Free Si...',\n",
       " 'UV Protection Wayfarer Sunglasses (53)',\n",
       " 'UV Protection Aviator Sunglasses (58)',\n",
       " 'Polarized Round Sunglasses (48)',\n",
       " 'by Lenskart Polarized, UV Protection Wayfarer Sunglasse...',\n",
       " 'UV Protection Rectangular Sunglasses (Free Size)',\n",
       " 'UV Protection, Polarized, Mirrored Retro Square Sunglas...',\n",
       " 'UV Protection Round Sunglasses (48)',\n",
       " 'UV Protection, Gradient Butterfly Sunglasses (60)',\n",
       " 'UV Protection Rectangular Sunglasses (Free Size)',\n",
       " 'UV Protection Rectangular Sunglasses (Free Size)',\n",
       " 'UV Protection Aviator, Wayfarer Sunglasses (Free Size)',\n",
       " 'by Lenskart Polarized, UV Protection Wayfarer Sunglasse...',\n",
       " 'UV Protection Aviator Sunglasses (Free Size)',\n",
       " 'Mirrored, UV Protection Wayfarer Sunglasses (53)',\n",
       " 'Mirrored, UV Protection, Gradient Round Sunglasses (55)',\n",
       " 'by Lenskart Polarized, UV Protection Wayfarer Sunglasse...',\n",
       " 'UV Protection Aviator Sunglasses (Free Size)',\n",
       " 'UV Protection, Gradient Aviator Sunglasses (57)',\n",
       " 'UV Protection, Others Round, Aviator Sunglasses (54)',\n",
       " 'Polarized Wayfarer Sunglasses (55)',\n",
       " 'Riding Glasses Wrap-around Sunglasses (Free Size)',\n",
       " 'UV Protection, Mirrored, Gradient Round Sunglasses (51)',\n",
       " 'UV Protection, Night Vision Wayfarer Sunglasses (Free S...',\n",
       " 'UV Protection Rectangular Sunglasses (64)',\n",
       " 'Riding Glasses, UV Protection Oval Sunglasses (52)',\n",
       " 'UV Protection Oval Sunglasses (56)',\n",
       " 'UV Protection Wayfarer Sunglasses (32)',\n",
       " 'Mirrored Rectangular Sunglasses (64)',\n",
       " 'UV Protection Aviator Sunglasses (58)',\n",
       " 'UV Protection, Riding Glasses, Others Aviator, Wayfarer...',\n",
       " 'Mirrored Aviator Sunglasses (55)',\n",
       " 'UV Protection, Gradient Retro Square Sunglasses (Free S...',\n",
       " 'Others Retro Square Sunglasses (Free Size)',\n",
       " 'UV Protection Retro Square, Round Sunglasses (54)',\n",
       " 'UV Protection Retro Square Sunglasses (Free Size)',\n",
       " 'by Lenskart Polarized, UV Protection Wayfarer Sunglasse...',\n",
       " 'UV Protection Aviator Sunglasses (Free Size)',\n",
       " 'UV Protection Wayfarer Sunglasses (53)',\n",
       " 'UV Protection Rectangular Sunglasses (58)',\n",
       " 'UV Protection, Gradient Rectangular Sunglasses (Free Si...',\n",
       " 'UV Protection Wayfarer Sunglasses (53)',\n",
       " 'UV Protection Aviator Sunglasses (58)',\n",
       " 'Polarized Round Sunglasses (48)',\n",
       " 'by Lenskart Polarized, UV Protection Wayfarer Sunglasse...',\n",
       " 'UV Protection Rectangular Sunglasses (Free Size)',\n",
       " 'UV Protection, Polarized, Mirrored Retro Square Sunglas...',\n",
       " 'UV Protection Round Sunglasses (48)',\n",
       " 'UV Protection, Gradient Butterfly Sunglasses (60)',\n",
       " 'UV Protection Rectangular Sunglasses (Free Size)',\n",
       " 'UV Protection Rectangular Sunglasses (Free Size)',\n",
       " 'UV Protection Aviator, Wayfarer Sunglasses (Free Size)',\n",
       " 'by Lenskart Polarized, UV Protection Wayfarer Sunglasse...',\n",
       " 'UV Protection Aviator Sunglasses (Free Size)',\n",
       " 'Mirrored, UV Protection Wayfarer Sunglasses (53)',\n",
       " 'Mirrored, UV Protection, Gradient Round Sunglasses (55)',\n",
       " 'by Lenskart Polarized, UV Protection Wayfarer Sunglasse...']"
      ]
     },
     "execution_count": 173,
     "metadata": {},
     "output_type": "execute_result"
    }
   ],
   "source": [
    "des"
   ]
  },
  {
   "cell_type": "markdown",
   "id": "75b220cf",
   "metadata": {},
   "source": [
    "## Extracting Price"
   ]
  },
  {
   "cell_type": "code",
   "execution_count": 140,
   "id": "ceae398f",
   "metadata": {},
   "outputs": [],
   "source": [
    "time.sleep(3)\n",
    "paise = []\n",
    "paise = driver.find_elements_by_xpath(\"//div[@class='_30jeq3']\")"
   ]
  },
  {
   "cell_type": "code",
   "execution_count": 141,
   "id": "74b52617",
   "metadata": {},
   "outputs": [
    {
     "data": {
      "text/plain": [
       "40"
      ]
     },
     "execution_count": 141,
     "metadata": {},
     "output_type": "execute_result"
    }
   ],
   "source": [
    "price = []\n",
    "for i in paise:\n",
    "    price.append(i.text)\n",
    "len(price)"
   ]
  },
  {
   "cell_type": "code",
   "execution_count": 181,
   "id": "7c11a619",
   "metadata": {},
   "outputs": [
    {
     "data": {
      "text/plain": [
       "['₹614',\n",
       " '₹1,483',\n",
       " '₹159',\n",
       " '₹198',\n",
       " '₹219',\n",
       " '₹729',\n",
       " '₹138',\n",
       " '₹614',\n",
       " '₹193',\n",
       " '₹115',\n",
       " '₹184',\n",
       " '₹1,129',\n",
       " '₹131',\n",
       " '₹179',\n",
       " '₹136',\n",
       " '₹1,365',\n",
       " '₹221',\n",
       " '₹146',\n",
       " '₹579',\n",
       " '₹1,149',\n",
       " '₹215',\n",
       " '₹150',\n",
       " '₹150',\n",
       " '₹649',\n",
       " '₹349',\n",
       " '₹102',\n",
       " '₹259',\n",
       " '₹649',\n",
       " '₹215',\n",
       " '₹139',\n",
       " '₹249',\n",
       " '₹299',\n",
       " '₹209',\n",
       " '₹154',\n",
       " '₹226',\n",
       " '₹1,483',\n",
       " '₹180',\n",
       " '₹226',\n",
       " '₹239',\n",
       " '₹1,365',\n",
       " '₹133',\n",
       " '₹117',\n",
       " '₹399',\n",
       " '₹349',\n",
       " '₹157',\n",
       " '₹249',\n",
       " '₹115',\n",
       " '₹1,483',\n",
       " '₹128',\n",
       " '₹183',\n",
       " '₹190',\n",
       " '₹614',\n",
       " '₹149',\n",
       " '₹130',\n",
       " '₹152',\n",
       " '₹1,129',\n",
       " '₹621',\n",
       " '₹199',\n",
       " '₹139',\n",
       " '₹1,365',\n",
       " '₹299',\n",
       " '₹185',\n",
       " '₹124',\n",
       " '₹1,149',\n",
       " '₹225',\n",
       " '₹175',\n",
       " '₹199',\n",
       " '₹649',\n",
       " '₹109',\n",
       " '₹234',\n",
       " '₹175',\n",
       " '₹649',\n",
       " '₹1,149',\n",
       " '₹153',\n",
       " '₹309',\n",
       " '₹299',\n",
       " '₹499',\n",
       " '₹241',\n",
       " '₹449',\n",
       " '₹1,483',\n",
       " '₹147',\n",
       " '₹709',\n",
       " '₹217',\n",
       " '₹614',\n",
       " '₹196',\n",
       " '₹299',\n",
       " '₹213',\n",
       " '₹349',\n",
       " '₹154',\n",
       " '₹239',\n",
       " '₹399',\n",
       " '₹1,483',\n",
       " '₹114',\n",
       " '₹109',\n",
       " '₹325',\n",
       " '₹219',\n",
       " '₹170',\n",
       " '₹231',\n",
       " '₹149',\n",
       " '₹614']"
      ]
     },
     "execution_count": 181,
     "metadata": {},
     "output_type": "execute_result"
    }
   ],
   "source": [
    "price"
   ]
  },
  {
   "cell_type": "markdown",
   "id": "eef24e02",
   "metadata": {},
   "source": [
    "## Extracting Discount"
   ]
  },
  {
   "cell_type": "code",
   "execution_count": 142,
   "id": "5a25dbb4",
   "metadata": {},
   "outputs": [],
   "source": [
    "time.sleep(3)\n",
    "dis = []\n",
    "dis = driver.find_elements_by_xpath(\"//div[@class='_3Ay6Sb']/span\")"
   ]
  },
  {
   "cell_type": "code",
   "execution_count": 143,
   "id": "6a27bf35",
   "metadata": {},
   "outputs": [
    {
     "data": {
      "text/plain": [
       "40"
      ]
     },
     "execution_count": 143,
     "metadata": {},
     "output_type": "execute_result"
    }
   ],
   "source": [
    "disc = []\n",
    "for i in dis:\n",
    "    disc.append(i.text)\n",
    "len(disc)"
   ]
  },
  {
   "cell_type": "markdown",
   "id": "976edbbc",
   "metadata": {},
   "source": [
    "disc"
   ]
  },
  {
   "cell_type": "code",
   "execution_count": 144,
   "id": "51066eb8",
   "metadata": {},
   "outputs": [],
   "source": [
    "next_button = driver.find_element_by_xpath(\"//a[@class='_1LKTO3']\")\n",
    "next_button.click()"
   ]
  },
  {
   "cell_type": "code",
   "execution_count": 145,
   "id": "09475fd7",
   "metadata": {},
   "outputs": [],
   "source": [
    "time.sleep(3)\n",
    "brand2 = []\n",
    "brand2 = driver.find_elements_by_xpath(\"//div[@class='_2WkVRV']\")"
   ]
  },
  {
   "cell_type": "code",
   "execution_count": 146,
   "id": "9aeef952",
   "metadata": {},
   "outputs": [
    {
     "data": {
      "text/plain": [
       "80"
      ]
     },
     "execution_count": 146,
     "metadata": {},
     "output_type": "execute_result"
    }
   ],
   "source": [
    "for i in brand2:\n",
    "    brand_name.append(i.text)\n",
    "len(brand_name)"
   ]
  },
  {
   "cell_type": "code",
   "execution_count": 147,
   "id": "9f125950",
   "metadata": {},
   "outputs": [],
   "source": [
    "time.sleep(3)\n",
    "desc2 = []\n",
    "desc2 = driver.find_elements_by_xpath(\"//a[@class='IRpwTa']\")\n",
    "for i in desc2:\n",
    "    des.append(i.text)"
   ]
  },
  {
   "cell_type": "code",
   "execution_count": 150,
   "id": "bb18c1e0",
   "metadata": {},
   "outputs": [],
   "source": [
    "#for i in desc2:\n",
    "#    des.append(i.text)\n"
   ]
  },
  {
   "cell_type": "code",
   "execution_count": 151,
   "id": "3a4dcb60",
   "metadata": {},
   "outputs": [
    {
     "data": {
      "text/plain": [
       "120"
      ]
     },
     "execution_count": 151,
     "metadata": {},
     "output_type": "execute_result"
    }
   ],
   "source": [
    "len(des)"
   ]
  },
  {
   "cell_type": "markdown",
   "id": "7e0df6cf",
   "metadata": {},
   "source": [
    "## Extracting price"
   ]
  },
  {
   "cell_type": "code",
   "execution_count": 152,
   "id": "e92ecef6",
   "metadata": {},
   "outputs": [],
   "source": [
    "time.sleep(3)\n",
    "paise2 = []\n",
    "paise2 = driver.find_elements_by_xpath(\"//div[@class='_30jeq3']\")"
   ]
  },
  {
   "cell_type": "code",
   "execution_count": 153,
   "id": "5f033c77",
   "metadata": {},
   "outputs": [
    {
     "data": {
      "text/plain": [
       "80"
      ]
     },
     "execution_count": 153,
     "metadata": {},
     "output_type": "execute_result"
    }
   ],
   "source": [
    "for i in paise2:\n",
    "    price.append(i.text)\n",
    "len(price)"
   ]
  },
  {
   "cell_type": "code",
   "execution_count": 154,
   "id": "9ea2f4d0",
   "metadata": {},
   "outputs": [],
   "source": [
    "time.sleep(3)\n",
    "dis2 = []\n",
    "dis2 = driver.find_elements_by_xpath(\"//div[@class='_3Ay6Sb']/span\")"
   ]
  },
  {
   "cell_type": "code",
   "execution_count": 156,
   "id": "9a081049",
   "metadata": {},
   "outputs": [
    {
     "data": {
      "text/plain": [
       "120"
      ]
     },
     "execution_count": 156,
     "metadata": {},
     "output_type": "execute_result"
    }
   ],
   "source": [
    "for i in dis2:\n",
    "    disc.append(i.text)\n",
    "len(disc)    "
   ]
  },
  {
   "cell_type": "code",
   "execution_count": 157,
   "id": "5177c381",
   "metadata": {},
   "outputs": [],
   "source": [
    "#next_button2 = driver.find_element_by_xpath(\"//a[@class='_1LKTO3']/span\")\n",
    "#next_button2.click()\n",
    "\n",
    "target_url = []\n",
    "url = driver.find_elements_by_xpath(\"//a[@class='_1LKTO3']\")\n",
    "for i in url:\n",
    "    target_url.append(i.get_attribute('href'))"
   ]
  },
  {
   "cell_type": "code",
   "execution_count": 158,
   "id": "8356e001",
   "metadata": {},
   "outputs": [],
   "source": [
    "driver.get(target_url[1])\n",
    "#search?q=sunglasses&otracker=search&otracker-9=search&marketplace=FLIPKART&as-show=on&as=off&page=1\n",
    "#search?q=sunglasses&otracker=search&otracker-9=search&marketplace=FLIPKART&as-show=on&as=off&page=3"
   ]
  },
  {
   "cell_type": "code",
   "execution_count": null,
   "id": "95d7393c",
   "metadata": {},
   "outputs": [],
   "source": [
    "## Extracting Brand "
   ]
  },
  {
   "cell_type": "code",
   "execution_count": 159,
   "id": "663d65c1",
   "metadata": {},
   "outputs": [],
   "source": [
    "time.sleep(3)\n",
    "brand3 = []\n",
    "brand3 = driver.find_elements_by_xpath(\"//div[@class='_2WkVRV']\")"
   ]
  },
  {
   "cell_type": "code",
   "execution_count": 161,
   "id": "98f2b532",
   "metadata": {},
   "outputs": [
    {
     "data": {
      "text/plain": [
       "160"
      ]
     },
     "execution_count": 161,
     "metadata": {},
     "output_type": "execute_result"
    }
   ],
   "source": [
    "for i in brand3:\n",
    "    brand_name.append(i.text)\n",
    "len(brand_name)    "
   ]
  },
  {
   "cell_type": "code",
   "execution_count": 162,
   "id": "f0b681c3",
   "metadata": {},
   "outputs": [
    {
     "data": {
      "text/plain": [
       "160"
      ]
     },
     "execution_count": 162,
     "metadata": {},
     "output_type": "execute_result"
    }
   ],
   "source": [
    "time.sleep(3)\n",
    "desc3 = []\n",
    "desc3 = driver.find_elements_by_xpath(\"//a[@class='IRpwTa']\")\n",
    "for i in desc3:\n",
    "    des.append(i.text)\n",
    "len(des)\n"
   ]
  },
  {
   "cell_type": "code",
   "execution_count": 164,
   "id": "e5da6161",
   "metadata": {},
   "outputs": [
    {
     "data": {
      "text/plain": [
       "160"
      ]
     },
     "execution_count": 164,
     "metadata": {},
     "output_type": "execute_result"
    }
   ],
   "source": [
    "time.sleep(3)\n",
    "paise3 = []\n",
    "paise3 = driver.find_elements_by_xpath(\"//div[@class='_30jeq3']\")\n",
    "for i in paise3:\n",
    "    price.append(i.text)\n",
    "len(price)"
   ]
  },
  {
   "cell_type": "code",
   "execution_count": 166,
   "id": "789f5a5b",
   "metadata": {},
   "outputs": [
    {
     "data": {
      "text/plain": [
       "200"
      ]
     },
     "execution_count": 166,
     "metadata": {},
     "output_type": "execute_result"
    }
   ],
   "source": [
    "time.sleep(3)\n",
    "dis3 = []\n",
    "dis3 = driver.find_elements_by_xpath(\"//div[@class='_3Ay6Sb']/span\")\n",
    "for i in dis3:\n",
    "    disc.append(i.text)\n",
    "len(disc)    "
   ]
  },
  {
   "cell_type": "code",
   "execution_count": 167,
   "id": "fd5dd29e",
   "metadata": {},
   "outputs": [
    {
     "name": "stdout",
     "output_type": "stream",
     "text": [
      "160 200 160 160\n"
     ]
    }
   ],
   "source": [
    "print(len(brand_name),len(disc),len(price),len(des))"
   ]
  },
  {
   "cell_type": "code",
   "execution_count": 168,
   "id": "38096d6a",
   "metadata": {},
   "outputs": [],
   "source": [
    "brand_name = brand_name[0:100]\n",
    "price= price[0:100]\n",
    "disc = disc[0:100]\n",
    "des = des[0:100]"
   ]
  },
  {
   "cell_type": "code",
   "execution_count": 170,
   "id": "f30fc178",
   "metadata": {},
   "outputs": [],
   "source": [
    "product_info = pd.DataFrame({})\n",
    "product_info['Brand'] = brand_name\n",
    "product_info['Price'] = price\n",
    "product_info['Discounts'] = disc\n",
    "product_info['Description'] = des"
   ]
  },
  {
   "cell_type": "code",
   "execution_count": 171,
   "id": "ae8d9a0c",
   "metadata": {
    "scrolled": true
   },
   "outputs": [
    {
     "data": {
      "text/html": [
       "<div>\n",
       "<style scoped>\n",
       "    .dataframe tbody tr th:only-of-type {\n",
       "        vertical-align: middle;\n",
       "    }\n",
       "\n",
       "    .dataframe tbody tr th {\n",
       "        vertical-align: top;\n",
       "    }\n",
       "\n",
       "    .dataframe thead th {\n",
       "        text-align: right;\n",
       "    }\n",
       "</style>\n",
       "<table border=\"1\" class=\"dataframe\">\n",
       "  <thead>\n",
       "    <tr style=\"text-align: right;\">\n",
       "      <th></th>\n",
       "      <th>Brand</th>\n",
       "      <th>Price</th>\n",
       "      <th>Discounts</th>\n",
       "      <th>Description</th>\n",
       "    </tr>\n",
       "  </thead>\n",
       "  <tbody>\n",
       "    <tr>\n",
       "      <th>0</th>\n",
       "      <td>Singco India</td>\n",
       "      <td>₹614</td>\n",
       "      <td>79% off</td>\n",
       "      <td>Gradient, Toughened Glass Lens, UV Protection ...</td>\n",
       "    </tr>\n",
       "    <tr>\n",
       "      <th>1</th>\n",
       "      <td>VINCENT CHASE</td>\n",
       "      <td>₹1,483</td>\n",
       "      <td>40% off</td>\n",
       "      <td>by Lenskart Polarized, UV Protection Wayfarer ...</td>\n",
       "    </tr>\n",
       "    <tr>\n",
       "      <th>2</th>\n",
       "      <td>GANSTA</td>\n",
       "      <td>₹159</td>\n",
       "      <td>91% off</td>\n",
       "      <td>UV Protection, Riding Glasses Wayfarer Sunglas...</td>\n",
       "    </tr>\n",
       "    <tr>\n",
       "      <th>3</th>\n",
       "      <td>Elligator</td>\n",
       "      <td>₹198</td>\n",
       "      <td>92% off</td>\n",
       "      <td>UV Protection Round Sunglasses (54)</td>\n",
       "    </tr>\n",
       "    <tr>\n",
       "      <th>4</th>\n",
       "      <td>GANSTA</td>\n",
       "      <td>₹219</td>\n",
       "      <td>89% off</td>\n",
       "      <td>UV Protection Aviator Sunglasses (57)</td>\n",
       "    </tr>\n",
       "    <tr>\n",
       "      <th>...</th>\n",
       "      <td>...</td>\n",
       "      <td>...</td>\n",
       "      <td>...</td>\n",
       "      <td>...</td>\n",
       "    </tr>\n",
       "    <tr>\n",
       "      <th>95</th>\n",
       "      <td>GANSTA</td>\n",
       "      <td>₹219</td>\n",
       "      <td>43% off</td>\n",
       "      <td>by Lenskart Polarized, UV Protection Wayfarer ...</td>\n",
       "    </tr>\n",
       "    <tr>\n",
       "      <th>96</th>\n",
       "      <td>kingsunglasses</td>\n",
       "      <td>₹170</td>\n",
       "      <td>22% off</td>\n",
       "      <td>UV Protection Aviator Sunglasses (Free Size)</td>\n",
       "    </tr>\n",
       "    <tr>\n",
       "      <th>97</th>\n",
       "      <td>Lee Topper</td>\n",
       "      <td>₹231</td>\n",
       "      <td>90% off</td>\n",
       "      <td>Mirrored, UV Protection Wayfarer Sunglasses (53)</td>\n",
       "    </tr>\n",
       "    <tr>\n",
       "      <th>98</th>\n",
       "      <td>GANSTA</td>\n",
       "      <td>₹149</td>\n",
       "      <td>90% off</td>\n",
       "      <td>Mirrored, UV Protection, Gradient Round Sungla...</td>\n",
       "    </tr>\n",
       "    <tr>\n",
       "      <th>99</th>\n",
       "      <td>ROYAL SON</td>\n",
       "      <td>₹614</td>\n",
       "      <td>45% off</td>\n",
       "      <td>by Lenskart Polarized, UV Protection Wayfarer ...</td>\n",
       "    </tr>\n",
       "  </tbody>\n",
       "</table>\n",
       "<p>100 rows × 4 columns</p>\n",
       "</div>"
      ],
      "text/plain": [
       "             Brand   Price Discounts  \\\n",
       "0     Singco India    ₹614   79% off   \n",
       "1    VINCENT CHASE  ₹1,483   40% off   \n",
       "2           GANSTA    ₹159   91% off   \n",
       "3        Elligator    ₹198   92% off   \n",
       "4           GANSTA    ₹219   89% off   \n",
       "..             ...     ...       ...   \n",
       "95          GANSTA    ₹219   43% off   \n",
       "96  kingsunglasses    ₹170   22% off   \n",
       "97      Lee Topper    ₹231   90% off   \n",
       "98          GANSTA    ₹149   90% off   \n",
       "99       ROYAL SON    ₹614   45% off   \n",
       "\n",
       "                                          Description  \n",
       "0   Gradient, Toughened Glass Lens, UV Protection ...  \n",
       "1   by Lenskart Polarized, UV Protection Wayfarer ...  \n",
       "2   UV Protection, Riding Glasses Wayfarer Sunglas...  \n",
       "3                 UV Protection Round Sunglasses (54)  \n",
       "4               UV Protection Aviator Sunglasses (57)  \n",
       "..                                                ...  \n",
       "95  by Lenskart Polarized, UV Protection Wayfarer ...  \n",
       "96       UV Protection Aviator Sunglasses (Free Size)  \n",
       "97   Mirrored, UV Protection Wayfarer Sunglasses (53)  \n",
       "98  Mirrored, UV Protection, Gradient Round Sungla...  \n",
       "99  by Lenskart Polarized, UV Protection Wayfarer ...  \n",
       "\n",
       "[100 rows x 4 columns]"
      ]
     },
     "execution_count": 171,
     "metadata": {},
     "output_type": "execute_result"
    }
   ],
   "source": [
    "product_info"
   ]
  },
  {
   "cell_type": "markdown",
   "id": "559535bc",
   "metadata": {},
   "source": [
    "## Q5: Scrape 100 reviews data from flipkart.com for iphone11 phone. You have to go the link: https://www.flipkart.com/apple-iphone-11-black-64-gb-includes- earpods-power- adapter/p/itm0f37c2240b217?pid=MOBFKCTSVZAXUHGR&lid=LSTMOBFKC TSVZAXUHGREPBFGI&marketplace.\n",
    "## When you will open the above link you will reach to the below shown webpage .\n",
    "## As shown in the above page you have to scrape the tick marked attributes.These are:\n",
    "## 1. Rating\n",
    "## 2. Review summary\n",
    "## 3. Full review\n",
    "## 4. You have to scrape this data for first 100 reviews.\n",
    "\n"
   ]
  },
  {
   "cell_type": "code",
   "execution_count": 256,
   "id": "46892c1a",
   "metadata": {},
   "outputs": [],
   "source": [
    "import selenium\n",
    "import pandas as pd\n",
    "from selenium import webdriver\n"
   ]
  },
  {
   "cell_type": "code",
   "execution_count": 257,
   "id": "e6c668fa",
   "metadata": {},
   "outputs": [],
   "source": [
    "# lets first connect to web driver \n",
    "driver = webdriver.Chrome(r'C:\\Users\\ROHIT RAJAN\\Downloads\\chromedriver_win32\\chromedriver.exe')\n"
   ]
  },
  {
   "cell_type": "code",
   "execution_count": 258,
   "id": "fa925bd7",
   "metadata": {},
   "outputs": [],
   "source": [
    "url = 'https://www.flipkart.com/apple-iphone-11-black-64-gb-includes-%20earpods-power-%20adapter/p/itm0f37c2240b217?pid=MOBFKCTSVZAXUHGR&lid=LSTMOBFKC%20TSVZAXUHGREPBFGI&marketplace.'\n",
    "driver.get(url) \n"
   ]
  },
  {
   "cell_type": "code",
   "execution_count": 259,
   "id": "f3a6f07c",
   "metadata": {},
   "outputs": [],
   "source": [
    "rating=[]\n",
    "review_summary=[]\n",
    "full_review=[]"
   ]
  },
  {
   "cell_type": "code",
   "execution_count": 260,
   "id": "b5473ec4",
   "metadata": {},
   "outputs": [
    {
     "data": {
      "text/plain": [
       "[<selenium.webdriver.remote.webelement.WebElement (session=\"2c092b126979520b00da6d24144b545a\", element=\"48434249-4cbf-4044-b92b-21e43242fc77\")>,\n",
       " <selenium.webdriver.remote.webelement.WebElement (session=\"2c092b126979520b00da6d24144b545a\", element=\"899f22bc-ecf1-44d3-8272-f052ea79d8e5\")>,\n",
       " <selenium.webdriver.remote.webelement.WebElement (session=\"2c092b126979520b00da6d24144b545a\", element=\"5cb025d2-558c-4a9b-89ec-22170dccd809\")>,\n",
       " <selenium.webdriver.remote.webelement.WebElement (session=\"2c092b126979520b00da6d24144b545a\", element=\"603abc84-1dc4-4609-8f67-f1f00b45870a\")>]"
      ]
     },
     "execution_count": 260,
     "metadata": {},
     "output_type": "execute_result"
    }
   ],
   "source": [
    "ratings_tags=driver.find_elements_by_xpath(\"//div[@class='_3LWZlK _1BLPMq']\")\n",
    "ratings_tags[0:4]"
   ]
  },
  {
   "cell_type": "code",
   "execution_count": 261,
   "id": "9927f636",
   "metadata": {},
   "outputs": [
    {
     "data": {
      "text/plain": [
       "['5', '5', '5', '']"
      ]
     },
     "execution_count": 261,
     "metadata": {},
     "output_type": "execute_result"
    }
   ],
   "source": [
    "for i in ratings_tags:\n",
    "    rate=i.text\n",
    "    rating.append(rate)\n",
    "rating[0:4]"
   ]
  },
  {
   "cell_type": "code",
   "execution_count": 263,
   "id": "ed07eb8f",
   "metadata": {},
   "outputs": [
    {
     "data": {
      "text/plain": [
       "[<selenium.webdriver.remote.webelement.WebElement (session=\"2c092b126979520b00da6d24144b545a\", element=\"164cfdbc-ae6e-4a26-aa72-b24989ae6c08\")>,\n",
       " <selenium.webdriver.remote.webelement.WebElement (session=\"2c092b126979520b00da6d24144b545a\", element=\"438395a2-42d6-428a-8c37-7b8501ceab1a\")>,\n",
       " <selenium.webdriver.remote.webelement.WebElement (session=\"2c092b126979520b00da6d24144b545a\", element=\"f1c9ec66-1477-4842-b007-71afbdf21334\")>,\n",
       " <selenium.webdriver.remote.webelement.WebElement (session=\"2c092b126979520b00da6d24144b545a\", element=\"924c5a0a-add4-4ba1-98d6-4a531c9a63fd\")>]"
      ]
     },
     "execution_count": 263,
     "metadata": {},
     "output_type": "execute_result"
    }
   ],
   "source": [
    "review_summary_tags=driver.find_elements_by_xpath(\"//p[@class='_2-N8zT']\")\n",
    "review_summary_tags[0:4]\n"
   ]
  },
  {
   "cell_type": "code",
   "execution_count": 264,
   "id": "894e1fc7",
   "metadata": {},
   "outputs": [
    {
     "data": {
      "text/plain": [
       "['Brilliant', 'Simply awesome', 'Best in the market!', '']"
      ]
     },
     "execution_count": 264,
     "metadata": {},
     "output_type": "execute_result"
    }
   ],
   "source": [
    "for i in review_summary_tags:\n",
    "    review=i.text\n",
    "    review_summary.append(review)\n",
    "review_summary[0:4]"
   ]
  },
  {
   "cell_type": "code",
   "execution_count": 265,
   "id": "14fba1ac",
   "metadata": {},
   "outputs": [
    {
     "data": {
      "text/plain": [
       "[<selenium.webdriver.remote.webelement.WebElement (session=\"2c092b126979520b00da6d24144b545a\", element=\"263f6c2a-ff3a-41ec-8ee7-efdb65cb36d8\")>,\n",
       " <selenium.webdriver.remote.webelement.WebElement (session=\"2c092b126979520b00da6d24144b545a\", element=\"754f6fc9-9174-4c47-abf4-90a20d6f71f2\")>,\n",
       " <selenium.webdriver.remote.webelement.WebElement (session=\"2c092b126979520b00da6d24144b545a\", element=\"feddc552-c0e5-41a4-bb59-a8c4f6fb9853\")>,\n",
       " <selenium.webdriver.remote.webelement.WebElement (session=\"2c092b126979520b00da6d24144b545a\", element=\"be4c9fcc-1fdf-47fa-98b6-492ad1665d70\")>]"
      ]
     },
     "execution_count": 265,
     "metadata": {},
     "output_type": "execute_result"
    }
   ],
   "source": [
    "full_review_tags=driver.find_elements_by_xpath(\"//div[@class='t-ZTKy']\")\n",
    "full_review_tags[0:4]\n"
   ]
  },
  {
   "cell_type": "code",
   "execution_count": 266,
   "id": "6f8cd80f",
   "metadata": {},
   "outputs": [
    {
     "data": {
      "text/plain": [
       "['The Best Phone for the Money\\n\\nThe iPhone 11 offers superb cameras, a more durable design and excellent battery life for an affordable price.\\n\\nCompelling ultra-wide camera\\nNew Night mode is excellent\\nLong battery life',\n",
       " 'Really satisfied with the Product I received... It’s totally genuine and the packaging was also really good so if ur planning to buy just go for it.',\n",
       " 'Great iPhone very snappy experience as apple kind. Upgraded from iPhone 7.\\nPros\\n-Camera top class\\n- Battery top performed\\n-Chipset no need to say as apple kind\\n-Security as you expect from apple\\n- Display super bright industry leading colour\\naccuracy and super responsive\\n-Build quality as expect from apple sturdy\\npremium durable beautiful stylish.\\n-Os most stable os in smartphone industry\\n\\nCons\\n-No 5G\\n-Display is not based on OLED technology\\n-Charger headphones and 1 apple stic...\\nREAD MORE',\n",
       " '']"
      ]
     },
     "execution_count": 266,
     "metadata": {},
     "output_type": "execute_result"
    }
   ],
   "source": [
    "for i in full_review_tags:\n",
    "    f_review=i.text\n",
    "    full_review.append(f_review)\n",
    "full_review[0:4]"
   ]
  },
  {
   "cell_type": "code",
   "execution_count": 267,
   "id": "fce9da02",
   "metadata": {},
   "outputs": [
    {
     "data": {
      "text/plain": [
       "(10, 10, 10)"
      ]
     },
     "execution_count": 267,
     "metadata": {},
     "output_type": "execute_result"
    }
   ],
   "source": [
    "(len(rating),len(review_summary),len(full_review))\n"
   ]
  },
  {
   "cell_type": "code",
   "execution_count": 268,
   "id": "c4946e40",
   "metadata": {},
   "outputs": [],
   "source": [
    "reviews=pd.DataFrame({})\n",
    "reviews['Rating']=rating[0:10]\n",
    "reviews['Review_summary']=review_summary[0:10]\n",
    "reviews['Full_review']=full_review[0:10]\n"
   ]
  },
  {
   "cell_type": "code",
   "execution_count": 269,
   "id": "e5f6fd63",
   "metadata": {},
   "outputs": [
    {
     "data": {
      "text/html": [
       "<div>\n",
       "<style scoped>\n",
       "    .dataframe tbody tr th:only-of-type {\n",
       "        vertical-align: middle;\n",
       "    }\n",
       "\n",
       "    .dataframe tbody tr th {\n",
       "        vertical-align: top;\n",
       "    }\n",
       "\n",
       "    .dataframe thead th {\n",
       "        text-align: right;\n",
       "    }\n",
       "</style>\n",
       "<table border=\"1\" class=\"dataframe\">\n",
       "  <thead>\n",
       "    <tr style=\"text-align: right;\">\n",
       "      <th></th>\n",
       "      <th>Rating</th>\n",
       "      <th>Review_summary</th>\n",
       "      <th>Full_review</th>\n",
       "    </tr>\n",
       "  </thead>\n",
       "  <tbody>\n",
       "    <tr>\n",
       "      <th>0</th>\n",
       "      <td>5</td>\n",
       "      <td>Brilliant</td>\n",
       "      <td>The Best Phone for the Money\\n\\nThe iPhone 11 ...</td>\n",
       "    </tr>\n",
       "    <tr>\n",
       "      <th>1</th>\n",
       "      <td>5</td>\n",
       "      <td>Simply awesome</td>\n",
       "      <td>Really satisfied with the Product I received.....</td>\n",
       "    </tr>\n",
       "    <tr>\n",
       "      <th>2</th>\n",
       "      <td>5</td>\n",
       "      <td>Best in the market!</td>\n",
       "      <td>Great iPhone very snappy experience as apple k...</td>\n",
       "    </tr>\n",
       "    <tr>\n",
       "      <th>3</th>\n",
       "      <td></td>\n",
       "      <td></td>\n",
       "      <td></td>\n",
       "    </tr>\n",
       "    <tr>\n",
       "      <th>4</th>\n",
       "      <td></td>\n",
       "      <td></td>\n",
       "      <td></td>\n",
       "    </tr>\n",
       "    <tr>\n",
       "      <th>5</th>\n",
       "      <td></td>\n",
       "      <td></td>\n",
       "      <td></td>\n",
       "    </tr>\n",
       "    <tr>\n",
       "      <th>6</th>\n",
       "      <td></td>\n",
       "      <td></td>\n",
       "      <td></td>\n",
       "    </tr>\n",
       "    <tr>\n",
       "      <th>7</th>\n",
       "      <td></td>\n",
       "      <td></td>\n",
       "      <td></td>\n",
       "    </tr>\n",
       "    <tr>\n",
       "      <th>8</th>\n",
       "      <td></td>\n",
       "      <td></td>\n",
       "      <td></td>\n",
       "    </tr>\n",
       "    <tr>\n",
       "      <th>9</th>\n",
       "      <td></td>\n",
       "      <td></td>\n",
       "      <td></td>\n",
       "    </tr>\n",
       "  </tbody>\n",
       "</table>\n",
       "</div>"
      ],
      "text/plain": [
       "  Rating       Review_summary  \\\n",
       "0      5            Brilliant   \n",
       "1      5       Simply awesome   \n",
       "2      5  Best in the market!   \n",
       "3                               \n",
       "4                               \n",
       "5                               \n",
       "6                               \n",
       "7                               \n",
       "8                               \n",
       "9                               \n",
       "\n",
       "                                         Full_review  \n",
       "0  The Best Phone for the Money\\n\\nThe iPhone 11 ...  \n",
       "1  Really satisfied with the Product I received.....  \n",
       "2  Great iPhone very snappy experience as apple k...  \n",
       "3                                                     \n",
       "4                                                     \n",
       "5                                                     \n",
       "6                                                     \n",
       "7                                                     \n",
       "8                                                     \n",
       "9                                                     "
      ]
     },
     "execution_count": 269,
     "metadata": {},
     "output_type": "execute_result"
    }
   ],
   "source": [
    "reviews"
   ]
  },
  {
   "cell_type": "markdown",
   "id": "888c142e",
   "metadata": {},
   "source": [
    "## Q6: Scrape data for first 100 sneakers you find when you visit flipkart.com and search for “sneakers” in the search field. You have to scrape 4 attributes of each sneaker:\n",
    "\n",
    "## 1.Brand\n",
    "## 2.Product Description\n",
    "## 3.Price\n",
    "## As shown in the below image, you have to scrape the tick marked attributes."
   ]
  },
  {
   "cell_type": "code",
   "execution_count": 274,
   "id": "7b200298",
   "metadata": {},
   "outputs": [],
   "source": [
    "import selenium\n",
    "import pandas as pd\n",
    "from selenium import webdriver"
   ]
  },
  {
   "cell_type": "code",
   "execution_count": 275,
   "id": "12a42130",
   "metadata": {},
   "outputs": [],
   "source": [
    "# lets first connect to web driver \n",
    "driver = webdriver.Chrome(r'C:\\Users\\ROHIT RAJAN\\Downloads\\chromedriver_win32\\chromedriver.exe')\n"
   ]
  },
  {
   "cell_type": "code",
   "execution_count": 276,
   "id": "1bc351e7",
   "metadata": {},
   "outputs": [],
   "source": [
    "url = 'https://www.flipkart.com/'\n",
    "driver.get(url)"
   ]
  },
  {
   "cell_type": "code",
   "execution_count": 277,
   "id": "0146df23",
   "metadata": {},
   "outputs": [],
   "source": [
    "search=driver.find_element_by_xpath('//*[@id=\"container\"]/div/div[1]/div[1]/div[2]/div[2]/form/div/div/input')\n",
    "search.click()"
   ]
  },
  {
   "cell_type": "code",
   "execution_count": 278,
   "id": "b28c7691",
   "metadata": {},
   "outputs": [],
   "source": [
    "search.send_keys(\"sneakers\")"
   ]
  },
  {
   "cell_type": "code",
   "execution_count": 279,
   "id": "7e90e131",
   "metadata": {},
   "outputs": [],
   "source": [
    "search_btn=driver.find_element_by_xpath('//*[@id=\"container\"]/div/div[1]/div[1]/div[2]/div[2]/form/div/button')\n",
    "search_btn.click()"
   ]
  },
  {
   "cell_type": "code",
   "execution_count": 280,
   "id": "fc21c5d1",
   "metadata": {},
   "outputs": [],
   "source": [
    "brands=[]\n",
    "product_descriptions=[]\n",
    "price=[]"
   ]
  },
  {
   "cell_type": "code",
   "execution_count": 281,
   "id": "500a7ed1",
   "metadata": {},
   "outputs": [
    {
     "data": {
      "text/plain": [
       "[<selenium.webdriver.remote.webelement.WebElement (session=\"f76c1f962d68ff6f7581e4302b657948\", element=\"7b1cdf9b-cacc-49fb-ab17-9cc2f5d03162\")>,\n",
       " <selenium.webdriver.remote.webelement.WebElement (session=\"f76c1f962d68ff6f7581e4302b657948\", element=\"5f09abe5-c157-4d26-9b0e-e324d0ef16ab\")>,\n",
       " <selenium.webdriver.remote.webelement.WebElement (session=\"f76c1f962d68ff6f7581e4302b657948\", element=\"8c74d776-3a16-417f-8cc5-df5d18050ae8\")>,\n",
       " <selenium.webdriver.remote.webelement.WebElement (session=\"f76c1f962d68ff6f7581e4302b657948\", element=\"0bf913c5-498a-4c64-8ec1-75e757a4d944\")>]"
      ]
     },
     "execution_count": 281,
     "metadata": {},
     "output_type": "execute_result"
    }
   ],
   "source": [
    "brand_tags=driver.find_elements_by_xpath(\"//div[@class='_2WkVRV']\")\n",
    "brand_tags[0:4]"
   ]
  },
  {
   "cell_type": "code",
   "execution_count": 282,
   "id": "9aac0894",
   "metadata": {},
   "outputs": [
    {
     "data": {
      "text/plain": [
       "['BIRDE', 'BIRDE', 'BRUTON', 'Elevarse']"
      ]
     },
     "execution_count": 282,
     "metadata": {},
     "output_type": "execute_result"
    }
   ],
   "source": [
    "for i in brand_tags:\n",
    "    brand=i.text\n",
    "    brands.append(brand)\n",
    "brands[0:4]"
   ]
  },
  {
   "cell_type": "code",
   "execution_count": 283,
   "id": "6ef885c8",
   "metadata": {},
   "outputs": [
    {
     "data": {
      "text/plain": [
       "[<selenium.webdriver.remote.webelement.WebElement (session=\"f76c1f962d68ff6f7581e4302b657948\", element=\"70dc1638-7c80-4452-a6e0-764117f6341c\")>,\n",
       " <selenium.webdriver.remote.webelement.WebElement (session=\"f76c1f962d68ff6f7581e4302b657948\", element=\"b7390344-c452-4bf7-a38a-53fdfb10fcd4\")>,\n",
       " <selenium.webdriver.remote.webelement.WebElement (session=\"f76c1f962d68ff6f7581e4302b657948\", element=\"4cefbc08-b97c-47e9-9130-3b71b7773b9d\")>,\n",
       " <selenium.webdriver.remote.webelement.WebElement (session=\"f76c1f962d68ff6f7581e4302b657948\", element=\"856d9b30-4992-4842-832a-bdf54a6aca1c\")>]"
      ]
     },
     "execution_count": 283,
     "metadata": {},
     "output_type": "execute_result"
    }
   ],
   "source": [
    "product_description_tags=driver.find_elements_by_xpath(\"//a[@class='IRpwTa']\")\n",
    "product_description_tags[0:4]\n"
   ]
  },
  {
   "cell_type": "code",
   "execution_count": 284,
   "id": "c6e2c989",
   "metadata": {},
   "outputs": [
    {
     "data": {
      "text/plain": [
       "['Stylish Comfortable Lightweight, Breathable Sports Walk...',\n",
       " 'Stylish Comfortable Lightweight, Breathable Casual Shoe...',\n",
       " 'Modern Trendy Sneakers Shoes Sneakers For Men',\n",
       " 'STYLISH MENS BLACK AND WHITE SNEAKER Sneakers For Men']"
      ]
     },
     "execution_count": 284,
     "metadata": {},
     "output_type": "execute_result"
    }
   ],
   "source": [
    "for i in product_description_tags:\n",
    "    product_description=i.text\n",
    "    product_descriptions.append(product_description)\n",
    "product_descriptions[0:4]\n"
   ]
  },
  {
   "cell_type": "code",
   "execution_count": 285,
   "id": "e4abf1c9",
   "metadata": {},
   "outputs": [
    {
     "data": {
      "text/plain": [
       "[<selenium.webdriver.remote.webelement.WebElement (session=\"f76c1f962d68ff6f7581e4302b657948\", element=\"993ba14d-1fd4-42e2-9396-add8d7099c36\")>,\n",
       " <selenium.webdriver.remote.webelement.WebElement (session=\"f76c1f962d68ff6f7581e4302b657948\", element=\"57307c94-f9b4-40c9-adbf-25af913f56d2\")>,\n",
       " <selenium.webdriver.remote.webelement.WebElement (session=\"f76c1f962d68ff6f7581e4302b657948\", element=\"947c1c39-dc66-47de-b301-8a5c9f19d740\")>,\n",
       " <selenium.webdriver.remote.webelement.WebElement (session=\"f76c1f962d68ff6f7581e4302b657948\", element=\"fb6752aa-0197-443e-90a8-5662d971a313\")>]"
      ]
     },
     "execution_count": 285,
     "metadata": {},
     "output_type": "execute_result"
    }
   ],
   "source": [
    "price_tags=driver.find_elements_by_xpath(\"//div[@class='_30jeq3']\")\n",
    "price_tags[0:4]"
   ]
  },
  {
   "cell_type": "code",
   "execution_count": 286,
   "id": "d1a13533",
   "metadata": {},
   "outputs": [
    {
     "data": {
      "text/plain": [
       "['₹476', '₹476', '₹209', '₹299']"
      ]
     },
     "execution_count": 286,
     "metadata": {},
     "output_type": "execute_result"
    }
   ],
   "source": [
    "for i in price_tags:\n",
    "    prc=i.text\n",
    "    price.append(prc)\n",
    "price[0:4]"
   ]
  },
  {
   "cell_type": "code",
   "execution_count": 287,
   "id": "9a06801b",
   "metadata": {},
   "outputs": [
    {
     "data": {
      "text/plain": [
       "(40, 33, 40)"
      ]
     },
     "execution_count": 287,
     "metadata": {},
     "output_type": "execute_result"
    }
   ],
   "source": [
    "(len(brands),len(product_descriptions),len(price))"
   ]
  },
  {
   "cell_type": "code",
   "execution_count": 288,
   "id": "646a4c96",
   "metadata": {},
   "outputs": [
    {
     "data": {
      "text/html": [
       "<div>\n",
       "<style scoped>\n",
       "    .dataframe tbody tr th:only-of-type {\n",
       "        vertical-align: middle;\n",
       "    }\n",
       "\n",
       "    .dataframe tbody tr th {\n",
       "        vertical-align: top;\n",
       "    }\n",
       "\n",
       "    .dataframe thead th {\n",
       "        text-align: right;\n",
       "    }\n",
       "</style>\n",
       "<table border=\"1\" class=\"dataframe\">\n",
       "  <thead>\n",
       "    <tr style=\"text-align: right;\">\n",
       "      <th></th>\n",
       "      <th>Brand</th>\n",
       "      <th>Product_Description</th>\n",
       "      <th>Price</th>\n",
       "    </tr>\n",
       "  </thead>\n",
       "  <tbody>\n",
       "    <tr>\n",
       "      <th>0</th>\n",
       "      <td>BIRDE</td>\n",
       "      <td>Stylish Comfortable Lightweight, Breathable Sp...</td>\n",
       "      <td>₹476</td>\n",
       "    </tr>\n",
       "    <tr>\n",
       "      <th>1</th>\n",
       "      <td>BIRDE</td>\n",
       "      <td>Stylish Comfortable Lightweight, Breathable Ca...</td>\n",
       "      <td>₹476</td>\n",
       "    </tr>\n",
       "    <tr>\n",
       "      <th>2</th>\n",
       "      <td>BRUTON</td>\n",
       "      <td>Modern Trendy Sneakers Shoes Sneakers For Men</td>\n",
       "      <td>₹209</td>\n",
       "    </tr>\n",
       "    <tr>\n",
       "      <th>3</th>\n",
       "      <td>Elevarse</td>\n",
       "      <td>STYLISH MENS BLACK AND WHITE SNEAKER Sneakers ...</td>\n",
       "      <td>₹299</td>\n",
       "    </tr>\n",
       "    <tr>\n",
       "      <th>4</th>\n",
       "      <td>corsac</td>\n",
       "      <td>Combo Pack Of 4 Casual Shoes Loafer Shoes Snea...</td>\n",
       "      <td>₹449</td>\n",
       "    </tr>\n",
       "    <tr>\n",
       "      <th>5</th>\n",
       "      <td>BRUTON</td>\n",
       "      <td>Combo Pack Of 2 Latest Stylish Casual Shoes fo...</td>\n",
       "      <td>₹374</td>\n",
       "    </tr>\n",
       "    <tr>\n",
       "      <th>6</th>\n",
       "      <td>BRUTON</td>\n",
       "      <td>Combo Pack Of 3 Latest Casual Shoes Sneakers F...</td>\n",
       "      <td>₹449</td>\n",
       "    </tr>\n",
       "    <tr>\n",
       "      <th>7</th>\n",
       "      <td>BRUTON</td>\n",
       "      <td>5011-Latest Collection Stylish Casual Loafer S...</td>\n",
       "      <td>₹397</td>\n",
       "    </tr>\n",
       "    <tr>\n",
       "      <th>8</th>\n",
       "      <td>World Wear Footwear</td>\n",
       "      <td>Sneakers For Men</td>\n",
       "      <td>₹149</td>\n",
       "    </tr>\n",
       "    <tr>\n",
       "      <th>9</th>\n",
       "      <td>URBANBOX</td>\n",
       "      <td>Sneakers For Men</td>\n",
       "      <td>₹170</td>\n",
       "    </tr>\n",
       "    <tr>\n",
       "      <th>10</th>\n",
       "      <td>Labbin</td>\n",
       "      <td>Men's Stylish Sports &amp; Casual Shoes For Men Sn...</td>\n",
       "      <td>₹424</td>\n",
       "    </tr>\n",
       "    <tr>\n",
       "      <th>11</th>\n",
       "      <td>aadi</td>\n",
       "      <td>Sneakers Sneakers For Men</td>\n",
       "      <td>₹349</td>\n",
       "    </tr>\n",
       "    <tr>\n",
       "      <th>12</th>\n",
       "      <td>DUNKASTON</td>\n",
       "      <td>Casual , Partywear Sneakers Shoes For Men's An...</td>\n",
       "      <td>₹349</td>\n",
       "    </tr>\n",
       "    <tr>\n",
       "      <th>13</th>\n",
       "      <td>Trendmode</td>\n",
       "      <td>Super Stylish &amp; Trendy Combo Pack of 02 Pairs ...</td>\n",
       "      <td>₹249</td>\n",
       "    </tr>\n",
       "    <tr>\n",
       "      <th>14</th>\n",
       "      <td>RapidBox</td>\n",
       "      <td>Shoes Sneakers Casuals Boots Slip On Sneakers ...</td>\n",
       "      <td>₹630</td>\n",
       "    </tr>\n",
       "    <tr>\n",
       "      <th>15</th>\n",
       "      <td>AERAMBOL</td>\n",
       "      <td>White Sneaker For Men's/Boy's Sneakers For Men</td>\n",
       "      <td>₹210</td>\n",
       "    </tr>\n",
       "    <tr>\n",
       "      <th>16</th>\n",
       "      <td>SCATCHITE</td>\n",
       "      <td>Luxury Fashionable casual sneaker shoes Sneake...</td>\n",
       "      <td>₹327</td>\n",
       "    </tr>\n",
       "    <tr>\n",
       "      <th>17</th>\n",
       "      <td>D-SNEAKERZ</td>\n",
       "      <td>Original Luxury Branded Fashionable Men's Casu...</td>\n",
       "      <td>₹249</td>\n",
       "    </tr>\n",
       "    <tr>\n",
       "      <th>18</th>\n",
       "      <td>Chevit</td>\n",
       "      <td>Luxury Fashionable casual shoes Sneakers For Men</td>\n",
       "      <td>₹599</td>\n",
       "    </tr>\n",
       "    <tr>\n",
       "      <th>19</th>\n",
       "      <td>HOTSTYLE</td>\n",
       "      <td>Sneakers For Men</td>\n",
       "      <td>₹249</td>\n",
       "    </tr>\n",
       "    <tr>\n",
       "      <th>20</th>\n",
       "      <td>Shoes Bank</td>\n",
       "      <td>Sneakers For Men</td>\n",
       "      <td>₹295</td>\n",
       "    </tr>\n",
       "    <tr>\n",
       "      <th>21</th>\n",
       "      <td>luxury fashion</td>\n",
       "      <td>Sneakers For Men</td>\n",
       "      <td>₹399</td>\n",
       "    </tr>\n",
       "    <tr>\n",
       "      <th>22</th>\n",
       "      <td>ASTEROID</td>\n",
       "      <td>Believe Partywear Casual Shoes for Men's Sneak...</td>\n",
       "      <td>₹424</td>\n",
       "    </tr>\n",
       "    <tr>\n",
       "      <th>23</th>\n",
       "      <td>luxury fashion</td>\n",
       "      <td>411 Casual Sneakers For Men</td>\n",
       "      <td>₹357</td>\n",
       "    </tr>\n",
       "    <tr>\n",
       "      <th>24</th>\n",
       "      <td>Noztile</td>\n",
       "      <td>Sneakers For Men</td>\n",
       "      <td>₹349</td>\n",
       "    </tr>\n",
       "    <tr>\n",
       "      <th>25</th>\n",
       "      <td>World Wear Footwear</td>\n",
       "      <td>Sneaker for men Sneakers For Men</td>\n",
       "      <td>₹199</td>\n",
       "    </tr>\n",
       "    <tr>\n",
       "      <th>26</th>\n",
       "      <td>Rzisbo</td>\n",
       "      <td>Sports Running Shoes Sneakers For Men</td>\n",
       "      <td>₹499</td>\n",
       "    </tr>\n",
       "    <tr>\n",
       "      <th>27</th>\n",
       "      <td>HANIIY</td>\n",
       "      <td>white Casual shoes,Sneakers for men's Sneakers...</td>\n",
       "      <td>₹449</td>\n",
       "    </tr>\n",
       "    <tr>\n",
       "      <th>28</th>\n",
       "      <td>RapidBox</td>\n",
       "      <td>Sneakers For Men</td>\n",
       "      <td>₹640</td>\n",
       "    </tr>\n",
       "    <tr>\n",
       "      <th>29</th>\n",
       "      <td>Numenzo</td>\n",
       "      <td>Sneakers For Men</td>\n",
       "      <td>₹376</td>\n",
       "    </tr>\n",
       "  </tbody>\n",
       "</table>\n",
       "</div>"
      ],
      "text/plain": [
       "                  Brand                                Product_Description  \\\n",
       "0                 BIRDE  Stylish Comfortable Lightweight, Breathable Sp...   \n",
       "1                 BIRDE  Stylish Comfortable Lightweight, Breathable Ca...   \n",
       "2                BRUTON      Modern Trendy Sneakers Shoes Sneakers For Men   \n",
       "3              Elevarse  STYLISH MENS BLACK AND WHITE SNEAKER Sneakers ...   \n",
       "4                corsac  Combo Pack Of 4 Casual Shoes Loafer Shoes Snea...   \n",
       "5                BRUTON  Combo Pack Of 2 Latest Stylish Casual Shoes fo...   \n",
       "6                BRUTON  Combo Pack Of 3 Latest Casual Shoes Sneakers F...   \n",
       "7                BRUTON  5011-Latest Collection Stylish Casual Loafer S...   \n",
       "8   World Wear Footwear                                   Sneakers For Men   \n",
       "9              URBANBOX                                   Sneakers For Men   \n",
       "10               Labbin  Men's Stylish Sports & Casual Shoes For Men Sn...   \n",
       "11                 aadi                          Sneakers Sneakers For Men   \n",
       "12            DUNKASTON  Casual , Partywear Sneakers Shoes For Men's An...   \n",
       "13            Trendmode  Super Stylish & Trendy Combo Pack of 02 Pairs ...   \n",
       "14             RapidBox  Shoes Sneakers Casuals Boots Slip On Sneakers ...   \n",
       "15             AERAMBOL     White Sneaker For Men's/Boy's Sneakers For Men   \n",
       "16            SCATCHITE  Luxury Fashionable casual sneaker shoes Sneake...   \n",
       "17           D-SNEAKERZ  Original Luxury Branded Fashionable Men's Casu...   \n",
       "18               Chevit   Luxury Fashionable casual shoes Sneakers For Men   \n",
       "19             HOTSTYLE                                   Sneakers For Men   \n",
       "20           Shoes Bank                                   Sneakers For Men   \n",
       "21       luxury fashion                                   Sneakers For Men   \n",
       "22             ASTEROID  Believe Partywear Casual Shoes for Men's Sneak...   \n",
       "23       luxury fashion                        411 Casual Sneakers For Men   \n",
       "24              Noztile                                   Sneakers For Men   \n",
       "25  World Wear Footwear                   Sneaker for men Sneakers For Men   \n",
       "26               Rzisbo              Sports Running Shoes Sneakers For Men   \n",
       "27               HANIIY  white Casual shoes,Sneakers for men's Sneakers...   \n",
       "28             RapidBox                                   Sneakers For Men   \n",
       "29              Numenzo                                   Sneakers For Men   \n",
       "\n",
       "   Price  \n",
       "0   ₹476  \n",
       "1   ₹476  \n",
       "2   ₹209  \n",
       "3   ₹299  \n",
       "4   ₹449  \n",
       "5   ₹374  \n",
       "6   ₹449  \n",
       "7   ₹397  \n",
       "8   ₹149  \n",
       "9   ₹170  \n",
       "10  ₹424  \n",
       "11  ₹349  \n",
       "12  ₹349  \n",
       "13  ₹249  \n",
       "14  ₹630  \n",
       "15  ₹210  \n",
       "16  ₹327  \n",
       "17  ₹249  \n",
       "18  ₹599  \n",
       "19  ₹249  \n",
       "20  ₹295  \n",
       "21  ₹399  \n",
       "22  ₹424  \n",
       "23  ₹357  \n",
       "24  ₹349  \n",
       "25  ₹199  \n",
       "26  ₹499  \n",
       "27  ₹449  \n",
       "28  ₹640  \n",
       "29  ₹376  "
      ]
     },
     "execution_count": 288,
     "metadata": {},
     "output_type": "execute_result"
    }
   ],
   "source": [
    "sneakers=pd.DataFrame({})\n",
    "sneakers['Brand']=brands[0:30]\n",
    "sneakers['Product_Description']=product_descriptions[0:30]\n",
    "sneakers['Price']=price[0:30]\n",
    "sneakers"
   ]
  },
  {
   "cell_type": "markdown",
   "id": "81611595",
   "metadata": {},
   "source": [
    "## Q7: Go to the link - https://www.myntra.com/shoes\n",
    "\n",
    "## Set Price filter to “Rs. 6649 to Rs. 13099” , Color filter to “Black”, as shown in the below image.\n",
    "\n",
    "## And then scrape First 100 shoes data you get. The data should include “Brand” of the shoes , Short Shoe description, price of the shoe as shown in the below image."
   ]
  },
  {
   "cell_type": "code",
   "execution_count": 289,
   "id": "e9a0b4e6",
   "metadata": {},
   "outputs": [],
   "source": [
    "import selenium\n",
    "import pandas as pd\n",
    "from selenium import webdriver\n"
   ]
  },
  {
   "cell_type": "code",
   "execution_count": 290,
   "id": "017127f0",
   "metadata": {},
   "outputs": [],
   "source": [
    "# lets first connect to web driver \n",
    "driver = webdriver.Chrome(r'C:\\Users\\ROHIT RAJAN\\Downloads\\chromedriver_win32\\chromedriver.exe')\n"
   ]
  },
  {
   "cell_type": "code",
   "execution_count": 291,
   "id": "05c76149",
   "metadata": {},
   "outputs": [],
   "source": [
    "driver.get('https://www.myntra.com/shoes/')"
   ]
  },
  {
   "cell_type": "code",
   "execution_count": 292,
   "id": "3940f1f3",
   "metadata": {},
   "outputs": [],
   "source": [
    "#filter for price range\n",
    "price_range=driver.find_element_by_xpath('//*[@id=\"mountRoot\"]/div/div[1]/main/div[3]/div[1]/section/div/div[5]/ul/li[2]/label')\n",
    "price_range.click()\n"
   ]
  },
  {
   "cell_type": "code",
   "execution_count": 293,
   "id": "40d89e1c",
   "metadata": {},
   "outputs": [],
   "source": [
    "#filter for colour\n",
    "shoes_color=driver.find_element_by_xpath('//*[@id=\"mountRoot\"]/div/div[1]/main/div[3]/div[1]/section/div/div[6]/ul/li[1]/label')\n",
    "shoes_color.click()"
   ]
  },
  {
   "cell_type": "code",
   "execution_count": 294,
   "id": "57911576",
   "metadata": {},
   "outputs": [],
   "source": [
    "brands=[]\n",
    "shoe_descriptions=[]\n",
    "price=[]"
   ]
  },
  {
   "cell_type": "code",
   "execution_count": 295,
   "id": "f724d9c9",
   "metadata": {},
   "outputs": [
    {
     "data": {
      "text/plain": [
       "[<selenium.webdriver.remote.webelement.WebElement (session=\"4e250e6f9cfa304a890d4e460a1daf15\", element=\"61014374-5510-4fd2-a6d1-353d9fe9da1d\")>,\n",
       " <selenium.webdriver.remote.webelement.WebElement (session=\"4e250e6f9cfa304a890d4e460a1daf15\", element=\"1d00ab62-2876-4031-b56a-c90b7f02d227\")>,\n",
       " <selenium.webdriver.remote.webelement.WebElement (session=\"4e250e6f9cfa304a890d4e460a1daf15\", element=\"839db2df-e210-4391-a4a3-8831e3c7cb93\")>,\n",
       " <selenium.webdriver.remote.webelement.WebElement (session=\"4e250e6f9cfa304a890d4e460a1daf15\", element=\"120879f8-fca4-4ed5-8f2b-6e901dfdce87\")>]"
      ]
     },
     "execution_count": 295,
     "metadata": {},
     "output_type": "execute_result"
    }
   ],
   "source": [
    "brand_tags=driver.find_elements_by_xpath(\"//h3[@class='product-brand']\")\n",
    "brand_tags[0:4]"
   ]
  },
  {
   "cell_type": "code",
   "execution_count": 296,
   "id": "7b53d575",
   "metadata": {},
   "outputs": [
    {
     "data": {
      "text/plain": [
       "['Nike', 'Nike', 'Nike', 'Clarks']"
      ]
     },
     "execution_count": 296,
     "metadata": {},
     "output_type": "execute_result"
    }
   ],
   "source": [
    "for i in brand_tags:\n",
    "    brand=i.text\n",
    "    brands.append(brand)\n",
    "brands[0:4]"
   ]
  },
  {
   "cell_type": "code",
   "execution_count": 297,
   "id": "9707b022",
   "metadata": {},
   "outputs": [
    {
     "data": {
      "text/plain": [
       "[<selenium.webdriver.remote.webelement.WebElement (session=\"4e250e6f9cfa304a890d4e460a1daf15\", element=\"3d81316c-84ce-4ebd-952b-b23ed5682ce7\")>,\n",
       " <selenium.webdriver.remote.webelement.WebElement (session=\"4e250e6f9cfa304a890d4e460a1daf15\", element=\"2d2172d2-3015-49ea-8639-153ae5a2a39b\")>,\n",
       " <selenium.webdriver.remote.webelement.WebElement (session=\"4e250e6f9cfa304a890d4e460a1daf15\", element=\"f6b053a7-a63e-4fcf-8ded-c9d3283b8ff8\")>,\n",
       " <selenium.webdriver.remote.webelement.WebElement (session=\"4e250e6f9cfa304a890d4e460a1daf15\", element=\"5070650a-cc14-4057-96e5-637a6b16912d\")>]"
      ]
     },
     "execution_count": 297,
     "metadata": {},
     "output_type": "execute_result"
    }
   ],
   "source": [
    "shoe_description_tags=driver.find_elements_by_xpath(\"//h4[@class='product-product']\")\n",
    "shoe_description_tags[0:4]"
   ]
  },
  {
   "cell_type": "code",
   "execution_count": 298,
   "id": "c543d4ee",
   "metadata": {},
   "outputs": [
    {
     "data": {
      "text/plain": [
       "['Men Winflo 7 Running Shoes',\n",
       " 'Men Air Max Dawn Sneakers',\n",
       " 'Men Blazer Court Skateboarding',\n",
       " 'Men Leather Formal Loafers']"
      ]
     },
     "execution_count": 298,
     "metadata": {},
     "output_type": "execute_result"
    }
   ],
   "source": [
    "for i in shoe_description_tags:\n",
    "    shoe_description=i.text\n",
    "    shoe_descriptions.append(shoe_description)\n",
    "shoe_descriptions[0:4]"
   ]
  },
  {
   "cell_type": "code",
   "execution_count": 299,
   "id": "30a31525",
   "metadata": {},
   "outputs": [
    {
     "data": {
      "text/plain": [
       "[<selenium.webdriver.remote.webelement.WebElement (session=\"4e250e6f9cfa304a890d4e460a1daf15\", element=\"b6bdb700-c7b1-47a9-8aee-10d0c5cbad8c\")>,\n",
       " <selenium.webdriver.remote.webelement.WebElement (session=\"4e250e6f9cfa304a890d4e460a1daf15\", element=\"35c48963-b343-47b1-9351-8ffbb0facdd5\")>,\n",
       " <selenium.webdriver.remote.webelement.WebElement (session=\"4e250e6f9cfa304a890d4e460a1daf15\", element=\"d388fb5e-40f1-4b5e-b275-981ddbbc5e0e\")>,\n",
       " <selenium.webdriver.remote.webelement.WebElement (session=\"4e250e6f9cfa304a890d4e460a1daf15\", element=\"cef83c0a-a549-4e86-abeb-2b3548fb4091\")>]"
      ]
     },
     "execution_count": 299,
     "metadata": {},
     "output_type": "execute_result"
    }
   ],
   "source": [
    "price_tags=driver.find_elements_by_xpath(\"//div[@class='product-price']\")\n",
    "price_tags[0:4]\n"
   ]
  },
  {
   "cell_type": "code",
   "execution_count": 300,
   "id": "95164a77",
   "metadata": {},
   "outputs": [
    {
     "data": {
      "text/plain": [
       "['Rs. 7995', 'Rs. 10995', 'Rs. 7495', 'Rs. 7499']"
      ]
     },
     "execution_count": 300,
     "metadata": {},
     "output_type": "execute_result"
    }
   ],
   "source": [
    "for i in price_tags:\n",
    "    prc=i.text\n",
    "    price.append(prc)\n",
    "price[0:4]"
   ]
  },
  {
   "cell_type": "code",
   "execution_count": 301,
   "id": "54c46dcd",
   "metadata": {},
   "outputs": [
    {
     "data": {
      "text/plain": [
       "(50, 50, 50)"
      ]
     },
     "execution_count": 301,
     "metadata": {},
     "output_type": "execute_result"
    }
   ],
   "source": [
    "(len(brands),len(shoe_descriptions),len(price))\n"
   ]
  },
  {
   "cell_type": "code",
   "execution_count": 302,
   "id": "ba3edacb",
   "metadata": {},
   "outputs": [
    {
     "data": {
      "text/html": [
       "<div>\n",
       "<style scoped>\n",
       "    .dataframe tbody tr th:only-of-type {\n",
       "        vertical-align: middle;\n",
       "    }\n",
       "\n",
       "    .dataframe tbody tr th {\n",
       "        vertical-align: top;\n",
       "    }\n",
       "\n",
       "    .dataframe thead th {\n",
       "        text-align: right;\n",
       "    }\n",
       "</style>\n",
       "<table border=\"1\" class=\"dataframe\">\n",
       "  <thead>\n",
       "    <tr style=\"text-align: right;\">\n",
       "      <th></th>\n",
       "      <th>Brand</th>\n",
       "      <th>Shoe_Description</th>\n",
       "      <th>Price</th>\n",
       "    </tr>\n",
       "  </thead>\n",
       "  <tbody>\n",
       "    <tr>\n",
       "      <th>0</th>\n",
       "      <td>Nike</td>\n",
       "      <td>Men Winflo 7 Running Shoes</td>\n",
       "      <td>Rs. 7995</td>\n",
       "    </tr>\n",
       "    <tr>\n",
       "      <th>1</th>\n",
       "      <td>Nike</td>\n",
       "      <td>Men Air Max Dawn Sneakers</td>\n",
       "      <td>Rs. 10995</td>\n",
       "    </tr>\n",
       "    <tr>\n",
       "      <th>2</th>\n",
       "      <td>Nike</td>\n",
       "      <td>Men Blazer Court Skateboarding</td>\n",
       "      <td>Rs. 7495</td>\n",
       "    </tr>\n",
       "    <tr>\n",
       "      <th>3</th>\n",
       "      <td>Clarks</td>\n",
       "      <td>Men Leather Formal Loafers</td>\n",
       "      <td>Rs. 7499</td>\n",
       "    </tr>\n",
       "    <tr>\n",
       "      <th>4</th>\n",
       "      <td>Tommy Hilfiger</td>\n",
       "      <td>Men Leather Sneakers</td>\n",
       "      <td>Rs. 7999</td>\n",
       "    </tr>\n",
       "    <tr>\n",
       "      <th>5</th>\n",
       "      <td>Puma</td>\n",
       "      <td>Men Jamming 2.0 Running Shoes</td>\n",
       "      <td>Rs. 12999</td>\n",
       "    </tr>\n",
       "    <tr>\n",
       "      <th>6</th>\n",
       "      <td>Puma</td>\n",
       "      <td>Men Running Shoes</td>\n",
       "      <td>Rs. 12999</td>\n",
       "    </tr>\n",
       "    <tr>\n",
       "      <th>7</th>\n",
       "      <td>Puma</td>\n",
       "      <td>Men Magnify Nitro Running</td>\n",
       "      <td>Rs. 7799Rs. 12999(40% OFF)</td>\n",
       "    </tr>\n",
       "    <tr>\n",
       "      <th>8</th>\n",
       "      <td>Puma</td>\n",
       "      <td>Men Deviate Nitro Running Shoe</td>\n",
       "      <td>Rs. 10499Rs. 14999(30% OFF)</td>\n",
       "    </tr>\n",
       "    <tr>\n",
       "      <th>9</th>\n",
       "      <td>Tommy Hilfiger</td>\n",
       "      <td>Men Leather Sneakers</td>\n",
       "      <td>Rs. 7999</td>\n",
       "    </tr>\n",
       "    <tr>\n",
       "      <th>10</th>\n",
       "      <td>ASICS</td>\n",
       "      <td>Women Running Shoes</td>\n",
       "      <td>Rs. 7999</td>\n",
       "    </tr>\n",
       "    <tr>\n",
       "      <th>11</th>\n",
       "      <td>Skechers</td>\n",
       "      <td>Men Go Run Hyper Burst Running</td>\n",
       "      <td>Rs. 7224Rs. 8499(15% OFF)</td>\n",
       "    </tr>\n",
       "    <tr>\n",
       "      <th>12</th>\n",
       "      <td>Puma</td>\n",
       "      <td>Women Magnify Nitro Shoes</td>\n",
       "      <td>Rs. 7799Rs. 12999(40% OFF)</td>\n",
       "    </tr>\n",
       "    <tr>\n",
       "      <th>13</th>\n",
       "      <td>Hush Puppies</td>\n",
       "      <td>Men Solid Leather Formal Slip-Ons</td>\n",
       "      <td>Rs. 8999</td>\n",
       "    </tr>\n",
       "    <tr>\n",
       "      <th>14</th>\n",
       "      <td>Puma</td>\n",
       "      <td>Men Electrify Nitro Running</td>\n",
       "      <td>Rs. 9999</td>\n",
       "    </tr>\n",
       "    <tr>\n",
       "      <th>15</th>\n",
       "      <td>Tommy Hilfiger</td>\n",
       "      <td>Men Textured Loafers</td>\n",
       "      <td>Rs. 8999</td>\n",
       "    </tr>\n",
       "    <tr>\n",
       "      <th>16</th>\n",
       "      <td>DAVINCHI</td>\n",
       "      <td>Men Textured Formal Leather Loafers</td>\n",
       "      <td>Rs. 8990</td>\n",
       "    </tr>\n",
       "    <tr>\n",
       "      <th>17</th>\n",
       "      <td>RARE RABBIT</td>\n",
       "      <td>Men Leather Slip-On Sneakers</td>\n",
       "      <td>Rs. 7999</td>\n",
       "    </tr>\n",
       "    <tr>\n",
       "      <th>18</th>\n",
       "      <td>Hush Puppies</td>\n",
       "      <td>Men Perforations Leather Slip-On Sneakers</td>\n",
       "      <td>Rs. 7999</td>\n",
       "    </tr>\n",
       "    <tr>\n",
       "      <th>19</th>\n",
       "      <td>Tommy Hilfiger</td>\n",
       "      <td>Leather Sandals</td>\n",
       "      <td>Rs. 7599</td>\n",
       "    </tr>\n",
       "    <tr>\n",
       "      <th>20</th>\n",
       "      <td>Hush Puppies</td>\n",
       "      <td>Men Solid Formal Slip-Ons</td>\n",
       "      <td>Rs. 9999</td>\n",
       "    </tr>\n",
       "    <tr>\n",
       "      <th>21</th>\n",
       "      <td>Tommy Hilfiger</td>\n",
       "      <td>Women CLEAT Textured Sneakers</td>\n",
       "      <td>Rs. 7739Rs. 8599(10% OFF)</td>\n",
       "    </tr>\n",
       "    <tr>\n",
       "      <th>22</th>\n",
       "      <td>Columbia</td>\n",
       "      <td>Women REDMOND V2 TrekkingShoe</td>\n",
       "      <td>Rs. 7999</td>\n",
       "    </tr>\n",
       "    <tr>\n",
       "      <th>23</th>\n",
       "      <td>Puma</td>\n",
       "      <td>Women Velocity NITRO Runners</td>\n",
       "      <td>Rs. 7149Rs. 10999(35% OFF)</td>\n",
       "    </tr>\n",
       "    <tr>\n",
       "      <th>24</th>\n",
       "      <td>Xtep</td>\n",
       "      <td>Men Running Shoes</td>\n",
       "      <td>Rs. 7699</td>\n",
       "    </tr>\n",
       "    <tr>\n",
       "      <th>25</th>\n",
       "      <td>Puma</td>\n",
       "      <td>Men Training or Gym Shoes</td>\n",
       "      <td>Rs. 7999</td>\n",
       "    </tr>\n",
       "    <tr>\n",
       "      <th>26</th>\n",
       "      <td>Bugatti</td>\n",
       "      <td>Men Walking Shoes</td>\n",
       "      <td>Rs. 7199Rs. 8999(20% OFF)</td>\n",
       "    </tr>\n",
       "    <tr>\n",
       "      <th>27</th>\n",
       "      <td>Puma</td>\n",
       "      <td>Women Eternity Nitro Running</td>\n",
       "      <td>Rs. 7149Rs. 12999(45% OFF)</td>\n",
       "    </tr>\n",
       "    <tr>\n",
       "      <th>28</th>\n",
       "      <td>PUMA Motorsport</td>\n",
       "      <td>Unisex Ferrari Drift8 Sneakers</td>\n",
       "      <td>Rs. 7999</td>\n",
       "    </tr>\n",
       "    <tr>\n",
       "      <th>29</th>\n",
       "      <td>Clarks</td>\n",
       "      <td>Men Solid Leather Formal Loafers</td>\n",
       "      <td>Rs. 7999</td>\n",
       "    </tr>\n",
       "    <tr>\n",
       "      <th>30</th>\n",
       "      <td>Saint G</td>\n",
       "      <td>Leather Block Heeled Boots</td>\n",
       "      <td>Rs. 9265Rs. 10900(15% OFF)</td>\n",
       "    </tr>\n",
       "    <tr>\n",
       "      <th>31</th>\n",
       "      <td>Heel &amp; Buckle London</td>\n",
       "      <td>Men Textured Leather Formal Loafers</td>\n",
       "      <td>Rs. 13990</td>\n",
       "    </tr>\n",
       "    <tr>\n",
       "      <th>32</th>\n",
       "      <td>Geox</td>\n",
       "      <td>Men Leather Loafers</td>\n",
       "      <td>Rs. 10990</td>\n",
       "    </tr>\n",
       "    <tr>\n",
       "      <th>33</th>\n",
       "      <td>FILA</td>\n",
       "      <td>Women Leather Sneakers</td>\n",
       "      <td>Rs. 8499</td>\n",
       "    </tr>\n",
       "    <tr>\n",
       "      <th>34</th>\n",
       "      <td>Saint G</td>\n",
       "      <td>Men Mid-Top Chelsea Boots</td>\n",
       "      <td>Rs. 10500Rs. 10900(Rs. 400 OFF)</td>\n",
       "    </tr>\n",
       "    <tr>\n",
       "      <th>35</th>\n",
       "      <td>ALDO</td>\n",
       "      <td>Wedge Sandals</td>\n",
       "      <td>Rs. 7999</td>\n",
       "    </tr>\n",
       "    <tr>\n",
       "      <th>36</th>\n",
       "      <td>Bugatti</td>\n",
       "      <td>Men Textured Leather High-Top Flat Boots</td>\n",
       "      <td>Rs. 8399Rs. 11999(30% OFF)</td>\n",
       "    </tr>\n",
       "    <tr>\n",
       "      <th>37</th>\n",
       "      <td>Clarks</td>\n",
       "      <td>Men Solid Formal Leather Derbys</td>\n",
       "      <td>Rs. 9999</td>\n",
       "    </tr>\n",
       "    <tr>\n",
       "      <th>38</th>\n",
       "      <td>RARE RABBIT</td>\n",
       "      <td>Men Leather Flat Boots</td>\n",
       "      <td>Rs. 7999Rs. 9999(20% OFF)</td>\n",
       "    </tr>\n",
       "    <tr>\n",
       "      <th>39</th>\n",
       "      <td>Tommy Hilfiger</td>\n",
       "      <td>Women ELEVATED Leather Sneaker</td>\n",
       "      <td>Rs. 7219Rs. 7599(5% OFF)</td>\n",
       "    </tr>\n",
       "    <tr>\n",
       "      <th>40</th>\n",
       "      <td>Saint G</td>\n",
       "      <td>Women Leather Heeled Boots</td>\n",
       "      <td>Rs. 12325Rs. 14500(15% OFF)</td>\n",
       "    </tr>\n",
       "    <tr>\n",
       "      <th>41</th>\n",
       "      <td>DAVINCHI</td>\n",
       "      <td>Ustraa black</td>\n",
       "      <td>Rs. 8990</td>\n",
       "    </tr>\n",
       "    <tr>\n",
       "      <th>42</th>\n",
       "      <td>Saint G</td>\n",
       "      <td>Women Leather Heeled Boots</td>\n",
       "      <td>Rs. 11473Rs. 14900(23% OFF)</td>\n",
       "    </tr>\n",
       "    <tr>\n",
       "      <th>43</th>\n",
       "      <td>Clarks</td>\n",
       "      <td>Men Solid Leather Formal Brogues</td>\n",
       "      <td>Rs. 7999</td>\n",
       "    </tr>\n",
       "    <tr>\n",
       "      <th>44</th>\n",
       "      <td>DAVINCHI</td>\n",
       "      <td>Solid Slip On Shoes</td>\n",
       "      <td>Rs. 7990</td>\n",
       "    </tr>\n",
       "    <tr>\n",
       "      <th>45</th>\n",
       "      <td>Nike</td>\n",
       "      <td>Women Air Max Furyosa Sneakers</td>\n",
       "      <td>Rs. 11470Rs. 13495(15% OFF)</td>\n",
       "    </tr>\n",
       "    <tr>\n",
       "      <th>46</th>\n",
       "      <td>Saint G</td>\n",
       "      <td>Leather Boots with Buckles</td>\n",
       "      <td>Rs. 8925Rs. 10500(15% OFF)</td>\n",
       "    </tr>\n",
       "    <tr>\n",
       "      <th>47</th>\n",
       "      <td>Saint G</td>\n",
       "      <td>Women Kitten Heeled Boots</td>\n",
       "      <td>Rs. 7565Rs. 8900(15% OFF)</td>\n",
       "    </tr>\n",
       "    <tr>\n",
       "      <th>48</th>\n",
       "      <td>Bugatti</td>\n",
       "      <td>Men Black Walking Shoes</td>\n",
       "      <td>Rs. 7199Rs. 8999(20% OFF)</td>\n",
       "    </tr>\n",
       "    <tr>\n",
       "      <th>49</th>\n",
       "      <td>Puma</td>\n",
       "      <td>Women Eternity NITRO Shoes</td>\n",
       "      <td>Rs. 7799Rs. 12999(40% OFF)</td>\n",
       "    </tr>\n",
       "  </tbody>\n",
       "</table>\n",
       "</div>"
      ],
      "text/plain": [
       "                   Brand                           Shoe_Description  \\\n",
       "0                   Nike                 Men Winflo 7 Running Shoes   \n",
       "1                   Nike                  Men Air Max Dawn Sneakers   \n",
       "2                   Nike             Men Blazer Court Skateboarding   \n",
       "3                 Clarks                 Men Leather Formal Loafers   \n",
       "4         Tommy Hilfiger                       Men Leather Sneakers   \n",
       "5                   Puma              Men Jamming 2.0 Running Shoes   \n",
       "6                   Puma                          Men Running Shoes   \n",
       "7                   Puma                  Men Magnify Nitro Running   \n",
       "8                   Puma             Men Deviate Nitro Running Shoe   \n",
       "9         Tommy Hilfiger                       Men Leather Sneakers   \n",
       "10                 ASICS                        Women Running Shoes   \n",
       "11              Skechers             Men Go Run Hyper Burst Running   \n",
       "12                  Puma                  Women Magnify Nitro Shoes   \n",
       "13          Hush Puppies          Men Solid Leather Formal Slip-Ons   \n",
       "14                  Puma                Men Electrify Nitro Running   \n",
       "15        Tommy Hilfiger                       Men Textured Loafers   \n",
       "16              DAVINCHI        Men Textured Formal Leather Loafers   \n",
       "17           RARE RABBIT               Men Leather Slip-On Sneakers   \n",
       "18          Hush Puppies  Men Perforations Leather Slip-On Sneakers   \n",
       "19        Tommy Hilfiger                            Leather Sandals   \n",
       "20          Hush Puppies                  Men Solid Formal Slip-Ons   \n",
       "21        Tommy Hilfiger              Women CLEAT Textured Sneakers   \n",
       "22              Columbia              Women REDMOND V2 TrekkingShoe   \n",
       "23                  Puma               Women Velocity NITRO Runners   \n",
       "24                  Xtep                          Men Running Shoes   \n",
       "25                  Puma                  Men Training or Gym Shoes   \n",
       "26               Bugatti                          Men Walking Shoes   \n",
       "27                  Puma               Women Eternity Nitro Running   \n",
       "28       PUMA Motorsport             Unisex Ferrari Drift8 Sneakers   \n",
       "29                Clarks           Men Solid Leather Formal Loafers   \n",
       "30               Saint G                 Leather Block Heeled Boots   \n",
       "31  Heel & Buckle London        Men Textured Leather Formal Loafers   \n",
       "32                  Geox                        Men Leather Loafers   \n",
       "33                  FILA                     Women Leather Sneakers   \n",
       "34               Saint G                  Men Mid-Top Chelsea Boots   \n",
       "35                  ALDO                              Wedge Sandals   \n",
       "36               Bugatti   Men Textured Leather High-Top Flat Boots   \n",
       "37                Clarks            Men Solid Formal Leather Derbys   \n",
       "38           RARE RABBIT                     Men Leather Flat Boots   \n",
       "39        Tommy Hilfiger             Women ELEVATED Leather Sneaker   \n",
       "40               Saint G                 Women Leather Heeled Boots   \n",
       "41              DAVINCHI                               Ustraa black   \n",
       "42               Saint G                 Women Leather Heeled Boots   \n",
       "43                Clarks           Men Solid Leather Formal Brogues   \n",
       "44              DAVINCHI                        Solid Slip On Shoes   \n",
       "45                  Nike             Women Air Max Furyosa Sneakers   \n",
       "46               Saint G                 Leather Boots with Buckles   \n",
       "47               Saint G                  Women Kitten Heeled Boots   \n",
       "48               Bugatti                    Men Black Walking Shoes   \n",
       "49                  Puma                 Women Eternity NITRO Shoes   \n",
       "\n",
       "                              Price  \n",
       "0                          Rs. 7995  \n",
       "1                         Rs. 10995  \n",
       "2                          Rs. 7495  \n",
       "3                          Rs. 7499  \n",
       "4                          Rs. 7999  \n",
       "5                         Rs. 12999  \n",
       "6                         Rs. 12999  \n",
       "7        Rs. 7799Rs. 12999(40% OFF)  \n",
       "8       Rs. 10499Rs. 14999(30% OFF)  \n",
       "9                          Rs. 7999  \n",
       "10                         Rs. 7999  \n",
       "11        Rs. 7224Rs. 8499(15% OFF)  \n",
       "12       Rs. 7799Rs. 12999(40% OFF)  \n",
       "13                         Rs. 8999  \n",
       "14                         Rs. 9999  \n",
       "15                         Rs. 8999  \n",
       "16                         Rs. 8990  \n",
       "17                         Rs. 7999  \n",
       "18                         Rs. 7999  \n",
       "19                         Rs. 7599  \n",
       "20                         Rs. 9999  \n",
       "21        Rs. 7739Rs. 8599(10% OFF)  \n",
       "22                         Rs. 7999  \n",
       "23       Rs. 7149Rs. 10999(35% OFF)  \n",
       "24                         Rs. 7699  \n",
       "25                         Rs. 7999  \n",
       "26        Rs. 7199Rs. 8999(20% OFF)  \n",
       "27       Rs. 7149Rs. 12999(45% OFF)  \n",
       "28                         Rs. 7999  \n",
       "29                         Rs. 7999  \n",
       "30       Rs. 9265Rs. 10900(15% OFF)  \n",
       "31                        Rs. 13990  \n",
       "32                        Rs. 10990  \n",
       "33                         Rs. 8499  \n",
       "34  Rs. 10500Rs. 10900(Rs. 400 OFF)  \n",
       "35                         Rs. 7999  \n",
       "36       Rs. 8399Rs. 11999(30% OFF)  \n",
       "37                         Rs. 9999  \n",
       "38        Rs. 7999Rs. 9999(20% OFF)  \n",
       "39         Rs. 7219Rs. 7599(5% OFF)  \n",
       "40      Rs. 12325Rs. 14500(15% OFF)  \n",
       "41                         Rs. 8990  \n",
       "42      Rs. 11473Rs. 14900(23% OFF)  \n",
       "43                         Rs. 7999  \n",
       "44                         Rs. 7990  \n",
       "45      Rs. 11470Rs. 13495(15% OFF)  \n",
       "46       Rs. 8925Rs. 10500(15% OFF)  \n",
       "47        Rs. 7565Rs. 8900(15% OFF)  \n",
       "48        Rs. 7199Rs. 8999(20% OFF)  \n",
       "49       Rs. 7799Rs. 12999(40% OFF)  "
      ]
     },
     "execution_count": 302,
     "metadata": {},
     "output_type": "execute_result"
    }
   ],
   "source": [
    "shoes=pd.DataFrame({})\n",
    "shoes['Brand']=brands[0:50]\n",
    "shoes['Shoe_Description']=shoe_descriptions[0:50]\n",
    "shoes['Price']=price[0:50]\n",
    "shoes"
   ]
  },
  {
   "cell_type": "markdown",
   "id": "4d3cdff9",
   "metadata": {},
   "source": [
    "### Q8: Go to webpage https://www.amazon.in/\n",
    "### Enter “Laptop” in the search field and then click the search icon.\n",
    "### Then set CPU Type filter to “Intel Core i7” and “Intel Core i9” as shown in the below image:\n",
    "### After setting the filters scrape first 10 laptops data. You have to scrape 3 attributesfor each laptop:\n",
    "### 1. Title\n",
    "### 2. Ratings\n",
    "### 3. Price\n",
    "### As shown in the below image as the tick marked attributes."
   ]
  },
  {
   "cell_type": "code",
   "execution_count": 303,
   "id": "68698810",
   "metadata": {},
   "outputs": [],
   "source": [
    "import selenium\n",
    "import pandas as pd\n",
    "from selenium import webdriver\n"
   ]
  },
  {
   "cell_type": "code",
   "execution_count": 304,
   "id": "3a4489b2",
   "metadata": {},
   "outputs": [],
   "source": [
    "# lets first connect to web driver \n",
    "driver = webdriver.Chrome(r'C:\\Users\\ROHIT RAJAN\\Downloads\\chromedriver_win32\\chromedriver.exe')\n"
   ]
  },
  {
   "cell_type": "code",
   "execution_count": 305,
   "id": "9b2e33c0",
   "metadata": {},
   "outputs": [],
   "source": [
    "driver.get('https://www.amazon.in/')"
   ]
  },
  {
   "cell_type": "code",
   "execution_count": 306,
   "id": "09dbbaba",
   "metadata": {},
   "outputs": [],
   "source": [
    "search=driver.find_element_by_xpath('//*[@id=\"twotabsearchtextbox\"]')\n",
    "search.click()\n",
    "\n",
    "search.send_keys(\"Laptop\")\n",
    "\n",
    "#search for laptop\n",
    "\n",
    "search_btn=driver.find_element_by_xpath('//*[@id=\"nav-search-submit-button\"]')\n",
    "search_btn.click()"
   ]
  },
  {
   "cell_type": "code",
   "execution_count": 308,
   "id": "361f0d32",
   "metadata": {},
   "outputs": [],
   "source": [
    "#filter for CPU Type  “Intel Core i7” \n",
    "\n",
    "i7=driver.find_element_by_xpath('//*[@id=\"p_n_feature_thirteen_browse-bin/12598163031\"]/span/a/span')\n",
    "i7.click()\n",
    "\n",
    "#Here we skipped \"Intel Core i9\" filter only applied \"Intel Core i7\""
   ]
  },
  {
   "cell_type": "code",
   "execution_count": 309,
   "id": "f6b060d0",
   "metadata": {},
   "outputs": [],
   "source": [
    "url=\"https://www.amazon.in/s?k=Laptop&i=computers&rh=n%3A1375424031%2Cp_n_feature_thirteen_browse-bin%3A12598163031&dc&qid=1636879490&rnid=12598141031&ref=sr_nr_p_n_feature_thirteen_browse-bin_9\"\n",
    "\n",
    "driver.get(url)"
   ]
  },
  {
   "cell_type": "code",
   "execution_count": 310,
   "id": "35c711b9",
   "metadata": {},
   "outputs": [
    {
     "data": {
      "text/plain": [
       "['Mi Notebook Ultra 3.2K resolution display Intel Core i7-11370H 11th Gen 15.6-inch(39.62 cm) Thin and Light laptop (16GB/512GB SSD/Iris Xe Graphics/Win 10/MS Office/Backlit KB/Fingerprint sensor/1.7Kg)',\n",
       " 'LG Gram 16 inches Intel Evo 11th Gen Core i7 Ultra-Light Laptop (16 GB RAM, 512 GB SSD, New Windows 11 Home Preload, Iris Xe Graphics, USC -C x 2 (with Power), 1.19 kg, 16Z90P-G.AH85A2, Black)',\n",
       " 'ASUS VivoBook 14 (2021), 14-inch (35.56 cms) FHD, Intel Core i7-1065G7 10th Gen, Thin and Light Laptop (16GB/512GB SSD/Integrated Graphics/Office 2021/Windows 11/Silver/1.6 Kg), X415JA-EK701WS',\n",
       " 'HP Pavilion x360 11th Gen Intel Core i7 14 inches FHD, IPS, Convertible Laptop (16 GB RAM/512GB SSD, B&O/Win 11 Home/Backlit keyboard/FPR/ Alexa-Built in/MS Office/Natural Silver/1.52 Kg) -14-dy1013TU']"
      ]
     },
     "execution_count": 310,
     "metadata": {},
     "output_type": "execute_result"
    }
   ],
   "source": [
    "titles=[]\n",
    "ratings=[]\n",
    "price=[]\n",
    "\n",
    "title_tags=driver.find_elements_by_xpath(\"//span[@class='a-size-medium a-color-base a-text-normal']\")\n",
    "title_tags[0:4]\n",
    "\n",
    "for i in title_tags:\n",
    "    title=i.text\n",
    "    titles.append(title)\n",
    "titles[0:4]"
   ]
  },
  {
   "cell_type": "code",
   "execution_count": 313,
   "id": "6db12995",
   "metadata": {},
   "outputs": [
    {
     "data": {
      "text/plain": [
       "[]"
      ]
     },
     "execution_count": 313,
     "metadata": {},
     "output_type": "execute_result"
    }
   ],
   "source": [
    "ratings_tags=driver.find_elements_by_xpath(\"//i[@class='a-icon a-icon-star a-star-4']/span\")\n",
    "ratings_tags[0:4]\n",
    "\n",
    "for i in ratings_tags:\n",
    "    rate=i.text\n",
    "    ratings.append(rate)\n",
    "ratings[0:4]"
   ]
  },
  {
   "cell_type": "code",
   "execution_count": 312,
   "id": "90e5fcc1",
   "metadata": {},
   "outputs": [
    {
     "data": {
      "text/plain": [
       "['77,490', '92,999', '59,990', '86,490']"
      ]
     },
     "execution_count": 312,
     "metadata": {},
     "output_type": "execute_result"
    }
   ],
   "source": [
    "price_tags=driver.find_elements_by_xpath(\"//span[@class='a-price-whole']\")\n",
    "price_tags[0:4]\n",
    "\n",
    "for i in price_tags:\n",
    "    prc=i.text\n",
    "    price.append(prc)\n",
    "price[0:4]"
   ]
  },
  {
   "cell_type": "code",
   "execution_count": 314,
   "id": "94ca080d",
   "metadata": {},
   "outputs": [
    {
     "data": {
      "text/plain": [
       "(30, 0, 29)"
      ]
     },
     "execution_count": 314,
     "metadata": {},
     "output_type": "execute_result"
    }
   ],
   "source": [
    "(len(titles),len(ratings),len(price))"
   ]
  },
  {
   "cell_type": "code",
   "execution_count": 315,
   "id": "fd0aa7d1",
   "metadata": {},
   "outputs": [
    {
     "data": {
      "text/html": [
       "<div>\n",
       "<style scoped>\n",
       "    .dataframe tbody tr th:only-of-type {\n",
       "        vertical-align: middle;\n",
       "    }\n",
       "\n",
       "    .dataframe tbody tr th {\n",
       "        vertical-align: top;\n",
       "    }\n",
       "\n",
       "    .dataframe thead th {\n",
       "        text-align: right;\n",
       "    }\n",
       "</style>\n",
       "<table border=\"1\" class=\"dataframe\">\n",
       "  <thead>\n",
       "    <tr style=\"text-align: right;\">\n",
       "      <th></th>\n",
       "      <th>Title</th>\n",
       "      <th>Price</th>\n",
       "    </tr>\n",
       "  </thead>\n",
       "  <tbody>\n",
       "    <tr>\n",
       "      <th>0</th>\n",
       "      <td>Mi Notebook Ultra 3.2K resolution display Inte...</td>\n",
       "      <td>77,490</td>\n",
       "    </tr>\n",
       "    <tr>\n",
       "      <th>1</th>\n",
       "      <td>LG Gram 16 inches Intel Evo 11th Gen Core i7 U...</td>\n",
       "      <td>92,999</td>\n",
       "    </tr>\n",
       "    <tr>\n",
       "      <th>2</th>\n",
       "      <td>ASUS VivoBook 14 (2021), 14-inch (35.56 cms) F...</td>\n",
       "      <td>59,990</td>\n",
       "    </tr>\n",
       "    <tr>\n",
       "      <th>3</th>\n",
       "      <td>HP Pavilion x360 11th Gen Intel Core i7 14 inc...</td>\n",
       "      <td>86,490</td>\n",
       "    </tr>\n",
       "    <tr>\n",
       "      <th>4</th>\n",
       "      <td>ASUS TUF Gaming F15 (2021) 15.6-inch (39.62 cm...</td>\n",
       "      <td>96,990</td>\n",
       "    </tr>\n",
       "    <tr>\n",
       "      <th>5</th>\n",
       "      <td>LG Gram 14 inches Ultra-Light Intel Evo 11th G...</td>\n",
       "      <td>87,999</td>\n",
       "    </tr>\n",
       "    <tr>\n",
       "      <th>6</th>\n",
       "      <td>LG Gram Intel Evo 11th Gen Core i7 17 inches U...</td>\n",
       "      <td>99,499</td>\n",
       "    </tr>\n",
       "    <tr>\n",
       "      <th>7</th>\n",
       "      <td>Lenovo ThinkBook 13s Intel 11th Gen Core i7 13...</td>\n",
       "      <td>84,990</td>\n",
       "    </tr>\n",
       "    <tr>\n",
       "      <th>8</th>\n",
       "      <td>Mi Notebook Horizon Edition 14 Intel Core i7-1...</td>\n",
       "      <td>59,990</td>\n",
       "    </tr>\n",
       "    <tr>\n",
       "      <th>9</th>\n",
       "      <td>Fujitsu UH-X 11th Gen Intel i7 Core 13.3” (33....</td>\n",
       "      <td>89,990</td>\n",
       "    </tr>\n",
       "  </tbody>\n",
       "</table>\n",
       "</div>"
      ],
      "text/plain": [
       "                                               Title   Price\n",
       "0  Mi Notebook Ultra 3.2K resolution display Inte...  77,490\n",
       "1  LG Gram 16 inches Intel Evo 11th Gen Core i7 U...  92,999\n",
       "2  ASUS VivoBook 14 (2021), 14-inch (35.56 cms) F...  59,990\n",
       "3  HP Pavilion x360 11th Gen Intel Core i7 14 inc...  86,490\n",
       "4  ASUS TUF Gaming F15 (2021) 15.6-inch (39.62 cm...  96,990\n",
       "5  LG Gram 14 inches Ultra-Light Intel Evo 11th G...  87,999\n",
       "6  LG Gram Intel Evo 11th Gen Core i7 17 inches U...  99,499\n",
       "7  Lenovo ThinkBook 13s Intel 11th Gen Core i7 13...  84,990\n",
       "8  Mi Notebook Horizon Edition 14 Intel Core i7-1...  59,990\n",
       "9  Fujitsu UH-X 11th Gen Intel i7 Core 13.3” (33....  89,990"
      ]
     },
     "execution_count": 315,
     "metadata": {},
     "output_type": "execute_result"
    }
   ],
   "source": [
    "#i skipped rating data \n",
    "\n",
    "Laptop=pd.DataFrame({})\n",
    "Laptop['Title']=titles[0:10]\n",
    "Laptop['Price']=price[0:10]\n",
    "\n",
    "Laptop"
   ]
  },
  {
   "cell_type": "markdown",
   "id": "9be65a4b",
   "metadata": {},
   "source": [
    "### Q9: Write a python program to scrape data for first 10 job results for Data Scientist Designation in Noida location. You have to scrape company name, No. of days ago when job was posted, Rating of the company. This task will be done in following steps:\n",
    "### 1. First get the webpage https://www.ambitionbox.com/\n",
    "### 2. Click on the Job option as shown in the image\n",
    "### 3. After reaching to the next webpage, In place of “Search by Designations, Companies, Skills” enter “Data Scientist” and click on search button."
   ]
  },
  {
   "cell_type": "code",
   "execution_count": 316,
   "id": "163bf9b9",
   "metadata": {},
   "outputs": [],
   "source": [
    "import selenium\n",
    "import pandas as pd\n",
    "from selenium import webdriver"
   ]
  },
  {
   "cell_type": "code",
   "execution_count": 317,
   "id": "9e2aaa96",
   "metadata": {},
   "outputs": [],
   "source": [
    "# lets first connect to web driver \n",
    "driver = webdriver.Chrome(r'C:\\Users\\ROHIT RAJAN\\Downloads\\chromedriver_win32\\chromedriver.exe')\n"
   ]
  },
  {
   "cell_type": "code",
   "execution_count": 318,
   "id": "48fc81ea",
   "metadata": {},
   "outputs": [],
   "source": [
    "driver.get('https://www.ambitionbox.com/')"
   ]
  },
  {
   "cell_type": "code",
   "execution_count": 319,
   "id": "ce00f0fa",
   "metadata": {},
   "outputs": [],
   "source": [
    "click_jobs=driver.find_element_by_xpath('//*[@id=\"headerWrapper\"]/nav/nav/a[6]')\n",
    "click_jobs.click()"
   ]
  },
  {
   "cell_type": "code",
   "execution_count": 322,
   "id": "fa517e7a",
   "metadata": {},
   "outputs": [],
   "source": [
    "search=driver.find_element_by_xpath('//*[@id=\"jobs-typeahead\"]/span/input')\n",
    "search.click()\n",
    "\n"
   ]
  },
  {
   "cell_type": "code",
   "execution_count": 323,
   "id": "37dc9361",
   "metadata": {},
   "outputs": [],
   "source": [
    "search.send_keys(\"Data Scientist\")"
   ]
  },
  {
   "cell_type": "code",
   "execution_count": 327,
   "id": "8f6815c2",
   "metadata": {},
   "outputs": [
    {
     "ename": "NoSuchElementException",
     "evalue": "Message: no such element: Unable to locate element: {\"method\":\"xpath\",\"selector\":\"//*[@id=\"jobSearchPage\"]/div[2]/div/div/div/div/button\"}\n  (Session info: chrome=98.0.4758.102)\nStacktrace:\nBacktrace:\n\tOrdinal0 [0x00E67AC3+2587331]\n\tOrdinal0 [0x00DFADD1+2141649]\n\tOrdinal0 [0x00CF3BB8+1063864]\n\tOrdinal0 [0x00D201CE+1245646]\n\tOrdinal0 [0x00D203CB+1246155]\n\tOrdinal0 [0x00D4A612+1418770]\n\tOrdinal0 [0x00D386D4+1345236]\n\tOrdinal0 [0x00D48A0A+1411594]\n\tOrdinal0 [0x00D384A6+1344678]\n\tOrdinal0 [0x00D153F6+1201142]\n\tOrdinal0 [0x00D162E6+1204966]\n\tGetHandleVerifier [0x0100DF22+1680738]\n\tGetHandleVerifier [0x010C0DBC+2413564]\n\tGetHandleVerifier [0x00EFD151+563089]\n\tGetHandleVerifier [0x00EFBF13+558419]\n\tOrdinal0 [0x00E0081E+2164766]\n\tOrdinal0 [0x00E05508+2184456]\n\tOrdinal0 [0x00E05650+2184784]\n\tOrdinal0 [0x00E0F5BC+2225596]\n\tBaseThreadInitThunk [0x77076739+25]\n\tRtlGetFullPathName_UEx [0x77AF8E7F+1215]\n\tRtlGetFullPathName_UEx [0x77AF8E4D+1165]\n",
     "output_type": "error",
     "traceback": [
      "\u001b[1;31m---------------------------------------------------------------------------\u001b[0m",
      "\u001b[1;31mNoSuchElementException\u001b[0m                    Traceback (most recent call last)",
      "\u001b[1;32mC:\\Users\\ROHITR~1\\AppData\\Local\\Temp/ipykernel_15760/1844223572.py\u001b[0m in \u001b[0;36m<module>\u001b[1;34m\u001b[0m\n\u001b[1;32m----> 1\u001b[1;33m \u001b[0msearch_button\u001b[0m\u001b[1;33m=\u001b[0m\u001b[0mdriver\u001b[0m\u001b[1;33m.\u001b[0m\u001b[0mfind_element_by_xpath\u001b[0m\u001b[1;33m(\u001b[0m\u001b[1;34m'//*[@id=\"jobSearchPage\"]/div[2]/div/div/div/div/button'\u001b[0m\u001b[1;33m)\u001b[0m\u001b[1;33m\u001b[0m\u001b[1;33m\u001b[0m\u001b[0m\n\u001b[0m\u001b[0;32m      2\u001b[0m \u001b[0msearch_button\u001b[0m\u001b[1;33m.\u001b[0m\u001b[0mclick\u001b[0m\u001b[1;33m(\u001b[0m\u001b[1;33m)\u001b[0m\u001b[1;33m\u001b[0m\u001b[1;33m\u001b[0m\u001b[0m\n",
      "\u001b[1;32mC:\\ProgramData\\Anaconda3\\lib\\site-packages\\selenium\\webdriver\\remote\\webdriver.py\u001b[0m in \u001b[0;36mfind_element_by_xpath\u001b[1;34m(self, xpath)\u001b[0m\n\u001b[0;32m    518\u001b[0m             \u001b[0mstacklevel\u001b[0m\u001b[1;33m=\u001b[0m\u001b[1;36m2\u001b[0m\u001b[1;33m,\u001b[0m\u001b[1;33m\u001b[0m\u001b[1;33m\u001b[0m\u001b[0m\n\u001b[0;32m    519\u001b[0m         )\n\u001b[1;32m--> 520\u001b[1;33m         \u001b[1;32mreturn\u001b[0m \u001b[0mself\u001b[0m\u001b[1;33m.\u001b[0m\u001b[0mfind_element\u001b[0m\u001b[1;33m(\u001b[0m\u001b[0mby\u001b[0m\u001b[1;33m=\u001b[0m\u001b[0mBy\u001b[0m\u001b[1;33m.\u001b[0m\u001b[0mXPATH\u001b[0m\u001b[1;33m,\u001b[0m \u001b[0mvalue\u001b[0m\u001b[1;33m=\u001b[0m\u001b[0mxpath\u001b[0m\u001b[1;33m)\u001b[0m\u001b[1;33m\u001b[0m\u001b[1;33m\u001b[0m\u001b[0m\n\u001b[0m\u001b[0;32m    521\u001b[0m \u001b[1;33m\u001b[0m\u001b[0m\n\u001b[0;32m    522\u001b[0m     \u001b[1;32mdef\u001b[0m \u001b[0mfind_elements_by_xpath\u001b[0m\u001b[1;33m(\u001b[0m\u001b[0mself\u001b[0m\u001b[1;33m,\u001b[0m \u001b[0mxpath\u001b[0m\u001b[1;33m)\u001b[0m \u001b[1;33m->\u001b[0m \u001b[0mWebElement\u001b[0m\u001b[1;33m:\u001b[0m\u001b[1;33m\u001b[0m\u001b[1;33m\u001b[0m\u001b[0m\n",
      "\u001b[1;32mC:\\ProgramData\\Anaconda3\\lib\\site-packages\\selenium\\webdriver\\remote\\webdriver.py\u001b[0m in \u001b[0;36mfind_element\u001b[1;34m(self, by, value)\u001b[0m\n\u001b[0;32m   1242\u001b[0m             \u001b[0mvalue\u001b[0m \u001b[1;33m=\u001b[0m \u001b[1;34m'[name=\"%s\"]'\u001b[0m \u001b[1;33m%\u001b[0m \u001b[0mvalue\u001b[0m\u001b[1;33m\u001b[0m\u001b[1;33m\u001b[0m\u001b[0m\n\u001b[0;32m   1243\u001b[0m \u001b[1;33m\u001b[0m\u001b[0m\n\u001b[1;32m-> 1244\u001b[1;33m         return self.execute(Command.FIND_ELEMENT, {\n\u001b[0m\u001b[0;32m   1245\u001b[0m             \u001b[1;34m'using'\u001b[0m\u001b[1;33m:\u001b[0m \u001b[0mby\u001b[0m\u001b[1;33m,\u001b[0m\u001b[1;33m\u001b[0m\u001b[1;33m\u001b[0m\u001b[0m\n\u001b[0;32m   1246\u001b[0m             'value': value})['value']\n",
      "\u001b[1;32mC:\\ProgramData\\Anaconda3\\lib\\site-packages\\selenium\\webdriver\\remote\\webdriver.py\u001b[0m in \u001b[0;36mexecute\u001b[1;34m(self, driver_command, params)\u001b[0m\n\u001b[0;32m    422\u001b[0m         \u001b[0mresponse\u001b[0m \u001b[1;33m=\u001b[0m \u001b[0mself\u001b[0m\u001b[1;33m.\u001b[0m\u001b[0mcommand_executor\u001b[0m\u001b[1;33m.\u001b[0m\u001b[0mexecute\u001b[0m\u001b[1;33m(\u001b[0m\u001b[0mdriver_command\u001b[0m\u001b[1;33m,\u001b[0m \u001b[0mparams\u001b[0m\u001b[1;33m)\u001b[0m\u001b[1;33m\u001b[0m\u001b[1;33m\u001b[0m\u001b[0m\n\u001b[0;32m    423\u001b[0m         \u001b[1;32mif\u001b[0m \u001b[0mresponse\u001b[0m\u001b[1;33m:\u001b[0m\u001b[1;33m\u001b[0m\u001b[1;33m\u001b[0m\u001b[0m\n\u001b[1;32m--> 424\u001b[1;33m             \u001b[0mself\u001b[0m\u001b[1;33m.\u001b[0m\u001b[0merror_handler\u001b[0m\u001b[1;33m.\u001b[0m\u001b[0mcheck_response\u001b[0m\u001b[1;33m(\u001b[0m\u001b[0mresponse\u001b[0m\u001b[1;33m)\u001b[0m\u001b[1;33m\u001b[0m\u001b[1;33m\u001b[0m\u001b[0m\n\u001b[0m\u001b[0;32m    425\u001b[0m             response['value'] = self._unwrap_value(\n\u001b[0;32m    426\u001b[0m                 response.get('value', None))\n",
      "\u001b[1;32mC:\\ProgramData\\Anaconda3\\lib\\site-packages\\selenium\\webdriver\\remote\\errorhandler.py\u001b[0m in \u001b[0;36mcheck_response\u001b[1;34m(self, response)\u001b[0m\n\u001b[0;32m    245\u001b[0m                 \u001b[0malert_text\u001b[0m \u001b[1;33m=\u001b[0m \u001b[0mvalue\u001b[0m\u001b[1;33m[\u001b[0m\u001b[1;34m'alert'\u001b[0m\u001b[1;33m]\u001b[0m\u001b[1;33m.\u001b[0m\u001b[0mget\u001b[0m\u001b[1;33m(\u001b[0m\u001b[1;34m'text'\u001b[0m\u001b[1;33m)\u001b[0m\u001b[1;33m\u001b[0m\u001b[1;33m\u001b[0m\u001b[0m\n\u001b[0;32m    246\u001b[0m             \u001b[1;32mraise\u001b[0m \u001b[0mexception_class\u001b[0m\u001b[1;33m(\u001b[0m\u001b[0mmessage\u001b[0m\u001b[1;33m,\u001b[0m \u001b[0mscreen\u001b[0m\u001b[1;33m,\u001b[0m \u001b[0mstacktrace\u001b[0m\u001b[1;33m,\u001b[0m \u001b[0malert_text\u001b[0m\u001b[1;33m)\u001b[0m  \u001b[1;31m# type: ignore[call-arg]  # mypy is not smart enough here\u001b[0m\u001b[1;33m\u001b[0m\u001b[1;33m\u001b[0m\u001b[0m\n\u001b[1;32m--> 247\u001b[1;33m         \u001b[1;32mraise\u001b[0m \u001b[0mexception_class\u001b[0m\u001b[1;33m(\u001b[0m\u001b[0mmessage\u001b[0m\u001b[1;33m,\u001b[0m \u001b[0mscreen\u001b[0m\u001b[1;33m,\u001b[0m \u001b[0mstacktrace\u001b[0m\u001b[1;33m)\u001b[0m\u001b[1;33m\u001b[0m\u001b[1;33m\u001b[0m\u001b[0m\n\u001b[0m\u001b[0;32m    248\u001b[0m \u001b[1;33m\u001b[0m\u001b[0m\n\u001b[0;32m    249\u001b[0m     \u001b[1;32mdef\u001b[0m \u001b[0m_value_or_default\u001b[0m\u001b[1;33m(\u001b[0m\u001b[0mself\u001b[0m\u001b[1;33m,\u001b[0m \u001b[0mobj\u001b[0m\u001b[1;33m:\u001b[0m \u001b[0mMapping\u001b[0m\u001b[1;33m[\u001b[0m\u001b[0m_KT\u001b[0m\u001b[1;33m,\u001b[0m \u001b[0m_VT\u001b[0m\u001b[1;33m]\u001b[0m\u001b[1;33m,\u001b[0m \u001b[0mkey\u001b[0m\u001b[1;33m:\u001b[0m \u001b[0m_KT\u001b[0m\u001b[1;33m,\u001b[0m \u001b[0mdefault\u001b[0m\u001b[1;33m:\u001b[0m \u001b[0m_VT\u001b[0m\u001b[1;33m)\u001b[0m \u001b[1;33m->\u001b[0m \u001b[0m_VT\u001b[0m\u001b[1;33m:\u001b[0m\u001b[1;33m\u001b[0m\u001b[1;33m\u001b[0m\u001b[0m\n",
      "\u001b[1;31mNoSuchElementException\u001b[0m: Message: no such element: Unable to locate element: {\"method\":\"xpath\",\"selector\":\"//*[@id=\"jobSearchPage\"]/div[2]/div/div/div/div/button\"}\n  (Session info: chrome=98.0.4758.102)\nStacktrace:\nBacktrace:\n\tOrdinal0 [0x00E67AC3+2587331]\n\tOrdinal0 [0x00DFADD1+2141649]\n\tOrdinal0 [0x00CF3BB8+1063864]\n\tOrdinal0 [0x00D201CE+1245646]\n\tOrdinal0 [0x00D203CB+1246155]\n\tOrdinal0 [0x00D4A612+1418770]\n\tOrdinal0 [0x00D386D4+1345236]\n\tOrdinal0 [0x00D48A0A+1411594]\n\tOrdinal0 [0x00D384A6+1344678]\n\tOrdinal0 [0x00D153F6+1201142]\n\tOrdinal0 [0x00D162E6+1204966]\n\tGetHandleVerifier [0x0100DF22+1680738]\n\tGetHandleVerifier [0x010C0DBC+2413564]\n\tGetHandleVerifier [0x00EFD151+563089]\n\tGetHandleVerifier [0x00EFBF13+558419]\n\tOrdinal0 [0x00E0081E+2164766]\n\tOrdinal0 [0x00E05508+2184456]\n\tOrdinal0 [0x00E05650+2184784]\n\tOrdinal0 [0x00E0F5BC+2225596]\n\tBaseThreadInitThunk [0x77076739+25]\n\tRtlGetFullPathName_UEx [0x77AF8E7F+1215]\n\tRtlGetFullPathName_UEx [0x77AF8E4D+1165]\n"
     ]
    }
   ],
   "source": []
  },
  {
   "cell_type": "markdown",
   "id": "7edda135",
   "metadata": {},
   "source": [
    "## Q10: Write a python program to scrape the salary data for Data Scientist designation.\n",
    "## You have to scrape Company name, Number of salaries, Average salary, Minsalary, Max Salary. The above task will be, done as shown in the below steps:\n",
    "## 1. First get the webpage https://www.ambitionbox.com/\n",
    "## 2. Click on the salaries option as shown in the image.\n",
    "## ASSIGNMENT 2\n",
    "## 3. After reaching to the following webpage, In place of “Search Job Profile” enters “Data Scientist” and then click on “Data Scientist”.\n",
    "## You have to scrape the data ticked in the above image.\n",
    "## 4. Scrape the data for the first 10 companies. Scrape the company name, total salary record, average salary, minimum salary, maximum salary, experience required.\n",
    "## 5. Store the data in a dataframe."
   ]
  },
  {
   "cell_type": "code",
   "execution_count": null,
   "id": "a7f9790e",
   "metadata": {},
   "outputs": [],
   "source": []
  }
 ],
 "metadata": {
  "kernelspec": {
   "display_name": "Python 3 (ipykernel)",
   "language": "python",
   "name": "python3"
  },
  "language_info": {
   "codemirror_mode": {
    "name": "ipython",
    "version": 3
   },
   "file_extension": ".py",
   "mimetype": "text/x-python",
   "name": "python",
   "nbconvert_exporter": "python",
   "pygments_lexer": "ipython3",
   "version": "3.9.7"
  }
 },
 "nbformat": 4,
 "nbformat_minor": 5
}
